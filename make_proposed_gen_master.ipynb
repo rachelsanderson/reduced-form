{
 "cells": [
  {
   "cell_type": "markdown",
   "metadata": {},
   "source": [
    "## Creates a master file of all entries in proposed generator for EIA 860, 2004-2018"
   ]
  },
  {
   "cell_type": "code",
   "execution_count": 326,
   "metadata": {},
   "outputs": [],
   "source": [
    "import pandas as pd\n",
    "import json\n",
    "import numpy as np"
   ]
  },
  {
   "cell_type": "code",
   "execution_count": 327,
   "metadata": {
    "scrolled": true
   },
   "outputs": [],
   "source": [
    "## Create dictionary of pandas dfs of proposed generators for each year\n",
    "\n",
    "proposed_gen_dfs = {}\n",
    "for year in range(2004,2019):\n",
    "    proposed_df = pd.read_csv(\"../Data for Tax Equity Project/eia_data/eia860\" + str(year) + \n",
    "                                  \"/proposed_gen_\" + str(year) + \".csv\")\n",
    "    proposed_df.columns = map(str.lower, proposed_df.columns)\n",
    "    proposed_gen_dfs[year] = proposed_df\n",
    "    \n",
    "    ## Print out number of entries by year\n",
    "    #print(str(year) + \": \" + str(proposed_df.shape[0]))"
   ]
  },
  {
   "cell_type": "markdown",
   "metadata": {},
   "source": [
    "# Merge DataFrames \n",
    "### This step consists of standardizing column names, because variable names change year to year, then merging\n",
    "### 1. Standardize"
   ]
  },
  {
   "cell_type": "code",
   "execution_count": 329,
   "metadata": {},
   "outputs": [
    {
     "name": "stdout",
     "output_type": "stream",
     "text": [
      "['associated with combined heat and power system'\n",
      " 'can bypass heat recovery steam generator?' 'carbon capture technology'\n",
      " 'carbon capture technology?' 'carboncapture' 'cofire fuels?'\n",
      " 'cogenerator' 'county' 'current month' 'current year' 'current_month'\n",
      " 'current_year' 'duct burners' 'duct_burners' 'effective month'\n",
      " 'effective year' 'effective_month' 'effective_year' 'energy source 1'\n",
      " 'energy source 2' 'energy source 3' 'energy source 4' 'energy source 5'\n",
      " 'energy source 6' 'energy_source_1' 'energy_source_2' 'energy_source_3'\n",
      " 'energy_source_4' 'energy_source_5' 'energy_source_6'\n",
      " 'fluidized bed technology' 'fluidized bed technology?' 'fluidized_bed'\n",
      " 'gencode' 'generator id' 'generator_id' 'multiple fuels'\n",
      " 'multiple fuels?' 'multiple_fuels' 'nameplate' 'nameplate capacity (mw)'\n",
      " 'nameplate power factor' 'operating_switch' 'org_month' 'org_year'\n",
      " 'other combustion technology?' 'owner' 'ownership' 'plant code'\n",
      " 'plant name' 'plant_code' 'plant_name' 'plntcode' 'plntname'\n",
      " 'previously canceled' 'prime mover' 'prime_mover' 'primemover'\n",
      " 'proposed_cogenerator' 'proposed_distgenerator'\n",
      " 'proposed_energy_source_1' 'proposed_energy_source_2'\n",
      " 'proposed_energy_source_3' 'proposed_energy_source_4'\n",
      " 'proposed_energy_source_5' 'proposed_energy_source_6'\n",
      " 'proposed_nameplate' 'proposed_sfg_system' 'proposed_status'\n",
      " 'proposed_summer_capability' 'proposed_transportation_1a'\n",
      " 'proposed_transportation_1b' 'proposed_transportation_1c'\n",
      " 'proposed_transportation_2a' 'proposed_transportation_2b'\n",
      " 'proposed_transportation_2c' 'proposed_turbines'\n",
      " 'proposed_winter_capability' 'pulverized coal technology'\n",
      " 'pulverized coal technology?' 'pulverized_coal'\n",
      " 'rto/iso lmp node designation'\n",
      " 'rto/iso location designation for reporting wholesale sales data to ferc'\n",
      " 'sector' 'sector name' 'sector_name' 'sector_number' 'sfg_system'\n",
      " 'solid fuel gasification system' 'solid fuel gasification system?'\n",
      " 'startup source 1' 'startup source 2' 'startup source 3'\n",
      " 'startup source 4' 'startup_source_1' 'startup_source_2'\n",
      " 'startup_source_3' 'startup_source_4' 'state' 'status'\n",
      " 'stoker technology?' 'subcritical' 'subcritical technology'\n",
      " 'subcritical technology?' 'summer capacity (mw)' 'summer_capability'\n",
      " 'summer_capacity' 'summer_estimated_capability'\n",
      " 'summer_estimated_capacity' 'supercritical' 'supercritical technology'\n",
      " 'supercritical technology?' 'switch between oil and natural gas?'\n",
      " 'technology' 'turbines' 'turbines or hydrokinetic buoys'\n",
      " 'turbines, inverters, or hydrokinetic buoys' 'ultrasupercritical'\n",
      " 'ultrasupercritical technology' 'ultrasupercritical technology?'\n",
      " 'unit code' 'unit_code' 'unnamed: 0' 'utilcode' 'utility id'\n",
      " 'utility name' 'utility_id' 'utility_name' 'utilname'\n",
      " 'winter capacity (mw)' 'winter_capability' 'winter_capacity'\n",
      " 'winter_estimated_capability' 'winter_estimated_capacity']\n"
     ]
    }
   ],
   "source": [
    "## Create dictionary of column names in the list of dataframes (proposed_gen_dfs)\n",
    "## Key = year\n",
    "## Value = list of column names\n",
    "all_cols = {}\n",
    "for x in proposed_gen_dfs:\n",
    "    all_cols[x] = (proposed_gen_dfs[x].columns)\n",
    "unique_cols = [y for x in all_cols.values() for y in x]\n",
    "print(np.unique(unique_cols))\n"
   ]
  },
  {
   "cell_type": "code",
   "execution_count": 330,
   "metadata": {
    "scrolled": true
   },
   "outputs": [],
   "source": [
    "## Function to check whether col names in df_dict are in the newColDict\n",
    "def check_cols_in_colDict(key, df_dict, newColDict):\n",
    "    newColValues =  [y for x in newColDict.values() for y in x]\n",
    "    tempList = [x in newColValues for x in df_dict[key]]\n",
    "    return(np.array(df_dict[key])[[not x for x in tempList]])"
   ]
  },
  {
   "cell_type": "code",
   "execution_count": 331,
   "metadata": {},
   "outputs": [
    {
     "name": "stdout",
     "output_type": "stream",
     "text": [
      "['energy source 1' 'energy source 2' 'energy source 3' 'energy source 4'\n",
      " 'energy source 5' 'energy source 6' 'energy_source_1' 'energy_source_2'\n",
      " 'energy_source_3' 'energy_source_4' 'energy_source_5' 'energy_source_6'\n",
      " 'org_month' 'org_year' 'owner' 'proposed_cogenerator'\n",
      " 'proposed_distgenerator' 'proposed_energy_source_1'\n",
      " 'proposed_energy_source_2' 'proposed_energy_source_3'\n",
      " 'proposed_energy_source_4' 'proposed_energy_source_5'\n",
      " 'proposed_energy_source_6' 'proposed_nameplate' 'proposed_sfg_system'\n",
      " 'proposed_status' 'proposed_summer_capability'\n",
      " 'proposed_transportation_1a' 'proposed_transportation_1b'\n",
      " 'proposed_transportation_1c' 'proposed_transportation_2a'\n",
      " 'proposed_transportation_2b' 'proposed_transportation_2c'\n",
      " 'proposed_turbines' 'proposed_winter_capability' 'startup source 1'\n",
      " 'startup source 2' 'startup source 3' 'startup source 4'\n",
      " 'startup_source_1' 'startup_source_2' 'startup_source_3'\n",
      " 'startup_source_4' 'unnamed: 0']\n"
     ]
    }
   ],
   "source": [
    "## Code for reading in a dictionary and check whether all columns in df are in the dictionary\n",
    "dict_file = '../Data for Tax Equity Project/eia_data/eia_master_files/proposed_gen_columns_dict.json'\n",
    "\n",
    "with open(dict_file) as json_file:\n",
    "    col_dict = json.load(json_file)\n",
    "    \n",
    "missing_cols = []\n",
    "for x in all_cols:\n",
    "    missing_cols.append([x for x in check_cols_in_colDict(x,all_cols,col_dict)])\n",
    "missing_cols = [y for x in missing_cols for y in x]\n",
    "\n",
    "## only energy source/startup source not yet coded\n",
    "print(np.unique(missing_cols))"
   ]
  },
  {
   "cell_type": "markdown",
   "metadata": {},
   "source": [
    "### 2. Merge"
   ]
  },
  {
   "cell_type": "code",
   "execution_count": null,
   "metadata": {},
   "outputs": [],
   "source": []
  },
  {
   "cell_type": "markdown",
   "metadata": {},
   "source": [
    "## Columns to be converted"
   ]
  },
  {
   "cell_type": "code",
   "execution_count": 288,
   "metadata": {},
   "outputs": [],
   "source": [
    "status_codes = {}\n",
    "#IP: Planned new generator cancelled, indefinitely postponed, or no longer in resource plan\n",
    "status_codes['cancelled'] = 'IP'\n",
    "#TS: Construction complete, but not yet in commercial operation\n",
    "status_codes['complete_not_operating'] = 'TS'\n",
    "#P: Planned for installation but regulatory approvals not initiated; not under construction\n",
    "status_codes['planned_not_started'] = 'P'\n",
    "#L: Regulatory approvals pending; not under construction but site preparation could be underway\n",
    "status_codes['reg_approval_pending'] = 'L'\n",
    "#T: Regulatory approvals received; but not under construction but site preparation could be underway\n",
    "status_codes['reg_approval_received'] = 'T'\n",
    "#U: Under construction, less than or equal to 50 percent complete (based on construction time to date of operation)\n",
    "status_codes['under_construction'] = 'U' \n",
    "#V: Under construction, more than 50 percent complete (based on construction time to date of operation)\n",
    "status_codes['almost_done'] = 'V'\n",
    "# Other (described in Comments)\n",
    "status_codes['other'] = 'OT'\n"
   ]
  },
  {
   "cell_type": "code",
   "execution_count": 290,
   "metadata": {},
   "outputs": [],
   "source": [
    "prime_mover_codes = {}\n",
    "# ST\tSteam Turbine, including nuclear, geothermal and solar steam  (does not include combined cycle) \n",
    "# GT\tCombustion (Gas) Turbine (includes jet engine design)\n",
    "# IC\tInternal Combustion Engine (diesel, piston)  \n",
    "# CA\tCombined Cycle Steam Part \n",
    "# CT\tCombined Cycle Combustion Turbine Part \n",
    "# CS\tCombined Cycle Single Shaft (combustion turbine and steam turbine share a single generator)\n",
    "# CC\tCombined Cycle - Total Unit\n",
    "# HY\tHydraulic Turbine (includes turbines associated with delivery of water by pipeline)\n",
    "# PS\tHydraulic Turbine – Reversible (pumped storage)\n",
    "# BT\tTurbines used in a binary cycle such as geothermal\n",
    "# PV\tPhotovoltaic\n",
    "# WT\tWind Turbine\n",
    "# CE\tCompressed Air Energy Storage\n",
    "# FC\tFuel Cell \n",
    "# OT\tOther\n",
    "# NA\tUnknown at this time (use only for plants/generators in planning stage)"
   ]
  },
  {
   "cell_type": "markdown",
   "metadata": {},
   "source": [
    "### Table to make: is average capacity addition by year"
   ]
  },
  {
   "cell_type": "code",
   "execution_count": 291,
   "metadata": {},
   "outputs": [],
   "source": [
    "def makeCapacitySeries(df):\n",
    "    capVar = [i for i in df.columns if \"nameplate\" in i][0]\n",
    "    capList = pd.to_numeric(df[capVar])\n",
    "    return(capList)"
   ]
  },
  {
   "cell_type": "code",
   "execution_count": 292,
   "metadata": {
    "scrolled": false
   },
   "outputs": [
    {
     "data": {
      "text/plain": [
       "<matplotlib.axes._subplots.AxesSubplot at 0x1251db390>"
      ]
     },
     "execution_count": 292,
     "metadata": {},
     "output_type": "execute_result"
    },
    {
     "data": {
      "image/png": "[encoded data removed]",
      "text/plain": [
       "<Figure size 432x288 with 1 Axes>"
      ]
     },
     "metadata": {
      "needs_background": "light"
     },
     "output_type": "display_data"
    }
   ],
   "source": [
    "makeCapacitySeries(makeGenOfTypeDF(2012)).plot.hist()"
   ]
  },
  {
   "cell_type": "code",
   "execution_count": 293,
   "metadata": {},
   "outputs": [
    {
     "ename": "NameError",
     "evalue": "name 'calc_mean_capacity' is not defined",
     "output_type": "error",
     "traceback": [
      "\u001b[0;31m---------------------------------------------------------------------------\u001b[0m",
      "\u001b[0;31mNameError\u001b[0m                                 Traceback (most recent call last)",
      "\u001b[0;32m<ipython-input-293-603ff52a2906>\u001b[0m in \u001b[0;36m<module>\u001b[0;34m\u001b[0m\n\u001b[1;32m      1\u001b[0m \u001b[0;32mfor\u001b[0m \u001b[0mx\u001b[0m \u001b[0;32min\u001b[0m \u001b[0mproposed_gen_dfs\u001b[0m\u001b[0;34m:\u001b[0m\u001b[0;34m\u001b[0m\u001b[0;34m\u001b[0m\u001b[0m\n\u001b[0;32m----> 2\u001b[0;31m     \u001b[0mprint\u001b[0m\u001b[0;34m(\u001b[0m\u001b[0mstr\u001b[0m\u001b[0;34m(\u001b[0m\u001b[0mx\u001b[0m\u001b[0;34m)\u001b[0m \u001b[0;34m+\u001b[0m \u001b[0;34m\" : \"\u001b[0m \u001b[0;34m+\u001b[0m \u001b[0mstr\u001b[0m\u001b[0;34m(\u001b[0m\u001b[0mcalc_mean_capacity\u001b[0m\u001b[0;34m(\u001b[0m\u001b[0mproposed_gen_dfs\u001b[0m\u001b[0;34m[\u001b[0m\u001b[0mx\u001b[0m\u001b[0;34m]\u001b[0m\u001b[0;34m)\u001b[0m\u001b[0;34m.\u001b[0m\u001b[0mdescribe\u001b[0m\u001b[0;34m(\u001b[0m\u001b[0;34m)\u001b[0m\u001b[0;34m)\u001b[0m\u001b[0;34m)\u001b[0m\u001b[0;34m\u001b[0m\u001b[0;34m\u001b[0m\u001b[0m\n\u001b[0m",
      "\u001b[0;31mNameError\u001b[0m: name 'calc_mean_capacity' is not defined"
     ]
    }
   ],
   "source": [
    "for x in proposed_gen_dfs:\n",
    "    print(str(x) + \" : \" + str(calc_mean_capacity(proposed_gen_dfs[x]).describe()))"
   ]
  },
  {
   "cell_type": "code",
   "execution_count": 118,
   "metadata": {},
   "outputs": [],
   "source": [
    "grant_recipients = pd.read_excel(\"../Data for Tax Equity Project/treasury_data/grant_awards.xlsx\", header=1)\n",
    "solar_grants = grant_recipients[[(\"Solar\" in str(i)) for i in grant_recipients['Technology']]]"
   ]
  },
  {
   "cell_type": "code",
   "execution_count": 124,
   "metadata": {},
   "outputs": [
    {
     "data": {
      "text/html": [
       "<div>\n",
       "<style scoped>\n",
       "    .dataframe tbody tr th:only-of-type {\n",
       "        vertical-align: middle;\n",
       "    }\n",
       "\n",
       "    .dataframe tbody tr th {\n",
       "        vertical-align: top;\n",
       "    }\n",
       "\n",
       "    .dataframe thead th {\n",
       "        text-align: right;\n",
       "    }\n",
       "</style>\n",
       "<table border=\"1\" class=\"dataframe\">\n",
       "  <thead>\n",
       "    <tr style=\"text-align: right;\">\n",
       "      <th></th>\n",
       "      <th>Business Name</th>\n",
       "      <th>State</th>\n",
       "      <th>Technology</th>\n",
       "      <th>Funded</th>\n",
       "      <th>Award Date</th>\n",
       "    </tr>\n",
       "  </thead>\n",
       "  <tbody>\n",
       "    <tr>\n",
       "      <td>3</td>\n",
       "      <td>Alaska Airlines Inc.</td>\n",
       "      <td>AK</td>\n",
       "      <td>Solar Electricity</td>\n",
       "      <td>19238.0</td>\n",
       "      <td>2012-07-10 00:00:00</td>\n",
       "    </tr>\n",
       "    <tr>\n",
       "      <td>4</td>\n",
       "      <td>Ron Levy Photography</td>\n",
       "      <td>AK</td>\n",
       "      <td>Solar Electricity</td>\n",
       "      <td>4010.0</td>\n",
       "      <td>2012-04-11 00:00:00</td>\n",
       "    </tr>\n",
       "    <tr>\n",
       "      <td>10</td>\n",
       "      <td>Atlantic Windshield Repair Inc</td>\n",
       "      <td>AL</td>\n",
       "      <td>Solar Electricity</td>\n",
       "      <td>8270.0</td>\n",
       "      <td>2012-12-17 00:00:00</td>\n",
       "    </tr>\n",
       "    <tr>\n",
       "      <td>11</td>\n",
       "      <td>BBVA Compass</td>\n",
       "      <td>AL</td>\n",
       "      <td>Solar Electricity</td>\n",
       "      <td>24000.0</td>\n",
       "      <td>2011-10-12 00:00:00</td>\n",
       "    </tr>\n",
       "    <tr>\n",
       "      <td>12</td>\n",
       "      <td>Classic Car</td>\n",
       "      <td>AL</td>\n",
       "      <td>Solar Electricity</td>\n",
       "      <td>45058.0</td>\n",
       "      <td>2012-12-17 00:00:00</td>\n",
       "    </tr>\n",
       "    <tr>\n",
       "      <td>...</td>\n",
       "      <td>...</td>\n",
       "      <td>...</td>\n",
       "      <td>...</td>\n",
       "      <td>...</td>\n",
       "      <td>...</td>\n",
       "    </tr>\n",
       "    <tr>\n",
       "      <td>9991</td>\n",
       "      <td>Silverthorn Properties LLC</td>\n",
       "      <td>WI</td>\n",
       "      <td>Solar Thermal</td>\n",
       "      <td>4065.0</td>\n",
       "      <td>2010-10-22 00:00:00</td>\n",
       "    </tr>\n",
       "    <tr>\n",
       "      <td>9992</td>\n",
       "      <td>Traveling Hunter Investments LLC</td>\n",
       "      <td>WI</td>\n",
       "      <td>Solar Thermal</td>\n",
       "      <td>8294.0</td>\n",
       "      <td>2010-08-25 00:00:00</td>\n",
       "    </tr>\n",
       "    <tr>\n",
       "      <td>10004</td>\n",
       "      <td>Sentry Security Systems, LLC</td>\n",
       "      <td>WV</td>\n",
       "      <td>Solar Electricity</td>\n",
       "      <td>480.0</td>\n",
       "      <td>2012-03-23 00:00:00</td>\n",
       "    </tr>\n",
       "    <tr>\n",
       "      <td>10005</td>\n",
       "      <td>B. Taylor Triea, LLC</td>\n",
       "      <td>WV</td>\n",
       "      <td>Solar Thermal</td>\n",
       "      <td>4977.0</td>\n",
       "      <td>2012-05-16 00:00:00</td>\n",
       "    </tr>\n",
       "    <tr>\n",
       "      <td>10010</td>\n",
       "      <td>Union Wireless</td>\n",
       "      <td>WY</td>\n",
       "      <td>Solar Electricity</td>\n",
       "      <td>64070.0</td>\n",
       "      <td>2013-03-14 00:00:00</td>\n",
       "    </tr>\n",
       "  </tbody>\n",
       "</table>\n",
       "<p>8534 rows × 5 columns</p>\n",
       "</div>"
      ],
      "text/plain": [
       "                          Business Name State         Technology   Funded  \\\n",
       "3                  Alaska Airlines Inc.    AK  Solar Electricity  19238.0   \n",
       "4                  Ron Levy Photography    AK  Solar Electricity   4010.0   \n",
       "10       Atlantic Windshield Repair Inc    AL  Solar Electricity   8270.0   \n",
       "11                         BBVA Compass    AL  Solar Electricity  24000.0   \n",
       "12                          Classic Car    AL  Solar Electricity  45058.0   \n",
       "...                                 ...   ...                ...      ...   \n",
       "9991         Silverthorn Properties LLC    WI      Solar Thermal   4065.0   \n",
       "9992   Traveling Hunter Investments LLC    WI      Solar Thermal   8294.0   \n",
       "10004      Sentry Security Systems, LLC    WV  Solar Electricity    480.0   \n",
       "10005              B. Taylor Triea, LLC    WV      Solar Thermal   4977.0   \n",
       "10010                    Union Wireless    WY  Solar Electricity  64070.0   \n",
       "\n",
       "                Award Date  \n",
       "3      2012-07-10 00:00:00  \n",
       "4      2012-04-11 00:00:00  \n",
       "10     2012-12-17 00:00:00  \n",
       "11     2011-10-12 00:00:00  \n",
       "12     2012-12-17 00:00:00  \n",
       "...                    ...  \n",
       "9991   2010-10-22 00:00:00  \n",
       "9992   2010-08-25 00:00:00  \n",
       "10004  2012-03-23 00:00:00  \n",
       "10005  2012-05-16 00:00:00  \n",
       "10010  2013-03-14 00:00:00  \n",
       "\n",
       "[8534 rows x 5 columns]"
      ]
     },
     "execution_count": 124,
     "metadata": {},
     "output_type": "execute_result"
    }
   ],
   "source": [
    "solar_grants"
   ]
  },
  {
   "cell_type": "code",
   "execution_count": null,
   "metadata": {},
   "outputs": [],
   "source": []
  },
  {
   "cell_type": "code",
   "execution_count": null,
   "metadata": {},
   "outputs": [],
   "source": []
  },
  {
   "cell_type": "code",
   "execution_count": 1,
   "metadata": {},
   "outputs": [],
   "source": [
    "## make data frame for all generators planned before 2008 and after"
   ]
  },
  {
   "cell_type": "code",
   "execution_count": null,
   "metadata": {},
   "outputs": [],
   "source": []
  },
  {
   "cell_type": "code",
   "execution_count": null,
   "metadata": {},
   "outputs": [],
   "source": []
  },
  {
   "cell_type": "code",
   "execution_count": null,
   "metadata": {},
   "outputs": [],
   "source": []
  }
 ],
 "metadata": {
  "kernelspec": {
   "display_name": "Python 3",
   "language": "python",
   "name": "python3"
  },
  "language_info": {
   "codemirror_mode": {
    "name": "ipython",
    "version": 3
   },
   "file_extension": ".py",
   "mimetype": "text/x-python",
   "name": "python",
   "nbconvert_exporter": "python",
   "pygments_lexer": "ipython3",
   "version": "3.7.4"
  }
 },
 "nbformat": 4,
 "nbformat_minor": 2
}
