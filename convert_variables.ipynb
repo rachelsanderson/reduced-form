{
 "cells": [
  {
   "cell_type": "code",
   "execution_count": null,
   "metadata": {},
   "outputs": [],
   "source": [
    "status_codes = {}\n",
    "#IP: Planned new generator cancelled, indefinitely postponed, or no longer in resource plan\n",
    "status_codes['cancelled'] = 'IP'\n",
    "#TS: Construction complete, but not yet in commercial operation\n",
    "status_codes['complete_not_operating'] = 'TS'\n",
    "#P: Planned for installation but regulatory approvals not initiated; not under construction\n",
    "status_codes['planned_not_started'] = 'P'\n",
    "#L: Regulatory approvals pending; not under construction but site preparation could be underway\n",
    "status_codes['reg_approval_pending'] = 'L'\n",
    "#T: Regulatory approvals received; but not under construction but site preparation could be underway\n",
    "status_codes['reg_approval_received'] = 'T'\n",
    "#U: Under construction, less than or equal to 50 percent complete (based on construction time to date of operation)\n",
    "status_codes['under_construction'] = 'U' \n",
    "#V: Under construction, more than 50 percent complete (based on construction time to date of operation)\n",
    "status_codes['almost_done'] = 'V'\n",
    "# Other (described in Comments)\n",
    "status_codes['other'] = 'OT'\n"
   ]
  },
  {
   "cell_type": "code",
   "execution_count": null,
   "metadata": {},
   "outputs": [],
   "source": [
    "prime_mover_codes = {}\n",
    "# ST\tSteam Turbine, including nuclear, geothermal and solar steam  (does not include combined cycle) \n",
    "# GT\tCombustion (Gas) Turbine (includes jet engine design)\n",
    "# IC\tInternal Combustion Engine (diesel, piston)  \n",
    "# CA\tCombined Cycle Steam Part \n",
    "# CT\tCombined Cycle Combustion Turbine Part \n",
    "# CS\tCombined Cycle Single Shaft (combustion turbine and steam turbine share a single generator)\n",
    "# CC\tCombined Cycle - Total Unit\n",
    "# HY\tHydraulic Turbine (includes turbines associated with delivery of water by pipeline)\n",
    "# PS\tHydraulic Turbine – Reversible (pumped storage)\n",
    "# BT\tTurbines used in a binary cycle such as geothermal\n",
    "# PV\tPhotovoltaic\n",
    "# WT\tWind Turbine\n",
    "# CE\tCompressed Air Energy Storage\n",
    "# FC\tFuel Cell \n",
    "# OT\tOther\n",
    "# NA\tUnknown at this time (use only for plants/generators in planning stage)"
   ]
  }
 ],
 "metadata": {
  "kernelspec": {
   "display_name": "Python 3",
   "language": "python",
   "name": "python3"
  },
  "language_info": {
   "codemirror_mode": {
    "name": "ipython",
    "version": 3
   },
   "file_extension": ".py",
   "mimetype": "text/x-python",
   "name": "python",
   "nbconvert_exporter": "python",
   "pygments_lexer": "ipython3",
   "version": "3.7.4"
  }
 },
 "nbformat": 4,
 "nbformat_minor": 2
}
