{
 "cells": [
  {
   "cell_type": "code",
   "execution_count": 2,
   "metadata": {},
   "outputs": [],
   "source": [
    "import pandas as pd\n",
    "import matplotlib as plt\n",
    "import re\n",
    "import json\n",
    "%matplotlib inline\n",
    "dataDir = '/Users/rachelanderson/Dropbox (Princeton)/Data for Tax Equity Project/'\n",
    " \n",
    "with open(dataDir + 'JSONFiles/parent_utility_dict.txt') as outfile:\n",
    "    parent_dict = json.load(outfile)"
   ]
  },
  {
   "cell_type": "markdown",
   "metadata": {},
   "source": [
    "## make master list of utility names from utility dataset, generator dataset, and owners dataset"
   ]
  },
  {
   "cell_type": "markdown",
   "metadata": {},
   "source": [
    "### Read in relevant datasets"
   ]
  },
  {
   "cell_type": "code",
   "execution_count": 3,
   "metadata": {},
   "outputs": [
    {
     "name": "stderr",
     "output_type": "stream",
     "text": [
      "/Users/rachelanderson/opt/anaconda3/lib/python3.7/site-packages/IPython/core/interactiveshell.py:3058: DtypeWarning: Columns (16,39,43) have mixed types. Specify dtype option on import or set low_memory=False.\n",
      "  interactivity=interactivity, compiler=compiler, result=result)\n"
     ]
    }
   ],
   "source": [
    "owners = pd.read_csv(dataDir + 'master_company_list_2018/owners2018.csv')\n",
    "gen_data = pd.read_csv(dataDir + 'master_company_list_2018/gen_2018.csv')\n",
    "utils = pd.read_csv(dataDir + 'master_company_list_2018/utils_2018.csv')"
   ]
  },
  {
   "cell_type": "code",
   "execution_count": 4,
   "metadata": {},
   "outputs": [],
   "source": [
    "dfList = [owners, gen_data, utils]\n"
   ]
  },
  {
   "cell_type": "code",
   "execution_count": 5,
   "metadata": {},
   "outputs": [
    {
     "data": {
      "text/plain": [
       "Index(['Unnamed: 0', 'utility_id', 'utility_name', 'plant_code', 'plant_name',\n",
       "       'state', 'generator_id', 'status', 'owner_name', 'owner_street_address',\n",
       "       'owner_city', 'owner_state', 'owner_zip', 'ownership_id',\n",
       "       'percent_owned', 'perc_owned', 'num_owners', 'idx', 'owner_1',\n",
       "       'owner_2', 'owner_3', 'owner_4', 'perc_owner_1', 'perc_owner_2',\n",
       "       'perc_owner_3', 'perc_owner_4'],\n",
       "      dtype='object')"
      ]
     },
     "execution_count": 5,
     "metadata": {},
     "output_type": "execute_result"
    }
   ],
   "source": [
    "owners.columns"
   ]
  },
  {
   "cell_type": "code",
   "execution_count": 6,
   "metadata": {},
   "outputs": [],
   "source": [
    "owners.rename(columns = {'owner_name':'company_name', \n",
    "                         'owner_street_address':'company_address',\n",
    "                         'owner_state': 'company_state',\n",
    "                          'owner_city': 'company_city',\n",
    "                          'owner_zip': 'company_zip',\n",
    "                           'ownership_id': 'company_id'},inplace=True)\n",
    "gen_data.rename(columns = {'utility_name':'company_name'}, inplace=True)\n",
    "utils.rename(columns = {'utility_name':'company_name',\n",
    "                       'utility_id': 'company_id',\n",
    "                        'street_address':'company_address',\n",
    "                         'state':'company_state',\n",
    "                         'city': 'company_city', \n",
    "                          'zip':'company_zip'},inplace=True)"
   ]
  },
  {
   "cell_type": "code",
   "execution_count": 7,
   "metadata": {},
   "outputs": [
    {
     "ename": "NameError",
     "evalue": "name 'companies' is not defined",
     "output_type": "error",
     "traceback": [
      "\u001b[0;31m---------------------------------------------------------------------------\u001b[0m",
      "\u001b[0;31mNameError\u001b[0m                                 Traceback (most recent call last)",
      "\u001b[0;32m<ipython-input-7-3403df7c24ca>\u001b[0m in \u001b[0;36m<module>\u001b[0;34m\u001b[0m\n\u001b[0;32m----> 1\u001b[0;31m \u001b[0mcompanies\u001b[0m\u001b[0;34m.\u001b[0m\u001b[0mhead\u001b[0m\u001b[0;34m(\u001b[0m\u001b[0;36m10\u001b[0m\u001b[0;34m)\u001b[0m\u001b[0;34m\u001b[0m\u001b[0;34m\u001b[0m\u001b[0m\n\u001b[0m",
      "\u001b[0;31mNameError\u001b[0m: name 'companies' is not defined"
     ]
    }
   ],
   "source": [
    "companies.head(10)"
   ]
  },
  {
   "cell_type": "code",
   "execution_count": 8,
   "metadata": {
    "scrolled": false
   },
   "outputs": [],
   "source": [
    "# make df with master list of companies (utilities + owners)\n",
    "companyVals = ['name', 'address','state','city','zip','id']\n",
    "companyVals = ['company_' + x for x in companyVals]\n",
    "companies = owners[companyVals].append(utils[companyVals])\n",
    "# select unique combos\n",
    "companies.drop_duplicates(inplace=True)"
   ]
  },
  {
   "cell_type": "code",
   "execution_count": 9,
   "metadata": {},
   "outputs": [],
   "source": [
    "names = gen_data['company_name'].drop_duplicates()\n",
    "# I found that no names in gen data are not contained in the other datasets, so I don't merge it in"
   ]
  },
  {
   "cell_type": "code",
   "execution_count": 10,
   "metadata": {},
   "outputs": [],
   "source": [
    "def shorten_rd(address):\n",
    "    '''Completes the road type. I.e. Rd becomes Road, st becomes Street as per Google etc.'''\n",
    "    address = address.title()\n",
    "    address = re.sub(r\" Street(?=$| [NE(So|S$)(We|W$)])\", ' St', address)\n",
    "    address = re.sub(r\" Road(?=$| [NE(So|S$)(We|W$)])\", ' Rd', address)\n",
    "    address = re.sub(r\"(?<!The) Avenue(?=$| [NE(So|S$)(We|W$)])\", ' Ave', address)\n",
    "    address = re.sub(r\" Close(?=$| [NE(So|S$)(We|W$)])\", ' Cl', address)\n",
    "    address = re.sub(r\" Court(?=$| [NE(So|S$)(We|W$)])\", ' Ct', address)\n",
    "    address = re.sub(r\"(?<!The) Crescent(?=$| [NE(So|S$)(We|W$)])\", ' Cres', address)\n",
    "    address = re.sub(r\" Boulevarde?(?=$| [NE(So|S$)(We|W$)])\", ' Blvd', address)\n",
    "    address = re.sub(r\" Drive(?=$| [NE(So|S$)(We|W$)])\", ' Dr', address)\n",
    "    address = re.sub(r\" Lane(?=$| [NE(So|S$)(We|W$)])\", ' Ln', address)\n",
    "    address = re.sub(r\" Place(?=$| [NE(So|S$)(We|W$)])\", ' Pl', address)\n",
    "    address = re.sub(r\" Square(?=$| [NE(So|S$)(We|W$)])\", ' Sq', address)\n",
    "    address = re.sub(r\"(?<!The) Parade(?=$| [NE(So|S$)(We|W$)])\", ' Pde', address)\n",
    "    address = re.sub(r\" Circuit(?=$| [NE(So|S$)(We|W$)])\", ' Cct', address)\n",
    "    return address\n",
    "\n",
    "def lengthen_rd(address):\n",
    "    address = address.title()\n",
    "    address = re.sub(r\" St(?=$| [NE(So|S$)(We|W$)])\", \" Street\", address)\n",
    "    address = re.sub(r\" Rd(?=$| [NE(So|S$)(We|W$)])\", \" Road\", address)\n",
    "    address = re.sub(r\" Ave(?=$| [NE(So|S$)(We|W$)])\", \" Avenue\", address)\n",
    "    address = re.sub(r\" Cl(?=$| [NE(So|S$)(We|W$)])\", \" Close\", address)\n",
    "    address = re.sub(r\" Ct(?=$| [NE(So|S$)(We|W$)])\", \" Court\", address)\n",
    "    address = re.sub(r\" Cres(?=$| [NE(So|S$)(We|W$)])\", \" Crescent\", address)\n",
    "    address = re.sub(r\" Blvd(?=$| [NE(So|S$)(We|W$)])\", \" Boulevard\", address)\n",
    "    address = re.sub(r\" Dr(?=$| [NE(So|S$)(We|W$)])\", \" Drive\", address)\n",
    "    address = re.sub(r\" Ln(?=$| [NE(So|S$)(We|W$)])\", \" Lane\", address)\n",
    "    address = re.sub(r\" Pl(?=$| [NE(So|S$)(We|W$)])\", \" Place\", address)\n",
    "    address = re.sub(r\" Sq(?=$| [NE(So|S$)(We|W$)])\", \" Square\", address)\n",
    "    address = re.sub(r\" Pde(?=$| [NE(So|S$)(We|W$)])\", \" Parade\", address)\n",
    "    address = re.sub(r\" Cct(?=$| [NE(So|S$)(We|W$)])\", \" Circuit\", address)\n",
    "    return address\n",
    "\n",
    "def standard_addr(address):\n",
    "    '''Checks for unit numbers and street addresses and puts them in the standard format''' \n",
    "    #print(\"################################\")\n",
    "    #print(\"### Address: \", address)\n",
    "    unit_nums = re.findall(r\"(?<=Unit )\\w?\\d+\\w?|(?<=U)\\d+\\w?|\\w?\\d+\\w?(?=\\s*/)\", address)\n",
    "    unit_num = unit_nums[0] if len(unit_nums)==1 else \"\"\n",
    "    #print(\"Unit Number: \", unit_num)\n",
    "    proc_addr = re.sub(r\"Unit \\w?\\d+\\w?/?|U\\d+\\w?/?|\\w?\\d+\\w?\\s*/\", \"\", address)\n",
    "    proc_addr = re.sub(r\"^[,\\- ]+|[,\\- ]+$\", \"\", proc_addr)\n",
    "    #print(\"Unitless address: \", proc_addr)\n",
    "    type_opts = r\"Terrace|Way|Walk|St|Rd|Ave|Cl|Ct|Cres|Blvd|Dr|Ln|Pl|Sq|Pde|Cct\"\n",
    "    road_attrs_pattern = r\"(?P<rd_no>\\w?\\d+(\\-\\d+)?\\w?\\s+)(?P<rd_nm>[a-zA-z \\d\\-]+)\\s+(?P<rd_tp>\" + type_opts + \")\"\n",
    "    #print(\"Road Attr Pattern: \", road_attrs_pattern)\n",
    "    road_attrs = re.search(road_attrs_pattern, proc_addr)\n",
    "    try:\n",
    "        road_num = road_attrs.group('rd_no').strip()\n",
    "    except AttributeError:\n",
    "        road_num = \"\"\n",
    "    #print(\"Road number: \", road_num)\n",
    "    try:\n",
    "        road_name = road_attrs.group('rd_nm').strip()\n",
    "    except AttributeError:\n",
    "        road_name = \"\"\n",
    "    #print(\"Road name: \", road_name)\n",
    "    try:\n",
    "        road_type = road_attrs.group('rd_tp').strip()\n",
    "    except AttributeError:\n",
    "        road_type = \"\"\n",
    "    #print(\"Road type: \", road_type)\n",
    "    proc_addr = lengthen_rd(re.sub(r\"^[,\\- ]+|[,\\- ]+$\", \"\", re.sub(road_attrs_pattern, \"\", proc_addr)))\n",
    "    #print(\"Leftover: \", proc_addr)\n",
    "\n",
    "    unit_seg = (unit_num + \"/\" if unit_num!=\"\" else \"\") if road_num != \"\" else (\"Unit \" + unit_num + \", \" if unit_num!=\"\" else \"\")\n",
    "    road_seg = ((road_num + \" \" if road_num!=\"\" else \"\") + road_name + \" \" + road_type).strip()\n",
    "    post_road_seg = \" \" + proc_addr if proc_addr != \"\" else \"\"\n",
    "    proc_addr = (unit_seg + road_seg) + post_road_seg\n",
    "    #print(\"### Processed Address: \", proc_addr)\n",
    "    return proc_addr"
   ]
  },
  {
   "cell_type": "code",
   "execution_count": null,
   "metadata": {},
   "outputs": [],
   "source": []
  },
  {
   "cell_type": "code",
   "execution_count": 11,
   "metadata": {},
   "outputs": [],
   "source": [
    "# clean addresses\n",
    "companies['raw_address'] = companies['company_address']\n",
    "companies['company_address'] =companies['raw_address'].apply(lambda x: standard_addr(str(x)))"
   ]
  },
  {
   "cell_type": "code",
   "execution_count": 12,
   "metadata": {},
   "outputs": [],
   "source": [
    "# first assign company name a common var\n",
    "companies['name_group'] = companies.groupby('company_name').grouper.group_info[0]\n",
    "\n",
    "# drop non-unique rows\n",
    "# temp = companies.drop_duplicates(subset='company_name', keep=\"first\")\n",
    "\n",
    "# now assign clean address common var\n",
    "companies['address_group']=companies.groupby('company_address').grouper.group_info[0]\n",
    "\n",
    "#counts how many we drop\n",
    "# temp = temp.drop_duplicates(subset='company_address', keep=\"first\")"
   ]
  },
  {
   "cell_type": "code",
   "execution_count": 13,
   "metadata": {},
   "outputs": [],
   "source": [
    "def apply_parent_dict(df, name, par_dict):\n",
    "    df['parent_group'] = df[name].map(par_dict)\n",
    "    df['parent_group']=df['parent_group'].fillna(df[name])\n",
    "    df['parent_group'] = df['parent_group'].apply(lambda x: \"Duke Energy\" if \"Duke Energy\" in x else x)\n",
    "    df['parent_group'] = df['parent_group'].apply(lambda x: \"NextEra\" if \"NextEra\" in x else x)\n",
    "    df['parent_group'] = df['parent_group'].apply(lambda x: \"NRG\" if \"NRG\" in x else x)\n",
    "    df['parent_group'] = df['parent_group'].apply(lambda x: \"Solar Star\" if \"Solar Star\" in x else x)\n",
    "    df['parent_group'] = df['parent_group'].apply(lambda x: \"NRG\" if \"Agua Caliente Solar\" in x else x)\n",
    "    df['parent_group'] = df['parent_group'].apply(lambda x: \"NextEra\" if \"Blythe Solar\" in x else x)\n",
    "    df['parent_group'] = df['parent_group'].apply(lambda x: \"8me\" if \"8me\" in x.lower() else x)\n",
    "    df['parent_group'] = df['parent_group'].apply(lambda x: \"Exelon\" if \"AV Solar\" in x else x)\n",
    "    return(df)"
   ]
  },
  {
   "cell_type": "code",
   "execution_count": 14,
   "metadata": {},
   "outputs": [],
   "source": [
    "# now do parent dict... can drop those and deal with remainder\n",
    "\n",
    "companies = apply_parent_dict(companies, 'company_name', parent_dict)\n"
   ]
  },
  {
   "cell_type": "code",
   "execution_count": 15,
   "metadata": {},
   "outputs": [],
   "source": [
    "companies = companies.sort_values('name_group')\n",
    "name_dict = dict(zip(companies.company_name, companies.name_group))\n",
    "address_dict = dict(zip(companies.company_name, companies.address_group))\n",
    "par_dict =  dict(zip(companies.company_name, companies.parent_group))\n",
    "\n"
   ]
  },
  {
   "cell_type": "code",
   "execution_count": 26,
   "metadata": {},
   "outputs": [
    {
     "name": "stdout",
     "output_type": "stream",
     "text": [
      "company_name            10 Briggs Solar NG, LLC\n",
      "company_address    267 Water St Reet, 2Nd Floor\n",
      "company_state                                RI\n",
      "company_city                             Warren\n",
      "company_zip                               02885\n",
      "company_id                                62685\n",
      "raw_address         267 Water Street, 2nd Floor\n",
      "name_group                                    0\n",
      "address_group                              2984\n",
      "parent_group            10 Briggs Solar NG, LLC\n",
      "Name: 4964, dtype: object\n"
     ]
    }
   ],
   "source": [
    "\n"
   ]
  },
  {
   "cell_type": "code",
   "execution_count": 38,
   "metadata": {},
   "outputs": [],
   "source": [
    "def group_two_col(df, col1, col2):\n",
    "    address_map = {} # is col1\n",
    "    name_map = {} # is col2 \n",
    "    group_id = [] # maps to each row in rows\n",
    "    maximum_group = 0\n",
    "\n",
    "    \n",
    "    for  index, row in df.iterrows():\n",
    "\n",
    "        if address_map.get(row[col1]) is not None:\n",
    "            group_id.append(address_map[row[col1]]) \n",
    "            if name_map.get(row[col2]) is None:\n",
    "                name_map[row[col2]] = address_map[row[col1]]\n",
    "            continue\n",
    "\n",
    "        if name_map.get(row[col2]) is not None:\n",
    "            group_id.append(name_map[row[col2]])\n",
    "        \n",
    "            if address_map.get(row[col1]) is None:\n",
    "                address_map[row[col1]] = name_map[row[col2]]\n",
    "            continue\n",
    "  \n",
    "  # If we're here no group found, insert new group\n",
    "        address_map[row[col1]] = maximum_group + 1 # new group id\n",
    "        name_map[row[col2]] = maximum_group + 1 # new group id\n",
    "\n",
    "        group_id.append(maximum_group + 1)\n",
    "\n",
    "        maximum_group += 1\n",
    "    \n",
    "    return(group_id)\n",
    "    "
   ]
  },
  {
   "cell_type": "code",
   "execution_count": 30,
   "metadata": {},
   "outputs": [],
   "source": [
    "# Dicts that map feature -> group\n",
    "\n",
    "for  index, row in companies.iterrows():\n",
    "    \"\"\"\n",
    "      # Uncomment for debug\n",
    "      print(\"map\", name_map)\n",
    "        print(\"name\", row[1])\n",
    "      print(\"get result\", name_map.get(row[1]))\n",
    "      print(\"\\n\\n\")\n",
    "    \"\"\"\n",
    "\n",
    "    if address_map.get(row['company_address']) is not None:\n",
    "        group_id.append(address_map[row['company_address']]) \n",
    "        if name_map.get(row['company_name']) is None:\n",
    "            name_map[row['company_name']] = address_map[row['company_address']]\n",
    "        continue\n",
    "\n",
    "    if name_map.get(row['company_name']) is not None:\n",
    "        group_id.append(name_map[row['company_name']])\n",
    "        \n",
    "        if address_map.get(row['company_address']) is None:\n",
    "            address_map[row['company_address']] = name_map[row['company_name']]\n",
    "        continue\n",
    "  \n",
    "  # If we're here no group found, insert new group\n",
    "    address_map[row['company_address']] = maximum_group + 1 # new group id\n",
    "    name_map[row['company_name']] = maximum_group + 1 # new group id\n",
    "\n",
    "    group_id.append(maximum_group + 1)\n",
    "\n",
    "    maximum_group += 1\n",
    "    \n",
    "#     print(group_id)\n",
    "\n"
   ]
  },
  {
   "cell_type": "code",
   "execution_count": 43,
   "metadata": {},
   "outputs": [],
   "source": [
    "companies['id'] = group_two_col(companies,'company_address','company_name')\n",
    "companies['id'] = group_two_col(companies,'id','parent_group')"
   ]
  },
  {
   "cell_type": "code",
   "execution_count": 51,
   "metadata": {},
   "outputs": [
    {
     "data": {
      "text/html": [
       "<div>\n",
       "<style scoped>\n",
       "    .dataframe tbody tr th:only-of-type {\n",
       "        vertical-align: middle;\n",
       "    }\n",
       "\n",
       "    .dataframe tbody tr th {\n",
       "        vertical-align: top;\n",
       "    }\n",
       "\n",
       "    .dataframe thead th {\n",
       "        text-align: right;\n",
       "    }\n",
       "</style>\n",
       "<table border=\"1\" class=\"dataframe\">\n",
       "  <thead>\n",
       "    <tr style=\"text-align: right;\">\n",
       "      <th></th>\n",
       "      <th>company_name</th>\n",
       "      <th>company_address</th>\n",
       "      <th>company_state</th>\n",
       "      <th>company_city</th>\n",
       "      <th>company_zip</th>\n",
       "      <th>company_id</th>\n",
       "      <th>raw_address</th>\n",
       "      <th>name_group</th>\n",
       "      <th>address_group</th>\n",
       "      <th>parent_group</th>\n",
       "      <th>id</th>\n",
       "    </tr>\n",
       "  </thead>\n",
       "  <tbody>\n",
       "    <tr>\n",
       "      <td>4964</td>\n",
       "      <td>10 Briggs Solar NG, LLC</td>\n",
       "      <td>267 Water St Reet, 2Nd Floor</td>\n",
       "      <td>RI</td>\n",
       "      <td>Warren</td>\n",
       "      <td>02885</td>\n",
       "      <td>62685</td>\n",
       "      <td>267 Water Street, 2nd Floor</td>\n",
       "      <td>0</td>\n",
       "      <td>2984</td>\n",
       "      <td>10 Briggs Solar NG, LLC</td>\n",
       "      <td>1</td>\n",
       "    </tr>\n",
       "    <tr>\n",
       "      <td>4899</td>\n",
       "      <td>1025 Traveller Solar, LLC</td>\n",
       "      <td>1447 S Tryon St Ste 201</td>\n",
       "      <td>NC</td>\n",
       "      <td>Charlotte</td>\n",
       "      <td>28203</td>\n",
       "      <td>62139</td>\n",
       "      <td>1447 S Tryon St, Ste 201</td>\n",
       "      <td>1</td>\n",
       "      <td>2387</td>\n",
       "      <td>1025 Traveller Solar, LLC</td>\n",
       "      <td>2</td>\n",
       "    </tr>\n",
       "    <tr>\n",
       "      <td>3816</td>\n",
       "      <td>126 Grove Solar LLC</td>\n",
       "      <td>315 Post Road West</td>\n",
       "      <td>CT</td>\n",
       "      <td>Westport</td>\n",
       "      <td>06880</td>\n",
       "      <td>60517</td>\n",
       "      <td>315 Post Road West</td>\n",
       "      <td>3</td>\n",
       "      <td>647</td>\n",
       "      <td>126 Grove Solar LLC</td>\n",
       "      <td>3</td>\n",
       "    </tr>\n",
       "    <tr>\n",
       "      <td>3673</td>\n",
       "      <td>158th Fighter Wing</td>\n",
       "      <td>105 NCO Dr Ive</td>\n",
       "      <td>VT</td>\n",
       "      <td>South Burlington</td>\n",
       "      <td>05403</td>\n",
       "      <td>60301</td>\n",
       "      <td>105 NCO Drive</td>\n",
       "      <td>4</td>\n",
       "      <td>2040</td>\n",
       "      <td>158th Fighter Wing</td>\n",
       "      <td>4</td>\n",
       "    </tr>\n",
       "    <tr>\n",
       "      <td>4453</td>\n",
       "      <td>1634 Solar, LLC</td>\n",
       "      <td>1519 King St Reet</td>\n",
       "      <td>SC</td>\n",
       "      <td>Charleston</td>\n",
       "      <td>29405</td>\n",
       "      <td>61541</td>\n",
       "      <td>1519 King Street</td>\n",
       "      <td>5</td>\n",
       "      <td>2444</td>\n",
       "      <td>1634 Solar, LLC</td>\n",
       "      <td>5</td>\n",
       "    </tr>\n",
       "    <tr>\n",
       "      <td>...</td>\n",
       "      <td>...</td>\n",
       "      <td>...</td>\n",
       "      <td>...</td>\n",
       "      <td>...</td>\n",
       "      <td>...</td>\n",
       "      <td>...</td>\n",
       "      <td>...</td>\n",
       "      <td>...</td>\n",
       "      <td>...</td>\n",
       "      <td>...</td>\n",
       "      <td>...</td>\n",
       "    </tr>\n",
       "    <tr>\n",
       "      <td>1519</td>\n",
       "      <td>Ziegler Power Systems</td>\n",
       "      <td>8050 State Highway 101East</td>\n",
       "      <td>MN</td>\n",
       "      <td>Shakopee</td>\n",
       "      <td>55379</td>\n",
       "      <td>21144</td>\n",
       "      <td>8050 State Highway 101East</td>\n",
       "      <td>6090</td>\n",
       "      <td>1116</td>\n",
       "      <td>Ziegler Power Systems</td>\n",
       "      <td>4029</td>\n",
       "    </tr>\n",
       "    <tr>\n",
       "      <td>1522</td>\n",
       "      <td>Zion Energy LLC</td>\n",
       "      <td>5701 Ninth St</td>\n",
       "      <td>IL</td>\n",
       "      <td>Zion</td>\n",
       "      <td>60099</td>\n",
       "      <td>21191</td>\n",
       "      <td>5701 Ninth St</td>\n",
       "      <td>6091</td>\n",
       "      <td>3614</td>\n",
       "      <td>Zion Energy LLC</td>\n",
       "      <td>4030</td>\n",
       "    </tr>\n",
       "    <tr>\n",
       "      <td>2371</td>\n",
       "      <td>Zotos International</td>\n",
       "      <td>300 Forge Ave Nue</td>\n",
       "      <td>NY</td>\n",
       "      <td>Geneva</td>\n",
       "      <td>14456</td>\n",
       "      <td>56977</td>\n",
       "      <td>300 Forge Avenue</td>\n",
       "      <td>6092</td>\n",
       "      <td>3049</td>\n",
       "      <td>Zotos International</td>\n",
       "      <td>4031</td>\n",
       "    </tr>\n",
       "    <tr>\n",
       "      <td>3914</td>\n",
       "      <td>eBay - South Jordan</td>\n",
       "      <td>6614 West Crimson View Dr</td>\n",
       "      <td>UT</td>\n",
       "      <td>South Jordan</td>\n",
       "      <td>84095</td>\n",
       "      <td>59095</td>\n",
       "      <td>6614 West Crimson View Dr</td>\n",
       "      <td>6094</td>\n",
       "      <td>3759</td>\n",
       "      <td>eBay - South Jordan</td>\n",
       "      <td>4032</td>\n",
       "    </tr>\n",
       "    <tr>\n",
       "      <td>4230</td>\n",
       "      <td>esVolta LP</td>\n",
       "      <td>65 Enterprise</td>\n",
       "      <td>CA</td>\n",
       "      <td>Aliso Viejo</td>\n",
       "      <td>92656</td>\n",
       "      <td>61198</td>\n",
       "      <td>65 Enterprise</td>\n",
       "      <td>6096</td>\n",
       "      <td>1018</td>\n",
       "      <td>esVolta LP</td>\n",
       "      <td>4033</td>\n",
       "    </tr>\n",
       "  </tbody>\n",
       "</table>\n",
       "<p>4033 rows × 11 columns</p>\n",
       "</div>"
      ],
      "text/plain": [
       "                   company_name               company_address company_state  \\\n",
       "4964    10 Briggs Solar NG, LLC  267 Water St Reet, 2Nd Floor            RI   \n",
       "4899  1025 Traveller Solar, LLC       1447 S Tryon St Ste 201            NC   \n",
       "3816        126 Grove Solar LLC            315 Post Road West            CT   \n",
       "3673         158th Fighter Wing                105 NCO Dr Ive            VT   \n",
       "4453            1634 Solar, LLC             1519 King St Reet            SC   \n",
       "...                         ...                           ...           ...   \n",
       "1519      Ziegler Power Systems    8050 State Highway 101East            MN   \n",
       "1522            Zion Energy LLC                 5701 Ninth St            IL   \n",
       "2371        Zotos International             300 Forge Ave Nue            NY   \n",
       "3914        eBay - South Jordan     6614 West Crimson View Dr            UT   \n",
       "4230                 esVolta LP                 65 Enterprise            CA   \n",
       "\n",
       "          company_city company_zip  company_id                  raw_address  \\\n",
       "4964            Warren       02885       62685  267 Water Street, 2nd Floor   \n",
       "4899         Charlotte       28203       62139     1447 S Tryon St, Ste 201   \n",
       "3816          Westport       06880       60517           315 Post Road West   \n",
       "3673  South Burlington       05403       60301                105 NCO Drive   \n",
       "4453        Charleston       29405       61541             1519 King Street   \n",
       "...                ...         ...         ...                          ...   \n",
       "1519          Shakopee       55379       21144   8050 State Highway 101East   \n",
       "1522              Zion       60099       21191                5701 Ninth St   \n",
       "2371            Geneva       14456       56977             300 Forge Avenue   \n",
       "3914      South Jordan       84095       59095    6614 West Crimson View Dr   \n",
       "4230       Aliso Viejo       92656       61198                65 Enterprise   \n",
       "\n",
       "      name_group  address_group               parent_group    id  \n",
       "4964           0           2984    10 Briggs Solar NG, LLC     1  \n",
       "4899           1           2387  1025 Traveller Solar, LLC     2  \n",
       "3816           3            647        126 Grove Solar LLC     3  \n",
       "3673           4           2040         158th Fighter Wing     4  \n",
       "4453           5           2444            1634 Solar, LLC     5  \n",
       "...          ...            ...                        ...   ...  \n",
       "1519        6090           1116      Ziegler Power Systems  4029  \n",
       "1522        6091           3614            Zion Energy LLC  4030  \n",
       "2371        6092           3049        Zotos International  4031  \n",
       "3914        6094           3759        eBay - South Jordan  4032  \n",
       "4230        6096           1018                 esVolta LP  4033  \n",
       "\n",
       "[4033 rows x 11 columns]"
      ]
     },
     "execution_count": 51,
     "metadata": {},
     "output_type": "execute_result"
    }
   ],
   "source": [
    "companies.drop_duplicates(subset='id',keep='first')"
   ]
  },
  {
   "cell_type": "code",
   "execution_count": null,
   "metadata": {},
   "outputs": [],
   "source": [
    "## make company_name --> id  (with parent name) dictionary"
   ]
  },
  {
   "cell_type": "code",
   "execution_count": 282,
   "metadata": {},
   "outputs": [],
   "source": [
    "# need to clean addresses\n",
    "\n",
    "# clean_addresses.drop_duplicates().reset_index().sort_values(by='company_address')"
   ]
  },
  {
   "cell_type": "code",
   "execution_count": null,
   "metadata": {},
   "outputs": [],
   "source": []
  },
  {
   "cell_type": "code",
   "execution_count": null,
   "metadata": {},
   "outputs": [],
   "source": []
  }
 ],
 "metadata": {
  "kernelspec": {
   "display_name": "Python 3",
   "language": "python",
   "name": "python3"
  },
  "language_info": {
   "codemirror_mode": {
    "name": "ipython",
    "version": 3
   },
   "file_extension": ".py",
   "mimetype": "text/x-python",
   "name": "python",
   "nbconvert_exporter": "python",
   "pygments_lexer": "ipython3",
   "version": "3.7.4"
  }
 },
 "nbformat": 4,
 "nbformat_minor": 2
}
