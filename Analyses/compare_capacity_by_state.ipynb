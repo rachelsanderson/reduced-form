{
 "cells": [
  {
   "cell_type": "code",
   "execution_count": 425,
   "metadata": {},
   "outputs": [],
   "source": [
    "import pandas as pd\n",
    "import numpy as np\n",
    "import json\n",
    "from plotnine import *\n",
    "import matplotlib as mpl\n",
    "mpl.rcParams['figure.dpi']= 200\n",
    "\n",
    "%matplotlib inline\n",
    "\n",
    "\n",
    "\n",
    "pd.options.display.max_rows = 999\n"
   ]
  },
  {
   "cell_type": "code",
   "execution_count": 454,
   "metadata": {},
   "outputs": [],
   "source": [
    "dataDir = '/Users/rachelanderson/Dropbox (Princeton)/Data for Tax Equity Project/eia_860m/'\n",
    "jsonDir = '/Users/rachelanderson/Dropbox (Princeton)/Data for Tax Equity Project/JSONFiles/'\n",
    "figDir = '/Users/rachelanderson/Dropbox (Princeton)/newFigDir/'"
   ]
  },
  {
   "cell_type": "code",
   "execution_count": 383,
   "metadata": {},
   "outputs": [],
   "source": [
    "with open(jsonDir + 'final_parent_dict.json') as outfile:\n",
    "    parent_map = json.load(outfile)"
   ]
  },
  {
   "cell_type": "code",
   "execution_count": 384,
   "metadata": {},
   "outputs": [],
   "source": [
    "#import data\n",
    "data = pd.ExcelFile(dataDir + 'february_generator2020.xlsx')\n",
    "df = data.parse(sheetname=data.sheet_names[0], skiprows=1)\n",
    "\n",
    "#clean column names\n",
    "df.columns = [x.lower().replace(\" \",\"_\") for x in df.columns]\n",
    "df.columns = [x.split('_(mw)')[:-1][0] if \"(mw)\" in x else x for x in df.columns]"
   ]
  },
  {
   "cell_type": "code",
   "execution_count": 385,
   "metadata": {},
   "outputs": [],
   "source": [
    "df['company_name'] = df.entity_name.str.lower()\n",
    "df['parent_company'] = df.company_name.map(parent_map)"
   ]
  },
  {
   "cell_type": "code",
   "execution_count": 386,
   "metadata": {},
   "outputs": [],
   "source": [
    "# merge in the plant data to get ferc status\n",
    "\n",
    "plant_df = pd.read_excel(\"/Users/rachelanderson/Dropbox (Princeton)/Data for Tax Equity Project/eia_data/eia8602018/2___Plant_Y2018.xlsx\")\n",
    "plant_df.columns = plant_df.iloc[0]\n",
    "plant_df.columns = plant_df.columns.str.replace(\" \",\"_\").str.lower()\n",
    "\n",
    "common_cols = []\n",
    "for x in df.columns:\n",
    "    if x in plant_df.columns:\n",
    "        if \"plant\" not in x:\n",
    "            common_cols.append(x)\n",
    "            \n",
    "gen_df = plant_df.drop(common_cols,axis=1).merge(df, on='plant_name')"
   ]
  },
  {
   "cell_type": "markdown",
   "metadata": {},
   "source": [
    "## make tables for select states"
   ]
  },
  {
   "cell_type": "code",
   "execution_count": 444,
   "metadata": {},
   "outputs": [
    {
     "name": "stderr",
     "output_type": "stream",
     "text": [
      "/Users/rachelanderson/opt/anaconda3/lib/python3.7/site-packages/ipykernel_launcher.py:3: SettingWithCopyWarning: \n",
      "A value is trying to be set on a copy of a slice from a DataFrame.\n",
      "Try using .loc[row_indexer,col_indexer] = value instead\n",
      "\n",
      "See the caveats in the documentation: http://pandas.pydata.org/pandas-docs/stable/user_guide/indexing.html#returning-a-view-versus-a-copy\n"
     ]
    }
   ],
   "source": [
    "gen_df['purpa_qf'] = (gen_df['ferc_small_power_producer_status']=='Y')\n",
    "solar = gen_df[(gen_df['technology']==\"Solar Photovoltaic\")]\n",
    "solar['cap_bin'] = pd.cut(solar.nameplate_capacity,bins=[0,5,20,80, max(solar.nameplate_capacity)], labels=['0-5','6-20','21-80','80+'])"
   ]
  },
  {
   "cell_type": "code",
   "execution_count": 445,
   "metadata": {},
   "outputs": [],
   "source": [
    "state_by_year = solar.groupby(['state','operating_year']).nameplate_capacity.sum().reset_index()\n",
    "state_by_yr_tab = state_by_year.pivot(index='state', columns='operating_year',values='nameplate_capacity').fillna(0)\n",
    "state_by_yr_tab.columns = [int(x) for x in state_by_yr_tab.columns]"
   ]
  },
  {
   "cell_type": "code",
   "execution_count": 446,
   "metadata": {},
   "outputs": [],
   "source": [
    "# barely any solar pre-2008 so consolidate in 1 column\n",
    "pre_2008 = solar[solar['operating_year']<=2008].groupby('state').nameplate_capacity.sum()\n",
    "state_tab = state_by_yr_tab.drop([x for x in state_by_yr_tab.columns if x<=2008],axis=1)\n",
    "state_tab.insert(column='pre_2008',value=pre_2008, loc=0)\n",
    "state_tab['pre_2008'] = state_tab['pre_2008'].fillna(0)"
   ]
  },
  {
   "cell_type": "code",
   "execution_count": 447,
   "metadata": {
    "scrolled": true
   },
   "outputs": [],
   "source": [
    "# add cumsum column \n",
    "state_tab['tot_cap'] = solar.groupby('state').nameplate_capacity.sum()\n",
    "\n",
    "# add perc_qf column\n",
    "state_tab['qf_cap'] = solar[solar['purpa_qf']].groupby('state').nameplate_capacity.sum().fillna(0)\n",
    "state_tab['perc_qf']=(solar[solar['purpa_qf']].groupby('state').nameplate_capacity.sum()/state_tab.tot_cap).fillna(0)\n"
   ]
  },
  {
   "cell_type": "code",
   "execution_count": 448,
   "metadata": {},
   "outputs": [],
   "source": [
    "top_solar_states = state_tab.sort_values(by='tot_cap',ascending=False).head(9).index"
   ]
  },
  {
   "cell_type": "code",
   "execution_count": 451,
   "metadata": {},
   "outputs": [],
   "source": [
    "top_solar=solar[(solar['state'].isin(top_solar_states))&(solar['operating_year']>2010)][['state','nameplate_capacity','cap_bin','operating_year']]"
   ]
  },
  {
   "cell_type": "code",
   "execution_count": 457,
   "metadata": {},
   "outputs": [
    {
     "name": "stderr",
     "output_type": "stream",
     "text": [
      "/Users/rachelanderson/opt/anaconda3/lib/python3.7/site-packages/plotnine/ggplot.py:729: PlotnineWarning: Saving 6.4 x 4.8 in image.\n",
      "/Users/rachelanderson/opt/anaconda3/lib/python3.7/site-packages/plotnine/ggplot.py:730: PlotnineWarning: Filename: /Users/rachelanderson/Dropbox (Princeton)/newFigDir/top_states.png\n",
      "/Users/rachelanderson/opt/anaconda3/lib/python3.7/site-packages/plotnine/facets/facet.py:552: PlotnineWarning: If you need more space for the x-axis tick text use ... + theme(subplots_adjust={'wspace': 0.25}). Choose an appropriate value for 'wspace'.\n",
      "/Users/rachelanderson/opt/anaconda3/lib/python3.7/site-packages/plotnine/facets/facet.py:558: PlotnineWarning: If you need more space for the y-axis tick text use ... + theme(subplots_adjust={'hspace': 0.25}). Choose an appropriate value for 'hspace'\n"
     ]
    }
   ],
   "source": [
    "states = ggplot(top_solar, aes(x='cap_bin',fill='state')) + geom_histogram(bins=25) + facet_wrap(['state'],scales='free') + xlab(\"Nameplate capacity \\n\") + theme(legend_title =element_blank())\n",
    "ggplot.save(states,figDir + 'top_states.png', dpi=300)"
   ]
  },
  {
   "cell_type": "code",
   "execution_count": 414,
   "metadata": {},
   "outputs": [],
   "source": [
    "top_developers = solar.groupby('parent_company').nameplate_capacity.sum().sort_values(ascending=False).head(9)"
   ]
  },
  {
   "cell_type": "code",
   "execution_count": 459,
   "metadata": {
    "scrolled": true
   },
   "outputs": [
    {
     "name": "stderr",
     "output_type": "stream",
     "text": [
      "/Users/rachelanderson/opt/anaconda3/lib/python3.7/site-packages/ipykernel_launcher.py:11: SettingWithCopyWarning: \n",
      "A value is trying to be set on a copy of a slice from a DataFrame.\n",
      "Try using .loc[row_indexer,col_indexer] = value instead\n",
      "\n",
      "See the caveats in the documentation: http://pandas.pydata.org/pandas-docs/stable/user_guide/indexing.html#returning-a-view-versus-a-copy\n"
     ]
    }
   ],
   "source": [
    "top_develop = solar[solar['parent_company'].isin(top_developers.index)]\n",
    "temp_util_map = {10: '8me',\n",
    "                95: 'NextEra',\n",
    "                1248: 'ConEd',\n",
    "                128: 'Southern',\n",
    "                320: 'Berkshire Hathaway',\n",
    "                227: 'Sustainable Power Group',\n",
    "                566: 'CD Arevon',\n",
    "                1442: 'Dominion',\n",
    "                1348: 'Cypress Creek Renewables'}\n",
    "top_develop['parent_name'] = top_develop.parent_company.map(temp_util_map)"
   ]
  },
  {
   "cell_type": "code",
   "execution_count": 427,
   "metadata": {},
   "outputs": [
    {
     "name": "stderr",
     "output_type": "stream",
     "text": [
      "/Users/rachelanderson/opt/anaconda3/lib/python3.7/site-packages/plotnine/ggplot.py:729: PlotnineWarning: Saving 6.4 x 4.8 in image.\n",
      "/Users/rachelanderson/opt/anaconda3/lib/python3.7/site-packages/plotnine/ggplot.py:730: PlotnineWarning: Filename: /Users/rachelanderson/Dropbox (Princeton)/Figures/top_developer_size.png\n",
      "/Users/rachelanderson/opt/anaconda3/lib/python3.7/site-packages/plotnine/facets/facet.py:552: PlotnineWarning: If you need more space for the x-axis tick text use ... + theme(subplots_adjust={'wspace': 0.25}). Choose an appropriate value for 'wspace'.\n"
     ]
    }
   ],
   "source": [
    "plot_one = ggplot(top_develop, aes(x='nameplate_capacity',fill='parent_name')) + geom_histogram(bins=25) + facet_wrap(['parent_name'],scales='free_y')  \n",
    "plotnine.ggplot.save(plot_one,'/Users/rachelanderson/Dropbox (Princeton)/Figures/top_developer_size.png', dpi=300)"
   ]
  },
  {
   "cell_type": "code",
   "execution_count": 465,
   "metadata": {
    "scrolled": true
   },
   "outputs": [
    {
     "name": "stderr",
     "output_type": "stream",
     "text": [
      "/Users/rachelanderson/opt/anaconda3/lib/python3.7/site-packages/plotnine/ggplot.py:729: PlotnineWarning: Saving 6.4 x 4.8 in image.\n",
      "/Users/rachelanderson/opt/anaconda3/lib/python3.7/site-packages/plotnine/ggplot.py:730: PlotnineWarning: Filename: /Users/rachelanderson/Dropbox (Princeton)/newFigDir/developer_bins.png\n",
      "/Users/rachelanderson/opt/anaconda3/lib/python3.7/site-packages/plotnine/stats/stat_bin.py:93: PlotnineWarning: 'stat_bin()' using 'bins = 7'. Pick better value with 'binwidth'.\n",
      "/Users/rachelanderson/opt/anaconda3/lib/python3.7/site-packages/plotnine/facets/facet.py:552: PlotnineWarning: If you need more space for the x-axis tick text use ... + theme(subplots_adjust={'wspace': 0.25}). Choose an appropriate value for 'wspace'.\n"
     ]
    }
   ],
   "source": [
    "t= ggplot(top_develop, aes(x='cap_bin',fill='parent_name')) + geom_histogram() + facet_wrap(['parent_name'],scales='free_y') \n",
    "ggplot.save(t,figDir + 'developer_bins.png',dpi=300)"
   ]
  },
  {
   "cell_type": "code",
   "execution_count": 443,
   "metadata": {},
   "outputs": [
    {
     "name": "stderr",
     "output_type": "stream",
     "text": [
      "/Users/rachelanderson/opt/anaconda3/lib/python3.7/site-packages/ipykernel_launcher.py:1: SettingWithCopyWarning: \n",
      "A value is trying to be set on a copy of a slice from a DataFrame.\n",
      "Try using .loc[row_indexer,col_indexer] = value instead\n",
      "\n",
      "See the caveats in the documentation: http://pandas.pydata.org/pandas-docs/stable/user_guide/indexing.html#returning-a-view-versus-a-copy\n"
     ]
    }
   ],
   "source": []
  },
  {
   "cell_type": "code",
   "execution_count": null,
   "metadata": {},
   "outputs": [],
   "source": []
  }
 ],
 "metadata": {
  "kernelspec": {
   "display_name": "Python 3",
   "language": "python",
   "name": "python3"
  },
  "language_info": {
   "codemirror_mode": {
    "name": "ipython",
    "version": 3
   },
   "file_extension": ".py",
   "mimetype": "text/x-python",
   "name": "python",
   "nbconvert_exporter": "python",
   "pygments_lexer": "ipython3",
   "version": "3.7.4"
  }
 },
 "nbformat": 4,
 "nbformat_minor": 2
}
