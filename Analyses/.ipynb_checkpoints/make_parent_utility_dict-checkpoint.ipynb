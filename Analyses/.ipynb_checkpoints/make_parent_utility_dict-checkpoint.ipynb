{
 "cells": [
  {
   "cell_type": "code",
   "execution_count": 10,
   "metadata": {},
   "outputs": [],
   "source": [
    "import pandas as pd\n",
    "\n",
    "dataDir = '/Users/rachelanderson/Dropbox (Princeton)/Data for Tax Equity Project/'"
   ]
  },
  {
   "cell_type": "markdown",
   "metadata": {},
   "source": [
    "## make master list of utility names from utility dataset, generator dataset, and owners dataset"
   ]
  },
  {
   "cell_type": "markdown",
   "metadata": {},
   "source": [
    "### Read in relevant datasets"
   ]
  },
  {
   "cell_type": "code",
   "execution_count": 15,
   "metadata": {},
   "outputs": [
    {
     "name": "stderr",
     "output_type": "stream",
     "text": [
      "/Users/rachelanderson/opt/anaconda3/lib/python3.7/site-packages/IPython/core/interactiveshell.py:3058: DtypeWarning: Columns (16,39,43) have mixed types. Specify dtype option on import or set low_memory=False.\n",
      "  interactivity=interactivity, compiler=compiler, result=result)\n"
     ]
    }
   ],
   "source": [
    "owners = pd.read_csv(dataDir + 'master_company_list_2018/owners2018.csv')\n",
    "gen_data = pd.read_csv(dataDir + 'master_company_list_2018/gen_2018.csv')\n",
    "utils = pd.read_csv(dataDir + 'master_company_list_2018/utils_2018.csv')"
   ]
  },
  {
   "cell_type": "code",
   "execution_count": 21,
   "metadata": {},
   "outputs": [],
   "source": [
    "dfList = [owners, gen_data, utils]\n"
   ]
  },
  {
   "cell_type": "code",
   "execution_count": 22,
   "metadata": {},
   "outputs": [
    {
     "data": {
      "text/plain": [
       "Index(['Unnamed: 0', 'utility_id', 'utility_name', 'plant_code', 'plant_name',\n",
       "       'state', 'generator_id', 'status', 'owner_name', 'owner_street_address',\n",
       "       'owner_city', 'owner_state', 'owner_zip', 'ownership_id',\n",
       "       'percent_owned', 'perc_owned', 'num_owners', 'idx', 'owner_1',\n",
       "       'owner_2', 'owner_3', 'owner_4', 'perc_owner_1', 'perc_owner_2',\n",
       "       'perc_owner_3', 'perc_owner_4'],\n",
       "      dtype='object')"
      ]
     },
     "execution_count": 22,
     "metadata": {},
     "output_type": "execute_result"
    }
   ],
   "source": [
    "owners.columns"
   ]
  },
  {
   "cell_type": "code",
   "execution_count": 28,
   "metadata": {},
   "outputs": [],
   "source": [
    "owners.rename(columns = {'owner_name':'company_name', \n",
    "                         'owner_street_address':'company_address',\n",
    "                         'owner_state': 'company_state',\n",
    "                          'owner_city': 'company_city',\n",
    "                          'owner_zip': 'company_zip',\n",
    "                           'ownership_id': 'company_id'},inplace=True)\n",
    "gen_data.rename(columns = {'utility_name':'company_name'}, inplace=True)\n",
    "utils.rename(columns = {'utility_name':'company_name',\n",
    "                       'utility_id': 'company_id',\n",
    "                        'street_address':'company_address',\n",
    "                         'state':'company_state',\n",
    "                         'city': 'company_city', \n",
    "                          'zip':'company_zip'},inplace=True)"
   ]
  },
  {
   "cell_type": "code",
   "execution_count": 49,
   "metadata": {
    "scrolled": false
   },
   "outputs": [],
   "source": [
    "# make df with master list of companies (utilities + owners)\n",
    "companyVals = ['name', 'address','state','city','zip','id']\n",
    "companyVals = ['company_' + x for x in companyVals]\n",
    "companies = owners[companyVals].append(utils[companyVals])\n",
    "# select unique combos\n",
    "companies.drop_duplicates(inplace=True)"
   ]
  },
  {
   "cell_type": "code",
   "execution_count": 51,
   "metadata": {},
   "outputs": [],
   "source": [
    "names = gen_data['company_name'].drop_duplicates()\n",
    "# I found that no names in gen data are not contained in the other datasets, so I don't merge it in"
   ]
  },
  {
   "cell_type": "code",
   "execution_count": 93,
   "metadata": {},
   "outputs": [
    {
     "data": {
      "text/html": [
       "<div>\n",
       "<style scoped>\n",
       "    .dataframe tbody tr th:only-of-type {\n",
       "        vertical-align: middle;\n",
       "    }\n",
       "\n",
       "    .dataframe tbody tr th {\n",
       "        vertical-align: top;\n",
       "    }\n",
       "\n",
       "    .dataframe thead th {\n",
       "        text-align: right;\n",
       "    }\n",
       "</style>\n",
       "<table border=\"1\" class=\"dataframe\">\n",
       "  <thead>\n",
       "    <tr style=\"text-align: right;\">\n",
       "      <th></th>\n",
       "      <th>company_name</th>\n",
       "      <th>num_id</th>\n",
       "    </tr>\n",
       "    <tr>\n",
       "      <th>company_id</th>\n",
       "      <th></th>\n",
       "      <th></th>\n",
       "    </tr>\n",
       "  </thead>\n",
       "  <tbody>\n",
       "    <tr>\n",
       "      <td>60517</td>\n",
       "      <td>126 Grove Solar LLC</td>\n",
       "      <td>2</td>\n",
       "    </tr>\n",
       "    <tr>\n",
       "      <td>58164</td>\n",
       "      <td>180 Raritan Energy Solutions, LLC</td>\n",
       "      <td>2</td>\n",
       "    </tr>\n",
       "    <tr>\n",
       "      <td>54816</td>\n",
       "      <td>AMERESCO Delaware Central</td>\n",
       "      <td>2</td>\n",
       "    </tr>\n",
       "    <tr>\n",
       "      <td>195</td>\n",
       "      <td>Alabama Power Co</td>\n",
       "      <td>2</td>\n",
       "    </tr>\n",
       "    <tr>\n",
       "      <td>1182</td>\n",
       "      <td>BASF Corporation</td>\n",
       "      <td>2</td>\n",
       "    </tr>\n",
       "    <tr>\n",
       "      <td>...</td>\n",
       "      <td>...</td>\n",
       "      <td>...</td>\n",
       "    </tr>\n",
       "    <tr>\n",
       "      <td>20326</td>\n",
       "      <td>Town of West Boylston - (MA)</td>\n",
       "      <td>2</td>\n",
       "    </tr>\n",
       "    <tr>\n",
       "      <td>11359</td>\n",
       "      <td>Village of Lyndonville - (VT)</td>\n",
       "      <td>2</td>\n",
       "    </tr>\n",
       "    <tr>\n",
       "      <td>20100</td>\n",
       "      <td>Warm Springs Power Enterprises</td>\n",
       "      <td>2</td>\n",
       "    </tr>\n",
       "    <tr>\n",
       "      <td>2891</td>\n",
       "      <td>Westbrook Energy Center</td>\n",
       "      <td>2</td>\n",
       "    </tr>\n",
       "    <tr>\n",
       "      <td>20910</td>\n",
       "      <td>Wolverine Power Supply Coop</td>\n",
       "      <td>2</td>\n",
       "    </tr>\n",
       "  </tbody>\n",
       "</table>\n",
       "<p>68 rows × 2 columns</p>\n",
       "</div>"
      ],
      "text/plain": [
       "                                 company_name  num_id\n",
       "company_id                                           \n",
       "60517                     126 Grove Solar LLC       2\n",
       "58164       180 Raritan Energy Solutions, LLC       2\n",
       "54816               AMERESCO Delaware Central       2\n",
       "195                          Alabama Power Co       2\n",
       "1182                         BASF Corporation       2\n",
       "...                                       ...     ...\n",
       "20326            Town of West Boylston - (MA)       2\n",
       "11359           Village of Lyndonville - (VT)       2\n",
       "20100          Warm Springs Power Enterprises       2\n",
       "2891                  Westbrook Energy Center       2\n",
       "20910             Wolverine Power Supply Coop       2\n",
       "\n",
       "[68 rows x 2 columns]"
      ]
     },
     "execution_count": 93,
     "metadata": {},
     "output_type": "execute_result"
    }
   ],
   "source": [
    "num_ids = companies.groupby('company_name').company_id.value_counts().reset_index(level=0).rename(columns={'company_id':'num_id'})\n",
    "# 68 companies have multiple ids... maybe because they are owners\n",
    "num_ids[num_ids['num_id']>1]"
   ]
  },
  {
   "cell_type": "code",
   "execution_count": null,
   "metadata": {},
   "outputs": [],
   "source": [
    "companies[companies[]]"
   ]
  }
 ],
 "metadata": {
  "kernelspec": {
   "display_name": "Python 3",
   "language": "python",
   "name": "python3"
  },
  "language_info": {
   "codemirror_mode": {
    "name": "ipython",
    "version": 3
   },
   "file_extension": ".py",
   "mimetype": "text/x-python",
   "name": "python",
   "nbconvert_exporter": "python",
   "pygments_lexer": "ipython3",
   "version": "3.7.4"
  }
 },
 "nbformat": 4,
 "nbformat_minor": 2
}
