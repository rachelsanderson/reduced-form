{
 "cells": [
  {
   "cell_type": "markdown",
   "metadata": {},
   "source": [
    "## Setup"
   ]
  },
  {
   "cell_type": "code",
   "execution_count": 130,
   "metadata": {},
   "outputs": [],
   "source": [
    "import pandas as pd\n",
    "import numpy as np\n",
    "import json\n",
    "import glob\n",
    "import matplotlib.pyplot as plt\n",
    "%matplotlib inline\n",
    "\n",
    "pd.options.display.max_rows = 999\n",
    "pd.options.display.max_columns=100\n",
    "plt.rcParams['figure.dpi'] = 200\n",
    "plt.rcParams['figure.figsize'] = [15, 10]\n",
    "\n",
    "dataDir = '/Users/rachelanderson/Dropbox (Princeton)/Data for Tax Equity Project/'\n",
    "jsonDir = '/Users/rachelanderson/Dropbox (Princeton)/Data for Tax Equity Project/JSONFiles/'"
   ]
  },
  {
   "cell_type": "markdown",
   "metadata": {},
   "source": [
    "## Read and fix data"
   ]
  },
  {
   "cell_type": "code",
   "execution_count": 131,
   "metadata": {
    "scrolled": true
   },
   "outputs": [],
   "source": [
    "utils = pd.read_csv(dataDir + 'eia_data/eia8602018/utility_2018.csv',header=1).fillna(0)\n",
    "utils.columns = [x.lower().replace(\" \",\"_\").replace(\"?\",\"\") for x in utils.columns]"
   ]
  },
  {
   "cell_type": "code",
   "execution_count": 132,
   "metadata": {},
   "outputs": [
    {
     "data": {
      "text/plain": [
       "Y    4400\n",
       "0     639\n",
       "Name: owner_of_plants_reported_on_form, dtype: int64"
      ]
     },
     "execution_count": 132,
     "metadata": {},
     "output_type": "execute_result"
    }
   ],
   "source": [
    "utils['owner_of_plants_reported_on_form'].value_counts()"
   ]
  },
  {
   "cell_type": "code",
   "execution_count": 133,
   "metadata": {
    "scrolled": false
   },
   "outputs": [],
   "source": [
    "utils[utils['owner_of_plants_reported_on_form']==0];"
   ]
  },
  {
   "cell_type": "code",
   "execution_count": 134,
   "metadata": {
    "scrolled": true
   },
   "outputs": [
    {
     "name": "stderr",
     "output_type": "stream",
     "text": [
      "/Users/rachelanderson/opt/anaconda3/lib/python3.7/site-packages/IPython/core/interactiveshell.py:3058: DtypeWarning: Columns (1,16,39,43) have mixed types. Specify dtype option on import or set low_memory=False.\n",
      "  interactivity=interactivity, compiler=compiler, result=result)\n"
     ]
    }
   ],
   "source": [
    "gen_data = pd.read_csv(dataDir + 'eia_data/eia8602018/gen_2018.csv')\n",
    "gen_data.drop(['Unnamed: 0'],axis=1,inplace=True)\n",
    "gen_data = gen_data[~gen_data['Utility ID'].str.contains('NOTE', na=False)]\n",
    "gen_data['Utility ID'] = pd.to_numeric(gen_data['Utility ID'])\n",
    "gen_data.columns = gen_data.columns.str.strip().str.lower().str.replace(' ', '_').str.replace('(', '').str.replace(')', '').str.replace('?','')"
   ]
  },
  {
   "cell_type": "markdown",
   "metadata": {},
   "source": [
    "Now I want to merge the utility data with the generator data so I can do some sick analyses bro\n",
    "\n",
    "I'll start by merging the utility list with the list of generators (all in 2018), so I'll see if any columns will conflict"
   ]
  },
  {
   "cell_type": "code",
   "execution_count": 135,
   "metadata": {
    "scrolled": false
   },
   "outputs": [
    {
     "name": "stdout",
     "output_type": "stream",
     "text": [
      "utility_id\n",
      "utility_name\n",
      "state\n"
     ]
    },
    {
     "data": {
      "text/plain": [
       "[None, None, None]"
      ]
     },
     "execution_count": 135,
     "metadata": {},
     "output_type": "execute_result"
    }
   ],
   "source": [
    "[print(x) for x in gen_data.columns if x in utils.columns]"
   ]
  },
  {
   "cell_type": "markdown",
   "metadata": {},
   "source": [
    "I'm merging by utility_id so let's fix the state variable"
   ]
  },
  {
   "cell_type": "code",
   "execution_count": 136,
   "metadata": {},
   "outputs": [],
   "source": [
    "gen_data = gen_data.rename(columns={'state': 'plant_state'})"
   ]
  },
  {
   "cell_type": "code",
   "execution_count": 137,
   "metadata": {},
   "outputs": [],
   "source": [
    "merged = gen_data.merge(utils, how='left', on=['utility_id','utility_name'])"
   ]
  },
  {
   "cell_type": "markdown",
   "metadata": {},
   "source": [
    "Various checks assures me that the merge was successful. So now I want to merge in ownership data in a clever way"
   ]
  },
  {
   "cell_type": "markdown",
   "metadata": {},
   "source": [
    "## Now merge in the owner variable in a creative way\n",
    "### solution is to add owner_1 owner_1_perc, owner_2 ... etc.  for each plant"
   ]
  },
  {
   "cell_type": "code",
   "execution_count": 138,
   "metadata": {
    "scrolled": true
   },
   "outputs": [],
   "source": [
    "# S Single ownership by respondent \n",
    "# J Jointly owned with another entity\n",
    "# W Wholly owned by an entity other than respondent\n",
    "df = merged.join(pd.get_dummies(merged['ownership']))\n",
    "df.rename(columns={'S': 'single_owner', 'W': 'other_owner', 'J':'joint_owner'},inplace=True)"
   ]
  },
  {
   "cell_type": "code",
   "execution_count": 139,
   "metadata": {},
   "outputs": [],
   "source": [
    "owners = pd.read_csv(dataDir + 'eia_data/eia8602018/owner_2018.csv',header=1)\n",
    "owners.columns = owners.columns.str.strip().str.lower().str.replace(' ', '_').str.replace('(', '').str.replace(')', '').str.replace('?','')\n",
    "\n",
    "owners['perc_owned'] = pd.to_numeric(owners['percent_owned'].str.replace(\"%\",\"\"))\n",
    "\n",
    "num_owners = owners.groupby(['plant_name', 'generator_id']).apply(lambda grp: len(grp.owner_name.unique())).reset_index()\n",
    "num_owners.rename(columns={0: 'num_owners'},inplace=True)\n",
    "owners = owners.merge(num_owners, how='outer', on=['plant_name','generator_id'])"
   ]
  },
  {
   "cell_type": "code",
   "execution_count": 140,
   "metadata": {},
   "outputs": [],
   "source": [
    "owners['idx'] = owners['plant_code'].astype(str) + '_' + owners['generator_id']"
   ]
  },
  {
   "cell_type": "code",
   "execution_count": 141,
   "metadata": {},
   "outputs": [],
   "source": [
    "# owner_dict with key = generator; value = owners \n",
    "owner_dict = owners.groupby(['idx']).owner_name.apply(lambda grp: list(grp.value_counts().index)).to_dict()\n",
    "\n",
    "perc_dict = owners.groupby(['idx']).perc_owned.apply(lambda grp: list(grp)).to_dict()\n",
    "\n",
    "# dictionary may be useful for other stuff \n",
    "perc_owned_dict = {}\n",
    "for x in owner_dict:\n",
    "    temp_dict = {}\n",
    "    for i,y in enumerate(owner_dict[x]):\n",
    "        temp_dict.update({y : perc_dict[x][i]})\n",
    "    perc_owned_dict[x] = temp_dict"
   ]
  },
  {
   "cell_type": "code",
   "execution_count": 142,
   "metadata": {},
   "outputs": [],
   "source": [
    "owners = owners.join(owners['idx'].map(owner_dict).apply(pd.Series).iloc[:,0:4].rename(columns={0: 'owner_1', 1: 'owner_2', 2: 'owner_3', 3: 'owner_4'}))\n",
    "\n",
    "owners = owners.join(owners['idx'].map(perc_dict).apply(pd.Series).iloc[:,0:4].rename(columns={0: 'perc_owner_1', 1: 'perc_owner_2', 2: 'perc_owner_3', 3: 'perc_owner_4'}))\n"
   ]
  },
  {
   "cell_type": "markdown",
   "metadata": {},
   "source": [
    "## Apply parent dict to the list of owners"
   ]
  },
  {
   "cell_type": "code",
   "execution_count": 143,
   "metadata": {},
   "outputs": [],
   "source": [
    "with open(jsonDir + 'final_parent_dict.json') as outfile:\n",
    "    parent_map = json.load(outfile)"
   ]
  },
  {
   "cell_type": "code",
   "execution_count": 144,
   "metadata": {},
   "outputs": [],
   "source": [
    "owners['parent_1'] = owners.owner_1.str.lower().map(parent_map)\n",
    "owners['parent_2'] = owners.owner_2.str.lower().map(parent_map)\n",
    "owners['parent_3'] = owners.owner_3.str.lower().map(parent_map)\n",
    "owners['parent_4'] = owners.owner_4.str.lower().map(parent_map)"
   ]
  },
  {
   "cell_type": "code",
   "execution_count": 145,
   "metadata": {},
   "outputs": [],
   "source": [
    "owners['diff_parent'] = owners['parent_1'] != owners['owner_1']"
   ]
  },
  {
   "cell_type": "markdown",
   "metadata": {},
   "source": [
    "## Drop duplicates before merging"
   ]
  },
  {
   "cell_type": "code",
   "execution_count": 146,
   "metadata": {},
   "outputs": [],
   "source": [
    "# list of cols to ignore to avoid _x and _y \n",
    "cols_to_ignore = ['utility_id',\n",
    " 'utility_name',\n",
    " 'plant_name',\n",
    " 'state',\n",
    " 'status'] \n",
    "\n",
    "owners_to_merge = owners.drop_duplicates('idx')\n",
    "owners_to_merge = owners_to_merge.drop([x for x in df.columns if x in owners.columns if x in cols_to_ignore],axis=1)\n",
    "df = df.merge(owners_to_merge, how='left', on=['plant_code','generator_id'])"
   ]
  },
  {
   "cell_type": "markdown",
   "metadata": {},
   "source": [
    "## Merge owners back into generator data"
   ]
  },
  {
   "cell_type": "markdown",
   "metadata": {},
   "source": [
    "### Now do the parent utility stuff"
   ]
  },
  {
   "cell_type": "code",
   "execution_count": 148,
   "metadata": {},
   "outputs": [],
   "source": [
    "# fill na of parent 1 with parent map on the utility name\n",
    "\n",
    "df['parent_1'] = df['parent_1'].fillna(df.utility_name.str.lower().map(parent_map))"
   ]
  },
  {
   "cell_type": "code",
   "execution_count": 158,
   "metadata": {},
   "outputs": [],
   "source": []
  },
  {
   "cell_type": "code",
   "execution_count": null,
   "metadata": {},
   "outputs": [],
   "source": []
  }
 ],
 "metadata": {
  "kernelspec": {
   "display_name": "Python 3",
   "language": "python",
   "name": "python3"
  },
  "language_info": {
   "codemirror_mode": {
    "name": "ipython",
    "version": 3
   },
   "file_extension": ".py",
   "mimetype": "text/x-python",
   "name": "python",
   "nbconvert_exporter": "python",
   "pygments_lexer": "ipython3",
   "version": "3.7.4"
  }
 },
 "nbformat": 4,
 "nbformat_minor": 2
}
