{
 "cells": [
  {
   "cell_type": "code",
   "execution_count": null,
   "metadata": {},
   "outputs": [],
   "source": [
    "### makeGenOfTypeDF -- Function that takes year, csv name, returns df of generators w/specific technology (tech_code)\n",
    "### or energy source (energy_code)\n",
    "### \n",
    "### Relevant tech_codes are: ST (Steam Turbine, including nuclear, geothermal and solar steam), \n",
    "###                          PV (Photovoltaic)\n",
    "###                          WT (Wind Turbine) ## changes to WS for offshore in 2018\n",
    "### \n",
    "### Relevant energy_codes are:  SUN (Solar -- Photovoltaic, Thermal)\n",
    "###                             WAT (Water -- Conventional, Pumped Storage)\n",
    "###                             WND (Wind)\n",
    "### TO DO:      Make more general for any CSV of this format(feed in file name)\n",
    "\n",
    "def makeGenOfTypeDF(year, tech_code=\"PV\", energy_code = \"SUN\"):\n",
    "    proposed_gen_df = pd.read_csv(\"../Data for Tax Equity Project/eia_data/eia860\" + str(year) + \n",
    "                                  \"/proposed_gen_\" + str(year) + \".csv\")\n",
    "    proposed_gen_df.columns = map(str.lower, proposed_gen_df.columns)\n",
    "    pmList = ['prime_mover', 'prime mover', 'primemover']\n",
    "    enList = ['energy_source_1', 'energy source 1']\n",
    "    for pm in pmList:\n",
    "        if pm in proposed_gen_df.columns:\n",
    "            tech_df = proposed_gen_df[proposed_gen_df[pm]==tech_code]\n",
    "    for en in enList:\n",
    "        if en in proposed_gen_df.columns:\n",
    "            en_df = proposed_gen_df[proposed_gen_df[en]==energy_code]\n",
    "            tech_df = tech_df.combine_first(en_df)\n",
    "    return(tech_df)"
   ]
  }
 ],
 "metadata": {
  "kernelspec": {
   "display_name": "Python 3",
   "language": "python",
   "name": "python3"
  },
  "language_info": {
   "codemirror_mode": {
    "name": "ipython",
    "version": 3
   },
   "file_extension": ".py",
   "mimetype": "text/x-python",
   "name": "python",
   "nbconvert_exporter": "python",
   "pygments_lexer": "ipython3",
   "version": "3.7.4"
  }
 },
 "nbformat": 4,
 "nbformat_minor": 2
}
