{
 "cells": [
  {
   "cell_type": "code",
   "execution_count": 48,
   "metadata": {},
   "outputs": [],
   "source": [
    "# typical set up\n",
    "import pandas as pd\n",
    "import numpy as np\n",
    "import json\n",
    "import glob\n",
    "import matplotlib.pyplot as plt\n",
    "%matplotlib inline\n",
    "\n",
    "pd.options.display.max_rows = 999\n",
    "pd.options.display.max_columns=100\n",
    "plt.rcParams['figure.dpi'] = 200\n",
    "plt.rcParams['figure.figsize'] = [15, 10]\n",
    "\n",
    "dataDir = '/Users/rachelanderson/Dropbox (Princeton)/Data for Tax Equity Project/'\n",
    "jsonDir = '/Users/rachelanderson/Dropbox (Princeton)/Data for Tax Equity Project/JSONFiles/'"
   ]
  },
  {
   "cell_type": "code",
   "execution_count": 49,
   "metadata": {},
   "outputs": [],
   "source": [
    "with open(jsonDir + 'final_parent_dict.json') as file:\n",
    "    parent_map = json.load(file)"
   ]
  },
  {
   "cell_type": "code",
   "execution_count": 196,
   "metadata": {},
   "outputs": [],
   "source": [
    "new_gen_df = pd.read_excel(dataDir + 'eia_860m/march_generator2020.xlsx',header=1)\n",
    "new_gen_df.columns = new_gen_df.columns.str.lower().str.replace(\" \", \"_\")\n",
    "new_gen_df.drop(new_gen_df.tail(1).index,inplace=True)"
   ]
  },
  {
   "cell_type": "code",
   "execution_count": 199,
   "metadata": {
    "scrolled": true
   },
   "outputs": [],
   "source": [
    "new_gen_df['parent_id']=new_gen_df['entity_name'].str.lower().map(parent_map)"
   ]
  },
  {
   "cell_type": "code",
   "execution_count": 201,
   "metadata": {},
   "outputs": [],
   "source": [
    "missing_parent = new_gen_df[(new_gen_df['parent_id'].isna())]"
   ]
  },
  {
   "cell_type": "code",
   "execution_count": 202,
   "metadata": {},
   "outputs": [],
   "source": [
    "new_gen_df['parent_id'].fillna(new_gen_df['plant_name'],inplace=True)"
   ]
  },
  {
   "cell_type": "code",
   "execution_count": 203,
   "metadata": {
    "scrolled": true
   },
   "outputs": [
    {
     "name": "stderr",
     "output_type": "stream",
     "text": [
      "/Users/rachelanderson/opt/anaconda3/lib/python3.7/site-packages/IPython/core/interactiveshell.py:3058: DtypeWarning: Columns (16,39,43,77,90) have mixed types. Specify dtype option on import or set low_memory=False.\n",
      "  interactivity=interactivity, compiler=compiler, result=result)\n"
     ]
    }
   ],
   "source": [
    "old_gen_df = pd.read_csv(dataDir + 'master_gen_by_owner_2028.csv')\n",
    "old_gen_df.drop(columns='Unnamed: 0', axis=1,inplace=True)"
   ]
  },
  {
   "cell_type": "code",
   "execution_count": 205,
   "metadata": {},
   "outputs": [],
   "source": [
    "# select the overlapping plant names\n",
    "missing_parent_ids = old_gen_df[(old_gen_df['plant_name'].isin(missing_parent['plant_name']))].utility_name.str.lower().map(parent_map)"
   ]
  },
  {
   "cell_type": "code",
   "execution_count": 209,
   "metadata": {},
   "outputs": [],
   "source": [
    "missing_parent_map = dict(zip(missing_parent['plant_name'], missing_parent_ids))"
   ]
  },
  {
   "cell_type": "code",
   "execution_count": 210,
   "metadata": {},
   "outputs": [],
   "source": [
    "new_gen_df.parent_id = new_gen_df.parent_id.replace(missing_parent_map)"
   ]
  },
  {
   "cell_type": "markdown",
   "metadata": {},
   "source": [
    "### check up to 2020 stuff"
   ]
  },
  {
   "cell_type": "code",
   "execution_count": 217,
   "metadata": {},
   "outputs": [],
   "source": [
    "new_gen_df['nameplate_cap'] = new_gen_df['nameplate_capacity_(mw)']"
   ]
  },
  {
   "cell_type": "code",
   "execution_count": 223,
   "metadata": {},
   "outputs": [],
   "source": [
    "solar=new_gen_df[new_gen_df['technology']==\"Solar Photovoltaic\"]"
   ]
  },
  {
   "cell_type": "code",
   "execution_count": 231,
   "metadata": {
    "scrolled": true
   },
   "outputs": [
    {
     "data": {
      "text/html": [
       "<div>\n",
       "<style scoped>\n",
       "    .dataframe tbody tr th:only-of-type {\n",
       "        vertical-align: middle;\n",
       "    }\n",
       "\n",
       "    .dataframe tbody tr th {\n",
       "        vertical-align: top;\n",
       "    }\n",
       "\n",
       "    .dataframe thead th {\n",
       "        text-align: right;\n",
       "    }\n",
       "</style>\n",
       "<table border=\"1\" class=\"dataframe\">\n",
       "  <thead>\n",
       "    <tr style=\"text-align: right;\">\n",
       "      <th></th>\n",
       "      <th>parent_id</th>\n",
       "      <th>nameplate_cap</th>\n",
       "    </tr>\n",
       "  </thead>\n",
       "  <tbody>\n",
       "    <tr>\n",
       "      <td>0</td>\n",
       "      <td>17650</td>\n",
       "      <td>2359.6</td>\n",
       "    </tr>\n",
       "    <tr>\n",
       "      <td>1</td>\n",
       "      <td>56769</td>\n",
       "      <td>2352.6</td>\n",
       "    </tr>\n",
       "    <tr>\n",
       "      <td>2</td>\n",
       "      <td>58468</td>\n",
       "      <td>1693.1</td>\n",
       "    </tr>\n",
       "    <tr>\n",
       "      <td>3</td>\n",
       "      <td>6452</td>\n",
       "      <td>1602.7</td>\n",
       "    </tr>\n",
       "    <tr>\n",
       "      <td>4</td>\n",
       "      <td>61060</td>\n",
       "      <td>1391.8</td>\n",
       "    </tr>\n",
       "    <tr>\n",
       "      <td>...</td>\n",
       "      <td>...</td>\n",
       "      <td>...</td>\n",
       "    </tr>\n",
       "    <tr>\n",
       "      <td>1499</td>\n",
       "      <td>61440</td>\n",
       "      <td>0.2</td>\n",
       "    </tr>\n",
       "    <tr>\n",
       "      <td>1500</td>\n",
       "      <td>13943</td>\n",
       "      <td>0.2</td>\n",
       "    </tr>\n",
       "    <tr>\n",
       "      <td>1501</td>\n",
       "      <td>11427</td>\n",
       "      <td>0.1</td>\n",
       "    </tr>\n",
       "    <tr>\n",
       "      <td>1502</td>\n",
       "      <td>61332</td>\n",
       "      <td>0.1</td>\n",
       "    </tr>\n",
       "    <tr>\n",
       "      <td>1503</td>\n",
       "      <td>61576</td>\n",
       "      <td>0.1</td>\n",
       "    </tr>\n",
       "  </tbody>\n",
       "</table>\n",
       "<p>1504 rows × 2 columns</p>\n",
       "</div>"
      ],
      "text/plain": [
       "      parent_id  nameplate_cap\n",
       "0         17650         2359.6\n",
       "1         56769         2352.6\n",
       "2         58468         1693.1\n",
       "3          6452         1602.7\n",
       "4         61060         1391.8\n",
       "...         ...            ...\n",
       "1499      61440            0.2\n",
       "1500      13943            0.2\n",
       "1501      11427            0.1\n",
       "1502      61332            0.1\n",
       "1503      61576            0.1\n",
       "\n",
       "[1504 rows x 2 columns]"
      ]
     },
     "execution_count": 231,
     "metadata": {},
     "output_type": "execute_result"
    }
   ],
   "source": [
    "solar.groupby('parent_id').nameplate_cap.sum().sort_values(ascending=False).reset_index()"
   ]
  },
  {
   "cell_type": "code",
   "execution_count": 230,
   "metadata": {},
   "outputs": [],
   "source": [
    "decode_parent_map = {\n",
    "    95: 'nextera',\n",
    "    5: 'southern current',\n",
    "    63: 'tenaska capital',\n",
    "    137: 'exelon',\n",
    "    56769: 'consolidated edison',\n",
    "    1442: 'dominion',\n",
    "    1348: 'cypress creek renewables',\n",
    "    128: 'southern power co',\n",
    "    227: 'spower',\n",
    "    10: '8me',\n",
    "    320: 'berkshire hathaway',\n",
    "    3363: 'solar star',\n",
    "    1694: 'first solar asset management',\n",
    "    2653: 'sunedison',\n",
    "    1465: 'nrg',\n",
    "    363: 'nrg',\n",
    "    6: '174 power',\n",
    "    1230: 'vistra',\n",
    "    566: 'arevon',\n",
    "    3084: 'canadian solar',\n",
    "    3403: 'southern power co',\n",
    "    612: 'duke energy',\n",
    "    1695: 'first solar project development'\n",
    "    \n",
    "    \n",
    "}"
   ]
  },
  {
   "cell_type": "code",
   "execution_count": null,
   "metadata": {},
   "outputs": [],
   "source": []
  }
 ],
 "metadata": {
  "kernelspec": {
   "display_name": "Python 3",
   "language": "python",
   "name": "python3"
  },
  "language_info": {
   "codemirror_mode": {
    "name": "ipython",
    "version": 3
   },
   "file_extension": ".py",
   "mimetype": "text/x-python",
   "name": "python",
   "nbconvert_exporter": "python",
   "pygments_lexer": "ipython3",
   "version": "3.7.4"
  }
 },
 "nbformat": 4,
 "nbformat_minor": 2
}
