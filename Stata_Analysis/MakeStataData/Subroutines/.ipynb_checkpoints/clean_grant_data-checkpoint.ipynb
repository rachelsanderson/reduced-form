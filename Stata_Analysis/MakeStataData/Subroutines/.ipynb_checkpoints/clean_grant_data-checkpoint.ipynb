{
 "cells": [
  {
   "cell_type": "code",
   "execution_count": 99,
   "metadata": {},
   "outputs": [],
   "source": [
    "import pandas as pd\n",
    "import json"
   ]
  },
  {
   "cell_type": "code",
   "execution_count": 105,
   "metadata": {},
   "outputs": [],
   "source": [
    "jsonDir = \"/Users/rachelanderson/Dropbox (Princeton)/Data for Tax Equity Project/JSONFiles/\"\n",
    "\n",
    "grant_recips = pd.read_excel('/Users/rachelanderson/Dropbox (Princeton)/Data for Tax Equity Project/treasury_data/grant_awards.xlsx',header=1)\n"
   ]
  },
  {
   "cell_type": "code",
   "execution_count": 106,
   "metadata": {},
   "outputs": [],
   "source": [
    "grant_recips.columns = [x.lower().replace(\" \",\"_\") for x in grant_recips.columns]"
   ]
  },
  {
   "cell_type": "code",
   "execution_count": 107,
   "metadata": {},
   "outputs": [],
   "source": [
    "# technologies don't match other data sources so I'll relabel them\n",
    "recode_technologies = {\n",
    "    'Biomass (closed loop)': 'Other Biomass',\n",
    "    'Biomass (open loop, livestock)': 'Other Biomass',\n",
    "    'Biomass (open loop, cellulosic)': 'Other Biomass',\n",
    "    'Geothermal Heat Pump': 'Geothermal',\n",
    "    'Small Wind': 'Wind',\n",
    "    'Solar Electricity': 'Solar Thermal and Photovoltaic',\n",
    "    'Solar Thermal': 'Solar Thermal and Photovoltaic',\n",
    "    'Solar Lighting':'Solar Thermal and Photovoltaic',\n",
    "    'Hydropower (incremental)': 'Hydroelectric',\n",
    "    'Hydropower (dam)': 'Hydroelectric',\n",
    "    'Geothermal Electricity': 'Geothermal',\n",
    "    'Landfill Gas': 'Other Gases'\n",
    "}"
   ]
  },
  {
   "cell_type": "code",
   "execution_count": 108,
   "metadata": {},
   "outputs": [],
   "source": [
    "grant_recips['energy_source'] = grant_recips['technology'].map(lambda x: recode_technologies[x] if x in recode_technologies else x)"
   ]
  },
  {
   "cell_type": "code",
   "execution_count": 109,
   "metadata": {},
   "outputs": [],
   "source": [
    "grant_df = grant_recips.groupby(['energy_source', 'state']).funded.sum().reset_index()"
   ]
  },
  {
   "cell_type": "code",
   "execution_count": 110,
   "metadata": {},
   "outputs": [],
   "source": [
    "grant_df = grant_df.merge(grant_recips.groupby(['state']).funded.sum().reset_index(), on='state')"
   ]
  },
  {
   "cell_type": "code",
   "execution_count": 111,
   "metadata": {},
   "outputs": [],
   "source": [
    "grant_df.rename(columns={'funded_y':'tot_funded', 'funded_x': 'funded'},inplace=True)"
   ]
  },
  {
   "cell_type": "code",
   "execution_count": 112,
   "metadata": {},
   "outputs": [],
   "source": [
    "funded_dict = grant_recips.groupby(['state']).funded.sum().to_dict()"
   ]
  },
  {
   "cell_type": "code",
   "execution_count": 114,
   "metadata": {},
   "outputs": [],
   "source": [
    "funded_dict = grant_recips.groupby(['state']).funded.sum().to_dict()\n",
    "with open(jsonDir + 'funded_dict.txt','w') as outfile:\n",
    "    json.dump(funded_dict, outfile)"
   ]
  },
  {
   "cell_type": "code",
   "execution_count": 118,
   "metadata": {},
   "outputs": [],
   "source": [
    "num_funded = grant_recips.groupby(['state']).funded.count().to_dict()\n",
    "with open(jsonDir + 'num_funded_dict.txt','w') as outfile:\n",
    "    json.dump(num_funded, outfile)"
   ]
  },
  {
   "cell_type": "code",
   "execution_count": 115,
   "metadata": {},
   "outputs": [],
   "source": [
    "grant_df.to_csv('/Users/rachelanderson/Dropbox (Princeton)/Tax Equity Code/Stata_Analysis/MakeStataData/InputData/grant_data.csv')"
   ]
  },
  {
   "cell_type": "code",
   "execution_count": null,
   "metadata": {},
   "outputs": [],
   "source": []
  }
 ],
 "metadata": {
  "kernelspec": {
   "display_name": "Python 3",
   "language": "python",
   "name": "python3"
  },
  "language_info": {
   "codemirror_mode": {
    "name": "ipython",
    "version": 3
   },
   "file_extension": ".py",
   "mimetype": "text/x-python",
   "name": "python",
   "nbconvert_exporter": "python",
   "pygments_lexer": "ipython3",
   "version": "3.7.4"
  }
 },
 "nbformat": 4,
 "nbformat_minor": 2
}
