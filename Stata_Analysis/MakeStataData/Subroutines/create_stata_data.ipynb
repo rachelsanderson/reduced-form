{
 "cells": [
  {
   "cell_type": "markdown",
   "metadata": {},
   "source": [
    "### This code reads in all raw CSV files and merges them into a CSV that Stata can input easily \n",
    "\n",
    " This code makes a dataset with \n",
    " \n",
    "$y$ = (2016 solar additions in MW)/(solar MW capacity built < 2016)\n",
    "\n",
    "\n",
    "$x$ = (net metering, RPS, RPS w/Solar, avg. retail electricity price, solar index, regulated/not, population, other 2016 cap additions, community solar, region)"
   ]
  },
  {
   "cell_type": "code",
   "execution_count": 1,
   "metadata": {},
   "outputs": [],
   "source": [
    "import pandas as pd\n",
    "import numpy as np\n",
    "import datetime\n",
    "import json\n",
    "import glob\n",
    "\n",
    "# pd.set_option('display.max_rows', None)"
   ]
  },
  {
   "cell_type": "code",
   "execution_count": 95,
   "metadata": {},
   "outputs": [],
   "source": [
    "StataFiles = '/Users/rachelanderson/Dropbox (Princeton)/Data for Tax Equity Project/StataDatasets/'\n",
    "jsonDir = '/Users/rachelanderson/Dropbox (Princeton)/Data for Tax Equity Project/JSONFiles/'"
   ]
  },
  {
   "cell_type": "markdown",
   "metadata": {},
   "source": [
    "### 1. Load in all raw CSV datafiles and merge..."
   ]
  },
  {
   "cell_type": "markdown",
   "metadata": {},
   "source": [
    "### Clean generation data"
   ]
  },
  {
   "cell_type": "code",
   "execution_count": 96,
   "metadata": {
    "scrolled": true
   },
   "outputs": [],
   "source": [
    "# Import generating data (annual)\n",
    "\n",
    "data = pd.ExcelFile('/Users/rachelanderson/Dropbox (Princeton)/Data for Tax Equity Project/eia_summary_data/annual_generation_state.xls')\n",
    "\n",
    "ann_generation = data.parse(sheetname=data.sheet_names[0], skiprows=1)\n",
    "ann_generation.columns = [x.lower().replace(\" \",\"_\") for x in ann_generation.columns]\n",
    "tot_gen = ann_generation[ann_generation['type_of_producer'].str.contains('Total Electric Power')]"
   ]
  },
  {
   "cell_type": "markdown",
   "metadata": {},
   "source": [
    "### Clean capacity data"
   ]
  },
  {
   "cell_type": "code",
   "execution_count": 97,
   "metadata": {},
   "outputs": [],
   "source": [
    "# Import annual capacity data\n",
    "\n",
    "cap_data = pd.read_csv('/Users/rachelanderson/Dropbox (Princeton)/Data for Tax Equity Project/eia_capacity_data/existcapacity_annual.csv', header=1)\n",
    "cap_data.columns = [x.lower().replace(\" \",\"_\") for x in cap_data.columns]\n",
    "cap_data['summer_cap']=pd.to_numeric(cap_data['summer_capacity_(megawatts)'].str.replace(\",\",\"\"),errors='coerce')\n",
    "cap_data['nameplate_cap']=pd.to_numeric(cap_data['nameplate_capacity_(megawatts)'].str.replace(\",\",\"\"),errors='coerce')"
   ]
  },
  {
   "cell_type": "code",
   "execution_count": 98,
   "metadata": {
    "scrolled": true
   },
   "outputs": [],
   "source": [
    "solar_cap = cap_data[(cap_data['producer_type']==\"Total Electric Power Industry\") &\n",
    "                     (cap_data['fuel_source'].str.contains(\"Solar\"))]"
   ]
  },
  {
   "cell_type": "code",
   "execution_count": 99,
   "metadata": {},
   "outputs": [],
   "source": [
    "solar_gen = tot_gen[tot_gen['energy_source']== \"Solar Thermal and Photovoltaic\"]"
   ]
  },
  {
   "cell_type": "code",
   "execution_count": 100,
   "metadata": {},
   "outputs": [],
   "source": [
    "reg1_data = solar_cap.merge(solar_gen, left_on=['year','state_code'],right_on=['year','state'],how='inner')\n",
    "reg1_data.to_csv('/Users/rachelanderson/Dropbox (Princeton)/Data for Tax Equity Project/StataDatasets/cap_gen.csv')"
   ]
  },
  {
   "cell_type": "markdown",
   "metadata": {},
   "source": [
    "### Clean generator dataset"
   ]
  },
  {
   "cell_type": "code",
   "execution_count": 3,
   "metadata": {},
   "outputs": [
    {
     "name": "stderr",
     "output_type": "stream",
     "text": [
      "/Users/rachelanderson/opt/anaconda3/lib/python3.7/site-packages/IPython/core/interactiveshell.py:3058: DtypeWarning: Columns (16,39,43,77) have mixed types. Specify dtype option on import or set low_memory=False.\n",
      "  interactivity=interactivity, compiler=compiler, result=result)\n"
     ]
    }
   ],
   "source": [
    "# Import generator data (survey of all generators in 2018)\n",
    "\n",
    "gen_data = pd.read_csv('/Users/rachelanderson/Dropbox (Princeton)/Data for Tax Equity Project/eia_data/eia8602018/merged_clean_address.csv')\n",
    "gen_data = gen_data.drop(gen_data.columns[gen_data.columns.str.contains(\"Unnamed\")], axis=1)\n",
    "gen_data['operating_year'] = gen_data['operating_year'].astype(int)\n",
    "gen_data['operating_month'] = gen_data['operating_month'].astype(int)\n",
    "gen_data['operating_date'] = pd.to_datetime([f'{y}-{m}-01' for y, m in zip(gen_data.operating_year, gen_data.operating_month)])\n",
    "gen_data['summer_cap']=pd.to_numeric(gen_data['summer_capacity_mw'].str.replace(\",\",\"\").replace(\" \",\"\"))\n",
    "gen_data['winter_cap']=pd.to_numeric(gen_data['winter_capacity_mw'].str.replace(\",\",\"\").replace(\" \",\"\"))"
   ]
  },
  {
   "cell_type": "code",
   "execution_count": 5,
   "metadata": {},
   "outputs": [],
   "source": [
    "solar = gen_data[gen_data['technology'] == \"Solar Photovoltaic\"]\n",
    "solar = solar[solar['grant_program']=='none']"
   ]
  },
  {
   "cell_type": "code",
   "execution_count": 13,
   "metadata": {},
   "outputs": [],
   "source": [
    "gen_data.groupby(['technology', 'plant_state', 'operating_year']).nameplate_cap.sum().reset_index().to_csv(\"/Users/rachelanderson/Dropbox (Princeton)/Tax Equity Code/Stata_Analysis/MakeStataData/InputData/annual_capacity_form860.csv\")"
   ]
  },
  {
   "cell_type": "code",
   "execution_count": 6,
   "metadata": {},
   "outputs": [],
   "source": [
    "solar_cap_monthly = solar.groupby(['plant_state','operating_date','operating_month','operating_year'])[['summer_cap','nameplate_cap', 'winter_cap']].sum().reset_index()\n",
    "res_price_monthly = price_data[['date', 'state', 'residential_price']]"
   ]
  },
  {
   "cell_type": "code",
   "execution_count": 104,
   "metadata": {},
   "outputs": [],
   "source": [
    "monthly_vars = solar_cap_monthly.merge(res_price_monthly, how='right', left_on = ['operating_date', 'plant_state'], right_on=['date','state'])\n",
    "monthly_vars = monthly_vars.drop(columns=['plant_state','operating_date'], axis = 1)\n",
    "monthly_vars=monthly_vars.fillna(0)"
   ]
  },
  {
   "cell_type": "code",
   "execution_count": 105,
   "metadata": {
    "scrolled": true
   },
   "outputs": [],
   "source": [
    "monthly_vars.to_csv('/Users/rachelanderson/Dropbox (Princeton)/Data for Tax Equity Project/monthly_data.csv')"
   ]
  },
  {
   "cell_type": "markdown",
   "metadata": {},
   "source": [
    "### Merge all of the variables together"
   ]
  },
  {
   "cell_type": "code",
   "execution_count": 157,
   "metadata": {},
   "outputs": [],
   "source": [
    "grant_data = pd.read_excel('../../../Data for Tax Equity Project/treasury_data/grant_awards.xlsx',header=1)"
   ]
  },
  {
   "cell_type": "code",
   "execution_count": 158,
   "metadata": {
    "scrolled": false
   },
   "outputs": [],
   "source": [
    "loan_funds = grant_data.groupby('State').Funded.sum().reset_index()"
   ]
  },
  {
   "cell_type": "code",
   "execution_count": 159,
   "metadata": {},
   "outputs": [],
   "source": [
    "solar_cap_ann = solar.groupby(['plant_state','operating_year'])[['summer_cap','nameplate_cap', 'winter_cap']].sum().reset_index()"
   ]
  },
  {
   "cell_type": "code",
   "execution_count": 160,
   "metadata": {},
   "outputs": [],
   "source": [
    "master_df = solar_cap_ann.merge(loan_funds, how='outer',left_on='plant_state',right_on='State')"
   ]
  },
  {
   "cell_type": "code",
   "execution_count": 161,
   "metadata": {},
   "outputs": [],
   "source": [
    "price_data = pd.read_csv(StataFiles + 'RawCSV/monthly_prices_by_state.csv')\n",
    "# take mean of monthly observations so they link up nicely with ann capacity data\n",
    "avg_price_data=price_data.groupby(['state','year']).mean().reset_index()\n",
    "avg_price_data.drop([x for x in tt.columns if \"Unnamed\" in x], axis=1, inplace=True)\n",
    "avg_price_data = avg_price_data[~avg_price_data.isna()]\n",
    "avg_price_data.to_csv(StataFiles + 'RawCSV/avg_prices_by_state.csv')"
   ]
  },
  {
   "cell_type": "code",
   "execution_count": 162,
   "metadata": {
    "scrolled": true
   },
   "outputs": [],
   "source": [
    "master_df = master_df.merge(avg_price_data, how='outer',left_on=['plant_state', 'operating_year'],right_on=['state','year'])"
   ]
  },
  {
   "cell_type": "markdown",
   "metadata": {},
   "source": [
    "### Apply the recoding json dicts"
   ]
  },
  {
   "cell_type": "code",
   "execution_count": 163,
   "metadata": {},
   "outputs": [],
   "source": [
    "recode_dict = {}\n",
    "for fileName in glob.glob(jsonDir + \"*.txt\"):\n",
    "    dict_name = fileName.split(jsonDir)[-1].split('.txt')[0]\n",
    "    with open(fileName) as outfile:\n",
    "        recode_dict[dict_name] = json.load(outfile)\n"
   ]
  },
  {
   "cell_type": "code",
   "execution_count": 164,
   "metadata": {},
   "outputs": [],
   "source": [
    "master_df['regulated']=master_df['plant_state'].map(recode_dict['regulated_dict'])\n",
    "master_df['region'] = master_df['plant_state'].map(recode_dict['region_dict'])\n",
    "master_df['rps'] = master_df['plant_state'].map(recode_dict['rps_dict'])\n",
    "master_df['net_meter'] = master_df['plant_state'].map(recode_dict['net_meter'])"
   ]
  },
  {
   "cell_type": "code",
   "execution_count": 165,
   "metadata": {
    "scrolled": false
   },
   "outputs": [],
   "source": [
    "master_df.drop([x for x in master_df.columns if \"Unnamed\" in x], axis=1,inplace=True)\n",
    "master_df = master_df[~master_df['plant_state'].isna()]\n",
    "# remove years with missing price data\n",
    "master_df = master_df[master_df['operating_year']>=2009].sort_values('year')\n",
    "master_df.rename(columns={'Funded': 'funding_1603'},inplace=True)\n",
    "master_df.drop(['State','plant_state'],axis=1,inplace=True)"
   ]
  },
  {
   "cell_type": "markdown",
   "metadata": {},
   "source": [
    "### Save the csv for stata analysis"
   ]
  },
  {
   "cell_type": "code",
   "execution_count": 167,
   "metadata": {},
   "outputs": [],
   "source": [
    "master_df.to_csv(StataFiles + 'master_dataset.csv')"
   ]
  }
 ],
 "metadata": {
  "kernelspec": {
   "display_name": "Python 3",
   "language": "python",
   "name": "python3"
  },
  "language_info": {
   "codemirror_mode": {
    "name": "ipython",
    "version": 3
   },
   "file_extension": ".py",
   "mimetype": "text/x-python",
   "name": "python",
   "nbconvert_exporter": "python",
   "pygments_lexer": "ipython3",
   "version": "3.7.4"
  }
 },
 "nbformat": 4,
 "nbformat_minor": 2
}
