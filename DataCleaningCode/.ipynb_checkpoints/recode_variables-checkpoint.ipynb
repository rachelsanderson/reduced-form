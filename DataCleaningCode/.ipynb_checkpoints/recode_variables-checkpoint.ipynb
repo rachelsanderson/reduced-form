{
 "cells": [
  {
   "cell_type": "code",
   "execution_count": 54,
   "metadata": {},
   "outputs": [],
   "source": [
    "import pandas as pd\n",
    "from streetaddress import StreetAddressFormatter, StreetAddressParser"
   ]
  },
  {
   "cell_type": "code",
   "execution_count": 55,
   "metadata": {},
   "outputs": [],
   "source": [
    "region_dict = {\n",
    "    \"WA\": \"Northwest\",\n",
    "    \"OR\": \"Northwest\",\n",
    "    \"ID\": \"Northwest\",\n",
    "    'MT': \"Northwest\",\n",
    "    'WY': \"Northwest\",\n",
    "    'NV': \"Northwest\",\n",
    "    'UT': \"Northwest\",\n",
    "    \n",
    "    'CA': 'CAISO',\n",
    "    \n",
    "    'AZ': 'Southwest',\n",
    "    'NM': 'Southwest',\n",
    "    'CO': 'Southwest',\n",
    "    \n",
    "    'TX': 'ERCOT',\n",
    "    \n",
    "    'OK': 'SPP',\n",
    "    'NE': 'SPP',\n",
    "    'SD': 'SPP',\n",
    "    'KS': 'SPP',\n",
    "    \n",
    "    'ND': 'MISO',\n",
    "    'MN': 'MISO',\n",
    "    'IA': 'MISO',\n",
    "    'IL': 'MISO',\n",
    "    'MS': 'MISO',\n",
    "    'WI': 'MISO',\n",
    "    'LA': 'MISO',\n",
    "    'IN': 'MISO',\n",
    "    'MI': 'MISO',\n",
    "    'MO': 'MISO',\n",
    "    'AR': 'MISO',\n",
    "    \n",
    "    'FL': 'Southeast',\n",
    "    'GA': 'Southeast',\n",
    "    'AL': 'Southeast',\n",
    "    'SC': 'Southeast',\n",
    "    'NC': 'Southeast',\n",
    "    'TN': 'Southeast',\n",
    "    \n",
    "    'OH': 'PJM',\n",
    "    'KY': 'PJM',\n",
    "    'VA': 'PJM',\n",
    "    'WV': 'PJM',\n",
    "    'DE': 'PJM',\n",
    "    'PA': 'PJM',\n",
    "    'MD': 'PJM',\n",
    "    'NJ': 'PJM',\n",
    "    \n",
    "    'NY': 'NYISO',\n",
    "    'VT': 'ISO-NE',\n",
    "    'NH': 'ISO-NE',\n",
    "    'MA': 'ISO-NE',\n",
    "    'CT': 'ISO-NE',\n",
    "    'RI': 'ISO-NE',\n",
    "    'ME': 'ISO-NE',\n",
    "    \n",
    "    'HI': 'Hawaii',\n",
    "    'AK': 'Alaska',\n",
    "    'PR': 'Puerto Rico',\n",
    "    'DC': 'District of Columbia'\n",
    "}"
   ]
  },
  {
   "cell_type": "code",
   "execution_count": 56,
   "metadata": {},
   "outputs": [],
   "source": [
    "regulated_dict = {\n",
    "    'AL': 'Regulated',\n",
    "    'AK': 'Regulated',\n",
    "    'AZ': 'Regulated',\n",
    "    'AR': 'Regulated',\n",
    "    'CA': 'Deregulated',\n",
    "    'CO': 'Regulated',\n",
    "    'CT': 'Deregulated',\n",
    "    'DE': 'Deregulated',\n",
    "    'DC': 'Deregulated',\n",
    "    'FL': 'Regulated',\n",
    "    'GA': 'Deregulated',\n",
    "    'HI': 'Regulated',\n",
    "    'ID': 'Regulated',\n",
    "    'IL': 'Deregulated',\n",
    "    'IN': 'Regulated',\n",
    "    'IA': 'Regulated',\n",
    "    'KS': 'Regulated',\n",
    "    'KY': 'Regulated',\n",
    "    'LA': 'Regulated',\n",
    "    'ME': 'Deregulated',\n",
    "    'MD': 'Deregulated',\n",
    "    'MA': 'Deregulated',\n",
    "    'MI': 'Deregulated',\n",
    "    'MN': 'Regulated',\n",
    "    'MS': 'Regulated',\n",
    "    'MO': 'Regulated',\n",
    "    'MT': 'Regulated',\n",
    "    'NE': 'Regulated',\n",
    "    'NV': 'Regulated',\n",
    "    'NH': 'Deregulated',\n",
    "    'NJ': 'Deregulated',\n",
    "    'NM': 'Regulated',\n",
    "    'NY': 'Deregulated',\n",
    "    'NC': 'Regulated',\n",
    "    'ND': 'Regulated',\n",
    "    'OH': 'Deregulated',\n",
    "    'OK': 'Regulated',\n",
    "    'OR': 'Deregulated',\n",
    "    'PA': 'Deregulated',\n",
    "    'RI': 'Deregulated',\n",
    "    'SC': 'Regulated',\n",
    "    'SD': 'Regulated',\n",
    "    'TN': 'Regulated',\n",
    "    'TX': 'Deregulated',\n",
    "    'UT': 'Regulated',\n",
    "    'VT': 'Regulated',\n",
    "    'VA': 'Deregulated',\n",
    "    'WA': 'Regulated',\n",
    "    'WV': 'Regulated',\n",
    "    'WI': 'Regulated',\n",
    "    'WY': 'Regulated'\n",
    "    \n",
    "}"
   ]
  },
  {
   "cell_type": "code",
   "execution_count": 57,
   "metadata": {},
   "outputs": [],
   "source": [
    "status_dict = {\n",
    "    'IP': 'Cancelled',\n",
    "    'TS': 'Construction complete',\n",
    "    'P': 'Planned, not started',\n",
    "    'L': 'Permits pending',\n",
    "    'T': 'Permits received',\n",
    "    'U': 'Under construction, ≤ 50%',\n",
    "    'V': 'Under construction, > 50%',\n",
    "    'OT': 'Other'\n",
    "}\n",
    "\n",
    "alt_status_dict = {\n",
    "    'IP': 'Cancelled',\n",
    "    'TS': 'Built',\n",
    "    'P': 'Planned',\n",
    "    'L': 'Permitting',\n",
    "    'T': 'Permitting',\n",
    "    'U': 'Under construction',\n",
    "    'V': 'Under construction',\n",
    "    'OT': 'Other'\n",
    "}"
   ]
  },
  {
   "cell_type": "code",
   "execution_count": 58,
   "metadata": {},
   "outputs": [
    {
     "name": "stderr",
     "output_type": "stream",
     "text": [
      "/Users/rachelanderson/opt/anaconda3/lib/python3.7/site-packages/IPython/core/interactiveshell.py:3058: DtypeWarning: Columns (16,43) have mixed types. Specify dtype option on import or set low_memory=False.\n",
      "  interactivity=interactivity, compiler=compiler, result=result)\n"
     ]
    }
   ],
   "source": [
    "df = pd.read_csv('../Clean Data/proposed_gen_master_list_post08.csv')\n",
    "df['region'] = df['plant_state'].map( region_dict )\n",
    "df['regulated'] = df['plant_state'].map(regulated_dict)\n",
    "df['status_clean'] = df['status'].map ( status_dict )\n",
    "df['alt_status'] = df['status'].map(alt_status_dict)\n",
    "df['period'] = pd.cut(df['year'], bins=[min(df['year']-1), 2011, 2016, max(df['year'])],\n",
    "      labels = ['2009-2011: Loan grant + ITC', \n",
    "                '2012-2016: ITC Round 1', \n",
    "                '2017-2023: ITC Round 2'])\n",
    "df.to_csv('../Clean Data/proposed_gen_master_list_post08.csv')"
   ]
  },
  {
   "cell_type": "code",
   "execution_count": 59,
   "metadata": {},
   "outputs": [],
   "source": [
    "def clean_df(fileName, state_var,year_var):\n",
    "    df = pd.read_csv(fileName)\n",
    "    df['region'] = df[state_var].map(region_dict)\n",
    "    df['regulated'] = df[state_var].map(regulated_dict)\n",
    "    df['period'] = pd.cut(df[year_var], bins=[min(df[year_var]-1), 2011, 2016, max(df[year_var])],\n",
    "      labels = ['2009-2011: Loan grant + ITC', \n",
    "                '2012-2016: ITC Round 1', \n",
    "                '2017-2023: ITC Round 2'])\n",
    "    df.to_csv(fileName[-3])\n",
    "    out_name = fileName[:-4] + '_new.csv'\n",
    "    df.to_csv(out_name)\n",
    "    return(df)"
   ]
  },
  {
   "cell_type": "code",
   "execution_count": 60,
   "metadata": {},
   "outputs": [],
   "source": [
    "fileName = '../../Tax Equity Code/STATA/capacity_clean.csv'\n",
    "clean_df(fileName, 'State Code', 'Year');"
   ]
  },
  {
   "cell_type": "code",
   "execution_count": 62,
   "metadata": {},
   "outputs": [],
   "source": [
    "fileName = '../../Data for Tax Equity Project/eia_data/eia8602018/merged.csv'\n",
    "clean_df(fileName, 'plant_state','operating_year');"
   ]
  },
  {
   "cell_type": "code",
   "execution_count": 64,
   "metadata": {},
   "outputs": [
    {
     "data": {
      "text/plain": [
       "0        P O Box 2641600 North 18th Str\n",
       "1        P O Box 2641600 North 18th Str\n",
       "2        P O Box 2641600 North 18th Str\n",
       "3        P O Box 2641600 North 18th Str\n",
       "4        P O Box 2641600 North 18th Str\n",
       "                      ...              \n",
       "22113             1656 Champlain Avenue\n",
       "22114             1656 Champlain Avenue\n",
       "22115             1656 Champlain Avenue\n",
       "22116            700 Universe Boulevard\n",
       "22117           55 5th Ave., 18th Floor\n",
       "Name: street_address, Length: 22118, dtype: object"
      ]
     },
     "execution_count": 64,
     "metadata": {},
     "output_type": "execute_result"
    }
   ],
   "source": []
  },
  {
   "cell_type": "markdown",
   "metadata": {},
   "source": [
    "### Code for cleaning street addresses"
   ]
  },
  {
   "cell_type": "code",
   "execution_count": 130,
   "metadata": {},
   "outputs": [],
   "source": [
    "def clean_address(df, address_var):\n",
    "    s=\"\"\n",
    "    addr_formatter = StreetAddressFormatter()\n",
    "    df['clean_address']= df[address_var].apply(lambda x: addr_formatter.abbrev_street_avenue_etc(x))\n",
    "    df['clean_address'] = df['clean_address'].apply(lambda x: s.join(x.lower().split(\"flo\")[:-1]) if \"flo\" in x.lower() else x.lower())\n",
    "#     df['clean_address'] = df['clean_address'].apply(lambda x: s.join(x.lower().split(\"suite\")[:-1]) if \"flo\" in x.lower() else x.lower())\n",
    "    df['clean_address'] = df['clean_address'].apply(lambda x: x.replace(\",\", \" \").replace(\".\",\"\").replace(\"  \", \" \"))\n",
    "\n",
    "    return(df)"
   ]
  },
  {
   "cell_type": "code",
   "execution_count": 134,
   "metadata": {
    "scrolled": true
   },
   "outputs": [],
   "source": [
    "fileName = '../../Data for Tax Equity Project/eia_data/eia8602018/merged_new.csv'\n",
    "fileOut = \"../../Data for Tax Equity Project/eia_data/eia8602018/merged_clean_address.csv\"\n",
    "gen = pd.read_csv(fileName)\n",
    "gen.drop([x for x in gen.columns if \"Unnamed\" in x], axis=1, inplace=True)\n",
    "clean_gen = clean_address(gen,'street_address')"
   ]
  },
  {
   "cell_type": "code",
   "execution_count": 81,
   "metadata": {
    "scrolled": true
   },
   "outputs": [],
   "source": [
    "clean_gen.to_csv(fileOut)"
   ]
  },
  {
   "cell_type": "markdown",
   "metadata": {},
   "source": [
    "## Code for fixing utilities (linking llcs to parent companies)"
   ]
  },
  {
   "cell_type": "code",
   "execution_count": 311,
   "metadata": {},
   "outputs": [],
   "source": [
    "# dictionary of subsidiary companies for top solar utilities\n",
    "\n",
    "utility_subsidiaries = {\n",
    "    \"Southern California Edison Co\": 'Edison International',\n",
    "\n",
    "# southern power co    \n",
    "'Southern Power Co': 'Southern Company',\n",
    "'Mississippi Power Co': 'Southern Company',\n",
    "'Alabama Power Co': 'Southern Company',\n",
    "'Georgia Power Co': 'Southern Company',\n",
    "\n",
    "'Consolidated Edison Energy, Inc.': 'Consolidated Edison',\n",
    "'Consolidated Edison Co-NY Inc': 'Consolidated Edison',\n",
    "'Consolidated Edison Development Inc': 'Consolidated Edison',\n",
    "'Consolidated Edison Solutions Inc': 'Consolidated Edison',\n",
    "    \n",
    "'Dominion Energy South Carolina, Inc': 'Dominion Energy',\n",
    "'Dominion Renewable Energy': 'Dominion Energy',\n",
    "'Virginia Electric & Power Co': 'Dominion Energy',\n",
    "'Dominion Renewable Energy - Clipperton'  : 'Dominion Energy',\n",
    "'Dominion Renewable Energy - Fremont': 'Dominion Energy',\n",
    "    \n",
    "'Florida Power & Light Co': 'NextEra',\n",
    "'Bythe Solar II, LLC': 'NextEra', \n",
    "'Blythe Solar 110': 'NextEra',\n",
    "'McCoy Solar, LLC': 'NextEra',\n",
    "'Silver State Solar Power South, LLC': 'NextEra',\n",
    "'Stuttgart Solar, LLC': 'NextEra',\n",
    "'Marshall Solar Energy Project': 'NextEra',\n",
    "    \n",
    "'BHER Power Resources, Inc': 'Berkshire Hathaway',\n",
    "'BHE Renewables, LLC': 'Berkshire Hathaway',\n",
    "'Topaz Solar Farms LLC': 'Berkshire Hathaway',\n",
    "    \n",
    "'Imperial Valley Solar, LLC': '8me',\n",
    "    \n",
    "'D E Shaw & Co., LP': 'DE Shaw',\n",
    "'North Star Solar PV LLC': 'DE Shaw',\n",
    "'MS Solar 2, LLC': 'DE Shaw'\n",
    "}\n",
    "    "
   ]
  },
  {
   "cell_type": "code",
   "execution_count": 312,
   "metadata": {
    "scrolled": true
   },
   "outputs": [
    {
     "name": "stderr",
     "output_type": "stream",
     "text": [
      "/Users/rachelanderson/opt/anaconda3/lib/python3.7/site-packages/ipykernel_launcher.py:9: SettingWithCopyWarning: \n",
      "A value is trying to be set on a copy of a slice from a DataFrame.\n",
      "Try using .loc[row_indexer,col_indexer] = value instead\n",
      "\n",
      "See the caveats in the documentation: http://pandas.pydata.org/pandas-docs/stable/user_guide/indexing.html#returning-a-view-versus-a-copy\n",
      "  if __name__ == '__main__':\n",
      "/Users/rachelanderson/opt/anaconda3/lib/python3.7/site-packages/ipykernel_launcher.py:10: SettingWithCopyWarning: \n",
      "A value is trying to be set on a copy of a slice from a DataFrame.\n",
      "Try using .loc[row_indexer,col_indexer] = value instead\n",
      "\n",
      "See the caveats in the documentation: http://pandas.pydata.org/pandas-docs/stable/user_guide/indexing.html#returning-a-view-versus-a-copy\n",
      "  # Remove the CWD from sys.path while we load stuff.\n"
     ]
    }
   ],
   "source": [
    "clean_gen = id_parent_comp(clean_gen,'utility_name', 'clean_address', utility_subsidiaries)\n",
    "clean_gen.to_csv(fileOut)"
   ]
  },
  {
   "cell_type": "code",
   "execution_count": 313,
   "metadata": {},
   "outputs": [],
   "source": [
    "def id_parent_comp(df, utility_var, address_var, utility_dict):\n",
    "    #for d in utility_dicts:\n",
    "        \n",
    "    df['parent_utility']=df[utility_var].map(utility_dict)\n",
    "    \n",
    "    df['parent_utility']=df['parent_utility'].fillna(df[utility_var])\n",
    "    \n",
    "    # assign same address to common parent \n",
    "    df[df[address_var].str.contains('1414 harbour way')]['parent_utility'] = \"Solar Star\"\n",
    "    df[df[address_var].str.contains('700 universe')]['parent_utility'] = 'NextEra'\n",
    "    \n",
    "    \n",
    "    df['parent_utility'] = df['parent_utility'].apply(lambda x: \"Duke Energy\" if \"Duke Energy\" in x else x)\n",
    "    df['parent_utility'] = df['parent_utility'].apply(lambda x: \"NextEra\" if \"NextEra\" in x else x)\n",
    "    df['parent_utility'] = df['parent_utility'].apply(lambda x: \"NRG\" if \"NRG\" in x else x)\n",
    "    df['parent_utility'] = df['parent_utility'].apply(lambda x: \"Solar Star\" if \"Solar Star\" in x else x)\n",
    "    df['parent_utility'] = df['parent_utility'].apply(lambda x: \"NRG\" if \"Agua Caliente Solar\" in x else x)\n",
    "    df['parent_utility'] = df['parent_utility'].apply(lambda x: \"NextEra\" if \"Blythe Solar\" in x else x)\n",
    "    df['parent_utility'] = df['parent_utility'].apply(lambda x: \"8me\" if \"8me\" in x.lower() else x)\n",
    "    df['parent_utility'] = df['parent_utility'].apply(lambda x: \"Exelon\" if \"AV Solar\" in x else x)\n",
    "    \n",
    "    return df"
   ]
  },
  {
   "cell_type": "code",
   "execution_count": 314,
   "metadata": {},
   "outputs": [
    {
     "data": {
      "text/html": [
       "<div>\n",
       "<style scoped>\n",
       "    .dataframe tbody tr th:only-of-type {\n",
       "        vertical-align: middle;\n",
       "    }\n",
       "\n",
       "    .dataframe tbody tr th {\n",
       "        vertical-align: top;\n",
       "    }\n",
       "\n",
       "    .dataframe thead th {\n",
       "        text-align: right;\n",
       "    }\n",
       "</style>\n",
       "<table border=\"1\" class=\"dataframe\">\n",
       "  <thead>\n",
       "    <tr style=\"text-align: right;\">\n",
       "      <th></th>\n",
       "      <th>utility_id</th>\n",
       "      <th>utility_name</th>\n",
       "      <th>plant_code</th>\n",
       "      <th>plant_name</th>\n",
       "      <th>plant_state</th>\n",
       "      <th>county</th>\n",
       "      <th>generator_id</th>\n",
       "      <th>technology</th>\n",
       "      <th>prime_mover</th>\n",
       "      <th>unit_code</th>\n",
       "      <th>...</th>\n",
       "      <th>region</th>\n",
       "      <th>regulated</th>\n",
       "      <th>period</th>\n",
       "      <th>nameplate_cap</th>\n",
       "      <th>loan_grant</th>\n",
       "      <th>1603_grant</th>\n",
       "      <th>1705_grant</th>\n",
       "      <th>grant_program</th>\n",
       "      <th>clean_address</th>\n",
       "      <th>parent_utility</th>\n",
       "    </tr>\n",
       "  </thead>\n",
       "  <tbody>\n",
       "    <tr>\n",
       "      <td>20998</td>\n",
       "      <td>61801</td>\n",
       "      <td>D E Shaw &amp; Co., LP</td>\n",
       "      <td>61368.0</td>\n",
       "      <td>Midway Solar - TX</td>\n",
       "      <td>TX</td>\n",
       "      <td>Pecos</td>\n",
       "      <td>PV1</td>\n",
       "      <td>Solar Photovoltaic</td>\n",
       "      <td>PV</td>\n",
       "      <td>NaN</td>\n",
       "      <td>...</td>\n",
       "      <td>ERCOT</td>\n",
       "      <td>Deregulated</td>\n",
       "      <td>2017-2023: ITC Round 2</td>\n",
       "      <td>182.0</td>\n",
       "      <td>False</td>\n",
       "      <td>False</td>\n",
       "      <td>False</td>\n",
       "      <td>none</td>\n",
       "      <td>1166 avenue of the americas</td>\n",
       "      <td>DE Shaw</td>\n",
       "    </tr>\n",
       "  </tbody>\n",
       "</table>\n",
       "<p>1 rows × 93 columns</p>\n",
       "</div>"
      ],
      "text/plain": [
       "       utility_id        utility_name  plant_code         plant_name  \\\n",
       "20998       61801  D E Shaw & Co., LP     61368.0  Midway Solar - TX   \n",
       "\n",
       "      plant_state county generator_id          technology prime_mover  \\\n",
       "20998          TX  Pecos          PV1  Solar Photovoltaic          PV   \n",
       "\n",
       "      unit_code  ... region    regulated                  period  \\\n",
       "20998       NaN  ...  ERCOT  Deregulated  2017-2023: ITC Round 2   \n",
       "\n",
       "      nameplate_cap loan_grant 1603_grant 1705_grant grant_program  \\\n",
       "20998         182.0      False      False      False          none   \n",
       "\n",
       "                     clean_address parent_utility  \n",
       "20998  1166 avenue of the americas        DE Shaw  \n",
       "\n",
       "[1 rows x 93 columns]"
      ]
     },
     "execution_count": 314,
     "metadata": {},
     "output_type": "execute_result"
    }
   ],
   "source": [
    "clean_gen[clean_gen['utility_name'].str.contains(\"Shaw\")]"
   ]
  },
  {
   "cell_type": "code",
   "execution_count": 283,
   "metadata": {},
   "outputs": [
    {
     "data": {
      "text/plain": [
       "array(['AltaGas Blythe Operations Inc', 'NRG Solar Blythe',\n",
       "       'Blythe Solar II, LLC', 'Blythe Solar 110, LLC',\n",
       "       'NRG Solar Blythe II LLC'], dtype=object)"
      ]
     },
     "execution_count": 283,
     "metadata": {},
     "output_type": "execute_result"
    }
   ],
   "source": [
    "clean_gen[clean_gen['utility_name'].str.contains(\"Blythe\")]['utility_name'].unique()"
   ]
  },
  {
   "cell_type": "code",
   "execution_count": 284,
   "metadata": {},
   "outputs": [
    {
     "data": {
      "text/plain": [
       "array(['Florida Power & Light Co', 'NextEra Energy Duane Arnold LLC',\n",
       "       'NextEra Energy Point Beach LLC', 'NextEra Energy Seabrook LLC',\n",
       "       'NextEra Energy Operating Services LLC',\n",
       "       'NextEra Energy Majestic Wind',\n",
       "       'NextEra Energy Montezuma Wind II, LLC',\n",
       "       'NextEra Energy Desert Sunlight 300, LLC',\n",
       "       'NextEra Wolf Ridge LLC', 'NextEra Energy Resources Ensign Wind',\n",
       "       'NextEra Energy Desert Sunlight 250, LLC',\n",
       "       'NextEra Energy Mountain View Solar',\n",
       "       'NextEra Energy Resources Breckinridge',\n",
       "       'NextEra Energy Seiling Wind', 'Blythe Solar II, LLC',\n",
       "       'Blythe Solar 110, LLC'], dtype=object)"
      ]
     },
     "execution_count": 284,
     "metadata": {},
     "output_type": "execute_result"
    }
   ],
   "source": [
    "clean_gen[clean_gen['parent_utility']=='NextEra']['utility_name'].unique()"
   ]
  },
  {
   "cell_type": "code",
   "execution_count": null,
   "metadata": {},
   "outputs": [],
   "source": []
  }
 ],
 "metadata": {
  "kernelspec": {
   "display_name": "Python 3",
   "language": "python",
   "name": "python3"
  },
  "language_info": {
   "codemirror_mode": {
    "name": "ipython",
    "version": 3
   },
   "file_extension": ".py",
   "mimetype": "text/x-python",
   "name": "python",
   "nbconvert_exporter": "python",
   "pygments_lexer": "ipython3",
   "version": "3.7.4"
  }
 },
 "nbformat": 4,
 "nbformat_minor": 2
}
