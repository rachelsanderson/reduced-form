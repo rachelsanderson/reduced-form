{
 "cells": [
  {
   "cell_type": "code",
   "execution_count": 1,
   "metadata": {},
   "outputs": [],
   "source": [
    "import pandas as pd"
   ]
  },
  {
   "cell_type": "code",
   "execution_count": 8,
   "metadata": {},
   "outputs": [],
   "source": [
    "region_dict = {\n",
    "    \"WA\": \"Northwest\",\n",
    "    \"OR\": \"Northwest\",\n",
    "    \"ID\": \"Northwest\",\n",
    "    'MT': \"Northwest\",\n",
    "    'WY': \"Northwest\",\n",
    "    'NV': \"Northwest\",\n",
    "    'UT': \"Northwest\",\n",
    "    \n",
    "    'CA': 'CAISO',\n",
    "    \n",
    "    'AZ': 'Southwest',\n",
    "    'NM': 'Southwest',\n",
    "    'CO': 'Southwest',\n",
    "    \n",
    "    'TX': 'ERCOT',\n",
    "    \n",
    "    'OK': 'SPP',\n",
    "    'NE': 'SPP',\n",
    "    'SD': 'SPP',\n",
    "    'KS': 'SPP',\n",
    "    \n",
    "    'ND': 'MISO',\n",
    "    'MN': 'MISO',\n",
    "    'IA': 'MISO',\n",
    "    'IL': 'MISO',\n",
    "    'MS': 'MISO',\n",
    "    'WI': 'MISO',\n",
    "    'LA': 'MISO',\n",
    "    'IN': 'MISO',\n",
    "    'MI': 'MISO',\n",
    "    'MO': 'MISO',\n",
    "    'AR': 'MISO',\n",
    "    \n",
    "    'FL': 'Southeast',\n",
    "    'GA': 'Southeast',\n",
    "    'AL': 'Southeast',\n",
    "    'SC': 'Southeast',\n",
    "    'NC': 'Southeast',\n",
    "    'TN': 'Southeast',\n",
    "    \n",
    "    'OH': 'PJM',\n",
    "    'KY': 'PJM',\n",
    "    'VA': 'PJM',\n",
    "    'WV': 'PJM',\n",
    "    'DE': 'PJM',\n",
    "    'PA': 'PJM',\n",
    "    'MD': 'PJM',\n",
    "    'NJ': 'PJM',\n",
    "    \n",
    "    'NY': 'NYISO',\n",
    "    'VT': 'ISO-NE',\n",
    "    'NH': 'ISO-NE',\n",
    "    'MA': 'ISO-NE',\n",
    "    'CT': 'ISO-NE',\n",
    "    'RI': 'ISO-NE',\n",
    "    'ME': 'ISO-NE',\n",
    "    \n",
    "    'HI': 'Hawaii',\n",
    "    'AK': 'Alaska',\n",
    "    'PR': 'Puerto Rico',\n",
    "    'DC': 'District of Columbia'\n",
    "}"
   ]
  },
  {
   "cell_type": "code",
   "execution_count": 9,
   "metadata": {},
   "outputs": [],
   "source": [
    "df = pd.read_csv('../Clean Data/proposed_gen_master_list_post08.csv')\n",
    "df['region'] = df['plant_state'].map( region_dict )\n",
    "df.to_csv('../Clean Data/proposed_gen_master_list_post08.csv')"
   ]
  },
  {
   "cell_type": "code",
   "execution_count": null,
   "metadata": {},
   "outputs": [],
   "source": []
  }
 ],
 "metadata": {
  "kernelspec": {
   "display_name": "Python 3",
   "language": "python",
   "name": "python3"
  },
  "language_info": {
   "codemirror_mode": {
    "name": "ipython",
    "version": 3
   },
   "file_extension": ".py",
   "mimetype": "text/x-python",
   "name": "python",
   "nbconvert_exporter": "python",
   "pygments_lexer": "ipython3",
   "version": "3.7.4"
  }
 },
 "nbformat": 4,
 "nbformat_minor": 2
}
