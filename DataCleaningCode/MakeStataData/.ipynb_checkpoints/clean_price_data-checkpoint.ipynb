{
 "cells": [
  {
   "cell_type": "markdown",
   "metadata": {},
   "source": [
    "## Reads in price data, creates some variables, and saves it as into a monthly and annual CSV"
   ]
  },
  {
   "cell_type": "code",
   "execution_count": 19,
   "metadata": {},
   "outputs": [],
   "source": [
    "import pandas as pd\n",
    "import datetime\n",
    "import numpy as np\n",
    "import statsmodels.formula.api as sm\n",
    "import statsmodels.api as smap\n",
    "import matplotlib.pyplot as plt\n",
    "# pd.set_option('display.max_rows', None)"
   ]
  },
  {
   "cell_type": "code",
   "execution_count": 30,
   "metadata": {},
   "outputs": [],
   "source": [
    "outDir = '/Users/rachelanderson/Dropbox (Princeton)/Data for Tax Equity Project/StataDatasets/RawCSV/'"
   ]
  },
  {
   "cell_type": "markdown",
   "metadata": {},
   "source": [
    "## Read in the raw excel data"
   ]
  },
  {
   "cell_type": "code",
   "execution_count": 20,
   "metadata": {},
   "outputs": [],
   "source": [
    "data = pd.ExcelFile('/Users/rachelanderson/Dropbox (Princeton)/Data for Tax Equity Project/monthly_prices_sales_revenue.xlsx')\n",
    "\n",
    "df = data.parse(sheetname=data.sheet_names[0], skiprows=0)"
   ]
  },
  {
   "cell_type": "markdown",
   "metadata": {},
   "source": [
    "## Clean up the column names since they are multi-indexed"
   ]
  },
  {
   "cell_type": "code",
   "execution_count": 21,
   "metadata": {},
   "outputs": [],
   "source": [
    "# make a list of the header row and strip up to the 4th letter. This is the location and year information\n",
    "cols1 = list(df.columns)\n",
    "cols1 = [str(x).lower() for x in cols1]\n",
    "\n",
    "# make another list of the first row,this is the age group information\n",
    "# we need to preserve this information in the column name when we reshape the data \n",
    "cols2 = list(df.iloc[0,:])\n",
    "cols2 = [str(x).lower() for x in cols2]\n",
    "\n",
    "cols3 = list(df.iloc[1,:])\n",
    "cols3 = [str(x).lower().replace(\" \",\"_\") for x in cols3]\n",
    "\n",
    "# now join the two lists to make a combined column name which preserves our location, year and age-group information\n",
    "cols = [x+\"_\"+y for x,y in zip(cols1,cols2)]\n",
    "name = \"\"\n",
    "for i,x in enumerate(cols):\n",
    "    if \"unnamed\" in x:\n",
    "        x = x.split('_')[-1]\n",
    "        cols[i] = x\n",
    "    if \"_\" in x:\n",
    "        name = x.split(\"_\")[0]\n",
    "        continue\n",
    "    elif (\"_\" not in x):\n",
    "        cols[i] = name+\"_\" + x\n",
    "cols[0:4] = cols3[0:4]\n",
    "# Assign new column names to the dataframe\n",
    "df.columns = cols\n",
    "df.drop([0,1], inplace=True)\n",
    "df = df[:-1]"
   ]
  },
  {
   "cell_type": "markdown",
   "metadata": {},
   "source": [
    "## Standardize dates"
   ]
  },
  {
   "cell_type": "code",
   "execution_count": 22,
   "metadata": {},
   "outputs": [],
   "source": [
    "df['date'] = pd.to_datetime([f'{y}-{m}-01' for y, m in zip(df.year, df.month)])"
   ]
  },
  {
   "cell_type": "markdown",
   "metadata": {},
   "source": [
    "### Drop DC because it's a mess, and drop observations > 2008 to reduce massive data size"
   ]
  },
  {
   "cell_type": "code",
   "execution_count": 23,
   "metadata": {},
   "outputs": [],
   "source": [
    "df = df[df['state']!=\"DC\"]\n",
    "df = df[df['year']>2008]"
   ]
  },
  {
   "cell_type": "markdown",
   "metadata": {},
   "source": [
    "## Calculate the % monthly revenue from different sources"
   ]
  },
  {
   "cell_type": "code",
   "execution_count": 25,
   "metadata": {},
   "outputs": [],
   "source": [
    "for x in ['residential', 'commercial', 'industrial']:\n",
    "    df['perc_' + x + '_rev'] = pd.to_numeric(df[x+'_revenue'])/pd.to_numeric(df['total_revenue'])"
   ]
  },
  {
   "cell_type": "markdown",
   "metadata": {},
   "source": [
    "### Save only a subset of columns to reduce data size"
   ]
  },
  {
   "cell_type": "code",
   "execution_count": 27,
   "metadata": {},
   "outputs": [],
   "source": [
    "colList = ['year','month','state','residential_price','perc_residential_rev','perc_commercial_rev','perc_industrial_rev']\n",
    "price_data = df[colList]"
   ]
  },
  {
   "cell_type": "markdown",
   "metadata": {},
   "source": [
    "## Save in RawCSV Stata Data folder"
   ]
  },
  {
   "cell_type": "code",
   "execution_count": 31,
   "metadata": {},
   "outputs": [],
   "source": [
    "price_data.to_csv(outDir + 'monthly_prices_by_state.csv')"
   ]
  },
  {
   "cell_type": "code",
   "execution_count": null,
   "metadata": {},
   "outputs": [],
   "source": []
  }
 ],
 "metadata": {
  "kernelspec": {
   "display_name": "Python 3",
   "language": "python",
   "name": "python3"
  },
  "language_info": {
   "codemirror_mode": {
    "name": "ipython",
    "version": 3
   },
   "file_extension": ".py",
   "mimetype": "text/x-python",
   "name": "python",
   "nbconvert_exporter": "python",
   "pygments_lexer": "ipython3",
   "version": "3.7.4"
  }
 },
 "nbformat": 4,
 "nbformat_minor": 2
}
