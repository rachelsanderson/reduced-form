{
 "cells": [
  {
   "cell_type": "markdown",
   "metadata": {},
   "source": [
    "## Code to clean up energy source variables to identify renewables "
   ]
  },
  {
   "cell_type": "code",
   "execution_count": 3,
   "metadata": {},
   "outputs": [],
   "source": [
    "import pandas as pd\n",
    "import numpy as np\n",
    "%matplotlib inline"
   ]
  },
  {
   "cell_type": "code",
   "execution_count": 5,
   "metadata": {},
   "outputs": [
    {
     "name": "stderr",
     "output_type": "stream",
     "text": [
      "/Users/rachelanderson/opt/anaconda3/lib/python3.7/site-packages/IPython/core/interactiveshell.py:3058: DtypeWarning: Columns (5,8,32) have mixed types. Specify dtype option on import or set low_memory=False.\n",
      "  interactivity=interactivity, compiler=compiler, result=result)\n"
     ]
    }
   ],
   "source": [
    "proposed_gen_data = pd.read_csv('../../Clean Data/proposed_gen_master_list.csv')\n",
    "proposed_gen_data = proposed_gen_data.drop(columns='Unnamed: 0')"
   ]
  },
  {
   "cell_type": "code",
   "execution_count": 175,
   "metadata": {},
   "outputs": [],
   "source": [
    "# code prime mover and energy source variables according to https://www.eia.gov/survey/form/eia_860/instructions.pdf\n",
    "prime_mover_dict = {\n",
    "    'BA': 'storage',\n",
    "    'CE': 'storage',\n",
    "    'CP': 'storage',\n",
    "    'FW': 'storage',\n",
    "    'ES': 'storage',\n",
    "    'ST': 'steam turbine',\n",
    "    'GT': 'gas turbine',\n",
    "    'IC': 'combustion engine',\n",
    "    'CA': 'combined cycle',\n",
    "    'CT': 'combined cycle',\n",
    "    'CS': 'combined cycle',\n",
    "    'CC': 'combined cycle',\n",
    "    'HA': 'hydro',\n",
    "    'HB': 'hydro',\n",
    "    'HK': 'hydro',\n",
    "    'HY': 'hydro',\n",
    "    'PS': 'pumped storage',\n",
    "    'BT': 'binary turbine',\n",
    "    'PV': 'PV',\n",
    "    'WT': 'onshore wind',\n",
    "    'WS': 'offshore wind',\n",
    "    'FC': 'fuel cell',\n",
    "    'OT': 'other'\n",
    "}\n",
    "\n",
    "energy_source_dict = {\n",
    "    \n",
    "    # coal \n",
    "    'ANT': 'coal',\n",
    "    'BIT': 'coal',\n",
    "    'LIG': 'coal',\n",
    "    'SGC': 'coal',\n",
    "    'SUB': 'coal',\n",
    "    'WC': 'coal',\n",
    "    'RC': 'refined coal',\n",
    "    'SC': 'coal',\n",
    "    \n",
    "    # petroleum\n",
    "    'DFO': 'petroleum',\n",
    "    'JF': 'petroleum',\n",
    "    'KER': 'petroleum',\n",
    "    'PC': 'petroleum',\n",
    "    'PG': 'petroleum',\n",
    "    'RFO': 'petroleum',\n",
    "    'SGP': 'petroleum',\n",
    "    'WO': 'petroleum',\n",
    "    \n",
    "    # natural gas + other gases\n",
    "    'BFG': 'gas',\n",
    "    'NG': 'gas',\n",
    "    'OG': 'gas',\n",
    "    'SG': 'gas',\n",
    "    \n",
    "    # solid renewables fuels (bio)\n",
    "    'AB': 'bio',\n",
    "    'MSW': 'bio',\n",
    "    'OBS': 'bio',\n",
    "    'WDS': 'bio',\n",
    "    \n",
    "    #liquid renewable (biomass) fuels\n",
    "    'OBL': 'bio',\n",
    "    'SLW': 'bio',\n",
    "    'BLQ': 'bio',\n",
    "    'WDL': 'bio',\n",
    "    \n",
    "    # gaseous renewable (biomass) fuels\n",
    "    'LFG': 'bio',\n",
    "    'OBG': 'bio',\n",
    "    \n",
    "    # all other renewables\n",
    "    'SUN': 'solar',\n",
    "    'WND': 'wind',\n",
    "    'GEO': 'geothermal',\n",
    "    'WAT': 'hydro', # also used for pumped storage\n",
    "    \n",
    "    # other sources\n",
    "    'NUC': 'nuclear',\n",
    "    'PUR': 'steam',\n",
    "    'WH': 'waste heat', #unknown fuel source? \n",
    "    'TDF': 'tires', #tire-derived soure??\n",
    "    'MWH': 'storage',\n",
    "    'OTH': 'other'\n",
    "    \n",
    "}\n",
    "\n",
    "renewList = ['SUN','WND','GEO','WAT']"
   ]
  },
  {
   "cell_type": "code",
   "execution_count": 255,
   "metadata": {},
   "outputs": [],
   "source": [
    "def id_sources(df, prime_mover_col, energy_source_col):\n",
    "    df['pm_clean'] = df[prime_mover_col].map( prime_mover_dict )\n",
    "    t = [eval(x.replace('nan', '0')) for x in df[energy_source_col]]\n",
    "    sources = []\n",
    "    primary_source = []\n",
    "    renew = []\n",
    "    for i in range(0,len(t)):\n",
    "        sources.append([energy_source_dict[x] for x in t[i] if x!=0])\n",
    "        renew.append(any([x in renewList for x in t[i] if x!=0]))\n",
    "    df['sources'] = sources\n",
    "    df['renew'] = renew\n",
    "    for i in range(0,len(sources)):\n",
    "        if sources[i] == []:\n",
    "            primary_source.append(\"\")\n",
    "        else:\n",
    "            primary_source.append(sources[i][0])\n",
    "    df['primary_source'] = primary_source\n",
    "    return(df)"
   ]
  },
  {
   "cell_type": "code",
   "execution_count": 256,
   "metadata": {
    "scrolled": true
   },
   "outputs": [],
   "source": [
    "proposed_gen_data = proposed_gen_data[proposed_gen_data['year'] >= 2008]\n",
    "proposed_gen_data = id_sources(proposed_gen_data, 'prime_mover', 'energy_source')"
   ]
  },
  {
   "cell_type": "code",
   "execution_count": 260,
   "metadata": {},
   "outputs": [],
   "source": [
    "proposed_gen_data.to_csv(\"../../Clean Data/proposed_gen_master_list_post08.csv\")"
   ]
  },
  {
   "cell_type": "markdown",
   "metadata": {},
   "source": [
    "# group utilities by address... one way of determining common owner. "
   ]
  },
  {
   "cell_type": "markdown",
   "metadata": {},
   "source": [
    "## How many entries appear over multiple years?  i.e. How many unique entries do I actually have? Raw number is 22,195 entries, but some seem to be part of same plant..."
   ]
  },
  {
   "cell_type": "code",
   "execution_count": 297,
   "metadata": {},
   "outputs": [],
   "source": [
    "## Goal is to create a unique ID for each unit in the sample because I am worried that some units will appear in multiple data sets. \n",
    "\n",
    "## Solution is to start with creating group_IDs for entries that have the same (plant code, utility name, nameplate cap, generator id) combinations\n",
    "\n",
    "proposed_gen_data['temp_group_id'] = proposed_gen_data.fillna(method='ffill').groupby(['plant_code', 'utility_name','nameplate_cap', 'generator_id']).grouper.group_info[0]\n",
    "\n",
    "#len(proposed_gen_data['temp_group_id'].unique())\n",
    "# There are 10,380 unique temp_group_ids, so now I need to figure out why there are repeated codes"
   ]
  },
  {
   "cell_type": "code",
   "execution_count": 298,
   "metadata": {
    "scrolled": false
   },
   "outputs": [],
   "source": [
    "# I do this by selecting observations that are coded to the same group_ids\n",
    "\n",
    "special_ids = proposed_gen_data.groupby(['temp_group_id']).size() > 1\n",
    "special_ids = [i for i in special_ids.index if special_ids[i]]\n",
    "special_ids = proposed_gen_data[proposed_gen_data['temp_group_id'].isin(special_ids)]\n",
    "\n",
    "# special_ids.shape[0]\n",
    "# There are 16843 entries with non-unique group_ids."
   ]
  },
  {
   "cell_type": "code",
   "execution_count": 23,
   "metadata": {},
   "outputs": [
    {
     "ename": "NameError",
     "evalue": "name 'special_ids' is not defined",
     "output_type": "error",
     "traceback": [
      "\u001b[0;31m---------------------------------------------------------------------------\u001b[0m",
      "\u001b[0;31mNameError\u001b[0m                                 Traceback (most recent call last)",
      "\u001b[0;32m<ipython-input-23-ee6e60976e9c>\u001b[0m in \u001b[0;36m<module>\u001b[0;34m\u001b[0m\n\u001b[1;32m      1\u001b[0m \u001b[0;31m# Now I look to find out how many of the repeated entries are appearing in multiple years\u001b[0m\u001b[0;34m\u001b[0m\u001b[0;34m\u001b[0m\u001b[0;34m\u001b[0m\u001b[0m\n\u001b[0;32m----> 2\u001b[0;31m \u001b[0mdf\u001b[0m \u001b[0;34m=\u001b[0m \u001b[0mspecial_ids\u001b[0m\u001b[0;34m.\u001b[0m\u001b[0mgroupby\u001b[0m\u001b[0;34m(\u001b[0m\u001b[0;34m'temp_group_id'\u001b[0m\u001b[0;34m)\u001b[0m\u001b[0;34m.\u001b[0m\u001b[0mstatus\u001b[0m\u001b[0;34m.\u001b[0m\u001b[0mnunique\u001b[0m\u001b[0;34m(\u001b[0m\u001b[0;34m)\u001b[0m\u001b[0;34m\u001b[0m\u001b[0;34m\u001b[0m\u001b[0m\n\u001b[0m\u001b[1;32m      3\u001b[0m \u001b[0mdf\u001b[0m\u001b[0;34m\u001b[0m\u001b[0;34m\u001b[0m\u001b[0m\n\u001b[1;32m      4\u001b[0m \u001b[0;31m# For example this thing appears in multiple years... but it's cancelled\u001b[0m\u001b[0;34m\u001b[0m\u001b[0;34m\u001b[0m\u001b[0;34m\u001b[0m\u001b[0m\n\u001b[1;32m      5\u001b[0m \u001b[0;31m# special_ids[special_ids['temp_group_id']==1957].filter(['utility_name','plant_name','status'])\u001b[0m\u001b[0;34m\u001b[0m\u001b[0;34m\u001b[0m\u001b[0;34m\u001b[0m\u001b[0m\n",
      "\u001b[0;31mNameError\u001b[0m: name 'special_ids' is not defined"
     ]
    }
   ],
   "source": [
    "# Now I look to find out how many of the repeated entries are appearing in multiple years\n",
    "df = special_ids.groupby('temp_group_id').status.nunique()\n",
    "df\n",
    "# For example this thing appears in multiple years... but it's cancelled\n",
    "# special_ids[special_ids['temp_group_id']==1957].filter(['utility_name','plant_name','status'])"
   ]
  },
  {
   "cell_type": "code",
   "execution_count": 313,
   "metadata": {},
   "outputs": [],
   "source": [
    "status_codes = {}\n",
    "#IP: Planned new generator cancelled, indefinitely postponed, or no longer in resource plan\n",
    "status_codes['cancelled'] = 'IP'\n",
    "#TS: Construction complete, but not yet in commercial operation\n",
    "status_codes['complete_not_operating'] = 'TS'\n",
    "#P: Planned for installation but regulatory approvals not initiated; not under construction\n",
    "status_codes['planned_not_started'] = 'P'\n",
    "#L: Regulatory approvals pending; not under construction but site preparation could be underway\n",
    "status_codes['reg_approval_pending'] = 'L'\n",
    "#T: Regulatory approvals received; but not under construction but site preparation could be underway\n",
    "status_codes['reg_approval_received'] = 'T'\n",
    "#U: Under construction, less than or equal to 50 percent complete (based on construction time to date of operation)\n",
    "status_codes['under_construction'] = 'U' \n",
    "#V: Under construction, more than 50 percent complete (based on construction time to date of operation)\n",
    "status_codes['almost_done'] = 'V'\n",
    "# Other (described in Comments)\n",
    "status_codes['other'] = 'OT'\n"
   ]
  },
  {
   "cell_type": "code",
   "execution_count": 312,
   "metadata": {},
   "outputs": [
    {
     "data": {
      "text/plain": [
       "IP    6011\n",
       "P     3412\n",
       "L     2063\n",
       "U     1810\n",
       "V     1424\n",
       "T     1372\n",
       "TS     721\n",
       "OT      30\n",
       "Name: status, dtype: int64"
      ]
     },
     "execution_count": 312,
     "metadata": {},
     "output_type": "execute_result"
    }
   ],
   "source": [
    "special_ids['status'].value_counts()"
   ]
  },
  {
   "cell_type": "code",
   "execution_count": 204,
   "metadata": {},
   "outputs": [
    {
     "data": {
      "text/html": [
       "<div>\n",
       "<style scoped>\n",
       "    .dataframe tbody tr th:only-of-type {\n",
       "        vertical-align: middle;\n",
       "    }\n",
       "\n",
       "    .dataframe tbody tr th {\n",
       "        vertical-align: top;\n",
       "    }\n",
       "\n",
       "    .dataframe thead th {\n",
       "        text-align: right;\n",
       "    }\n",
       "</style>\n",
       "<table border=\"1\" class=\"dataframe\">\n",
       "  <thead>\n",
       "    <tr style=\"text-align: right;\">\n",
       "      <th></th>\n",
       "      <th>bypass_heat_recovery</th>\n",
       "      <th>carbon_capture</th>\n",
       "      <th>chp</th>\n",
       "      <th>cofire_fuels</th>\n",
       "      <th>cogen</th>\n",
       "      <th>curr_sceheduled_month</th>\n",
       "      <th>curr_scheduled_year</th>\n",
       "      <th>distributed_gen</th>\n",
       "      <th>duct_burners</th>\n",
       "      <th>energy_source</th>\n",
       "      <th>...</th>\n",
       "      <th>technology</th>\n",
       "      <th>transportation</th>\n",
       "      <th>ultrasupercritical</th>\n",
       "      <th>unit_code</th>\n",
       "      <th>utility_id</th>\n",
       "      <th>utility_name</th>\n",
       "      <th>winter_cap_eia</th>\n",
       "      <th>winter_cap_resp</th>\n",
       "      <th>year</th>\n",
       "      <th>temp_group_id</th>\n",
       "    </tr>\n",
       "  </thead>\n",
       "  <tbody>\n",
       "    <tr>\n",
       "      <td>7700</td>\n",
       "      <td>NaN</td>\n",
       "      <td>NaN</td>\n",
       "      <td>NaN</td>\n",
       "      <td>NaN</td>\n",
       "      <td>N</td>\n",
       "      <td>7.0</td>\n",
       "      <td>2010.0</td>\n",
       "      <td>NaN</td>\n",
       "      <td>NaN</td>\n",
       "      <td>['NG', nan, nan, nan, nan, nan]</td>\n",
       "      <td>...</td>\n",
       "      <td>NaN</td>\n",
       "      <td>[]</td>\n",
       "      <td>NaN</td>\n",
       "      <td>NaN</td>\n",
       "      <td>1015</td>\n",
       "      <td>Austin Energy</td>\n",
       "      <td>50.4</td>\n",
       "      <td>47.3</td>\n",
       "      <td>2008</td>\n",
       "      <td>1091</td>\n",
       "    </tr>\n",
       "    <tr>\n",
       "      <td>9822</td>\n",
       "      <td>NaN</td>\n",
       "      <td>NaN</td>\n",
       "      <td>NaN</td>\n",
       "      <td>NaN</td>\n",
       "      <td>N</td>\n",
       "      <td>7.0</td>\n",
       "      <td>2010.0</td>\n",
       "      <td>NaN</td>\n",
       "      <td>NaN</td>\n",
       "      <td>['NG', nan, nan, nan, nan, nan]</td>\n",
       "      <td>...</td>\n",
       "      <td>NaN</td>\n",
       "      <td>[]</td>\n",
       "      <td>NaN</td>\n",
       "      <td>NaN</td>\n",
       "      <td>1015</td>\n",
       "      <td>Austin Energy</td>\n",
       "      <td>50.4</td>\n",
       "      <td>47.3</td>\n",
       "      <td>2009</td>\n",
       "      <td>1091</td>\n",
       "    </tr>\n",
       "  </tbody>\n",
       "</table>\n",
       "<p>2 rows × 51 columns</p>\n",
       "</div>"
      ],
      "text/plain": [
       "     bypass_heat_recovery carbon_capture  chp cofire_fuels cogen  \\\n",
       "7700                  NaN            NaN  NaN          NaN     N   \n",
       "9822                  NaN            NaN  NaN          NaN     N   \n",
       "\n",
       "      curr_sceheduled_month  curr_scheduled_year distributed_gen duct_burners  \\\n",
       "7700                    7.0               2010.0             NaN          NaN   \n",
       "9822                    7.0               2010.0             NaN          NaN   \n",
       "\n",
       "                        energy_source  ... technology transportation  \\\n",
       "7700  ['NG', nan, nan, nan, nan, nan]  ...        NaN             []   \n",
       "9822  ['NG', nan, nan, nan, nan, nan]  ...        NaN             []   \n",
       "\n",
       "     ultrasupercritical unit_code utility_id   utility_name winter_cap_eia  \\\n",
       "7700                NaN       NaN       1015  Austin Energy           50.4   \n",
       "9822                NaN       NaN       1015  Austin Energy           50.4   \n",
       "\n",
       "     winter_cap_resp  year temp_group_id  \n",
       "7700            47.3  2008          1091  \n",
       "9822            47.3  2009          1091  \n",
       "\n",
       "[2 rows x 51 columns]"
      ]
     },
     "execution_count": 204,
     "metadata": {},
     "output_type": "execute_result"
    }
   ],
   "source": [
    "multi_yr_groups[multi_yr_groups['temp_group_id'] == 1091]"
   ]
  },
  {
   "cell_type": "code",
   "execution_count": null,
   "metadata": {},
   "outputs": [],
   "source": []
  }
 ],
 "metadata": {
  "kernelspec": {
   "display_name": "Python 3",
   "language": "python",
   "name": "python3"
  },
  "language_info": {
   "codemirror_mode": {
    "name": "ipython",
    "version": 3
   },
   "file_extension": ".py",
   "mimetype": "text/x-python",
   "name": "python",
   "nbconvert_exporter": "python",
   "pygments_lexer": "ipython3",
   "version": "3.7.4"
  }
 },
 "nbformat": 4,
 "nbformat_minor": 2
}
