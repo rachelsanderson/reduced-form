{
 "cells": [
  {
   "cell_type": "code",
   "execution_count": null,
   "metadata": {},
   "outputs": [],
   "source": [
    "### This code makes a dataset with \n",
    "# y = (2016 solar additions in MW)/(solar MW capacity built < 2016)\n",
    "# x = (net metering, RPS, RPS w/Solar, avg. retail electricity price, solar index, regulated/not, population, other 2016 cap additions, community solar, region)\n"
   ]
  },
  {
   "cell_type": "code",
   "execution_count": 66,
   "metadata": {},
   "outputs": [],
   "source": [
    "import pandas as pd\n",
    "import datetime\n",
    "import numpy as np\n",
    "import statsmodels.formula.api as sm\n",
    "import statsmodels.api as smap\n",
    "import matplotlib.pyplot as plt\n",
    "pd.set_option('display.max_rows', None)"
   ]
  },
  {
   "cell_type": "markdown",
   "metadata": {},
   "source": [
    "### Clean Price Data"
   ]
  },
  {
   "cell_type": "code",
   "execution_count": 67,
   "metadata": {
    "scrolled": true
   },
   "outputs": [],
   "source": [
    "# Code cleans up data for prices (monthly, state)\n",
    "\n",
    "data = pd.ExcelFile('/Users/rachelanderson/Dropbox (Princeton)/Data for Tax Equity Project/monthly_prices_sales_revenue.xlsx')\n",
    "\n",
    "df = data.parse(sheetname=data.sheet_names[0], skiprows=0)\n",
    "\n",
    "# make a list of the header row and strip up to the 4th letter. This is the location and year information\n",
    "cols1 = list(df.columns)\n",
    "cols1 = [str(x).lower() for x in cols1]\n",
    "\n",
    "# make another list of the first row,this is the age group information\n",
    "# we need to preserve this information in the column name when we reshape the data \n",
    "cols2 = list(df.iloc[0,:])\n",
    "cols2 = [str(x).lower() for x in cols2]\n",
    "\n",
    "cols3 = list(df.iloc[1,:])\n",
    "cols3 = [str(x).lower().replace(\" \",\"_\") for x in cols3]\n",
    "\n",
    "# now join the two lists to make a combined column name which preserves our location, year and age-group information\n",
    "cols = [x+\"_\"+y for x,y in zip(cols1,cols2)]\n",
    "name = \"\"\n",
    "for i,x in enumerate(cols):\n",
    "    if \"unnamed\" in x:\n",
    "        x = x.split('_')[-1]\n",
    "        cols[i] = x\n",
    "    if \"_\" in x:\n",
    "        name = x.split(\"_\")[0]\n",
    "        continue\n",
    "    elif (\"_\" not in x):\n",
    "        cols[i] = name+\"_\" + x\n",
    "cols[0:4] = cols3[0:4]\n",
    "# Assign new column names to the dataframe\n",
    "df.columns = cols\n",
    "df.drop([0,1], inplace=True)\n",
    "df = df[:-1]\n",
    "df.to_csv('/Users/rachelanderson/Dropbox (Princeton)/Data for Tax Equity Project/avg_price_monthly.csv')"
   ]
  },
  {
   "cell_type": "code",
   "execution_count": 70,
   "metadata": {},
   "outputs": [],
   "source": [
    "# Import electricity price data (annual)\n",
    "\n",
    "price_data = pd.read_csv('/Users/rachelanderson/Dropbox (Princeton)/Data for Tax Equity Project/avg_price_monthly.csv')\n",
    "\n",
    "price_data['date'] = pd.to_datetime([f'{y}-{m}-01' for y, m in zip(price_data.year, price_data.month)])"
   ]
  },
  {
   "cell_type": "markdown",
   "metadata": {},
   "source": [
    "### Clean generation data"
   ]
  },
  {
   "cell_type": "code",
   "execution_count": 69,
   "metadata": {
    "scrolled": true
   },
   "outputs": [],
   "source": [
    "# Import generating data (annual)\n",
    "\n",
    "data = pd.ExcelFile('/Users/rachelanderson/Dropbox (Princeton)/Data for Tax Equity Project/eia_summary_data/annual_generation_state.xls')\n",
    "\n",
    "ann_generation = data.parse(sheetname=data.sheet_names[0], skiprows=1)\n",
    "ann_generation.columns = [x.lower().replace(\" \",\"_\") for x in ann_generation.columns]\n",
    "tot_gen = ann_generation[ann_generation['type_of_producer'].str.contains('Total Electric Power')]"
   ]
  },
  {
   "cell_type": "markdown",
   "metadata": {},
   "source": [
    "### Clean capacity data"
   ]
  },
  {
   "cell_type": "code",
   "execution_count": 24,
   "metadata": {},
   "outputs": [],
   "source": [
    "# Import annual capacity data\n",
    "\n",
    "cap_data = pd.read_csv('/Users/rachelanderson/Dropbox (Princeton)/Data for Tax Equity Project/eia_capacity_data/existcapacity_annual.csv', header=1)\n",
    "cap_data.columns = [x.lower().replace(\" \",\"_\") for x in cap_data.columns]\n",
    "cap_data['summer_cap']=pd.to_numeric(cap_data['summer_capacity_(megawatts)'].str.replace(\",\",\"\"),errors='coerce')\n",
    "cap_data['nameplate_cap']=pd.to_numeric(cap_data['nameplate_capacity_(megawatts)'].str.replace(\",\",\"\"),errors='coerce')"
   ]
  },
  {
   "cell_type": "code",
   "execution_count": 33,
   "metadata": {
    "scrolled": true
   },
   "outputs": [],
   "source": [
    "solar_cap = cap_data[(cap_data['producer_type']==\"Total Electric Power Industry\") &\n",
    "                     (cap_data['fuel_source'].str.contains(\"Solar\"))]"
   ]
  },
  {
   "cell_type": "code",
   "execution_count": 58,
   "metadata": {},
   "outputs": [],
   "source": [
    "solar_gen = tot_gen[tot_gen['energy_source']== \"Solar Thermal and Photovoltaic\"]"
   ]
  },
  {
   "cell_type": "code",
   "execution_count": 63,
   "metadata": {},
   "outputs": [],
   "source": [
    "reg1_data = solar_cap.merge(solar_gen, left_on=['year','state_code'],right_on=['year','state'],how='inner')\n",
    "reg1_data.to_csv('/Users/rachelanderson/Dropbox (Princeton)/Data for Tax Equity Project/StataDatasets/cap_gen.csv')"
   ]
  },
  {
   "cell_type": "markdown",
   "metadata": {},
   "source": [
    "### Clean generator dataset"
   ]
  },
  {
   "cell_type": "code",
   "execution_count": 442,
   "metadata": {},
   "outputs": [
    {
     "name": "stderr",
     "output_type": "stream",
     "text": [
      "/Users/rachelanderson/opt/anaconda3/lib/python3.7/site-packages/IPython/core/interactiveshell.py:3058: DtypeWarning: Columns (18,41,45,79) have mixed types. Specify dtype option on import or set low_memory=False.\n",
      "  interactivity=interactivity, compiler=compiler, result=result)\n"
     ]
    }
   ],
   "source": [
    "# Import generator data (survey of all generators in 2018)\n",
    "\n",
    "gen_data = pd.read_csv('/Users/rachelanderson/Dropbox (Princeton)/Data for Tax Equity Project/eia_data/eia8602018/merged_new.csv')\n",
    "gen_data = gen_data.drop(gen_data.columns[gen_data.columns.str.contains(\"Unnamed\")], axis=1)\n",
    "gen_data['operating_year'] = gen_data['operating_year'].astype(int)\n",
    "gen_data['operating_month'] = gen_data['operating_month'].astype(int)\n",
    "gen_data['operating_date'] = pd.to_datetime([f'{y}-{m}-01' for y, m in zip(gen_data.operating_year, gen_data.operating_month)])\n",
    "gen_data['summer_cap']=pd.to_numeric(gen_data['summer_capacity_mw'].str.replace(\",\",\"\").replace(\" \",\"\"))\n",
    "gen_data['winter_cap']=pd.to_numeric(gen_data['winter_capacity_mw'].str.replace(\",\",\"\").replace(\" \",\"\"))"
   ]
  },
  {
   "cell_type": "code",
   "execution_count": 443,
   "metadata": {},
   "outputs": [],
   "source": [
    "solar = gen_data[gen_data['technology'] == \"Solar Photovoltaic\"]\n",
    "solar = solar[solar['grant_program']=='none']"
   ]
  },
  {
   "cell_type": "code",
   "execution_count": 457,
   "metadata": {},
   "outputs": [],
   "source": [
    "solar_cap_monthly = solar.groupby(['plant_state','operating_date','operating_month','operating_year'])[['summer_cap','nameplate_cap', 'winter_cap']].sum().reset_index()\n",
    "res_price_monthly = price_data[['date', 'state', 'residential_price']]"
   ]
  },
  {
   "cell_type": "code",
   "execution_count": 460,
   "metadata": {},
   "outputs": [],
   "source": [
    "monthly_vars = solar_cap_monthly.merge(res_price_monthly, how='right', left_on = ['operating_date', 'plant_state'], right_on=['date','state'])\n",
    "monthly_vars = monthly_vars.drop(columns=['plant_state','operating_date'], axis = 1)\n",
    "monthly_vars=monthly_vars.fillna(0)"
   ]
  },
  {
   "cell_type": "code",
   "execution_count": 461,
   "metadata": {
    "scrolled": true
   },
   "outputs": [],
   "source": [
    "monthly_vars.to_csv('/Users/rachelanderson/Dropbox (Princeton)/Data for Tax Equity Project/monthly_data.csv')"
   ]
  },
  {
   "cell_type": "code",
   "execution_count": null,
   "metadata": {},
   "outputs": [],
   "source": []
  },
  {
   "cell_type": "code",
   "execution_count": 434,
   "metadata": {},
   "outputs": [],
   "source": [
    "grant_data = pd.read_excel('../../../Data for Tax Equity Project/treasury_data/grant_awards.xlsx',header=1)"
   ]
  },
  {
   "cell_type": "code",
   "execution_count": 466,
   "metadata": {
    "scrolled": false
   },
   "outputs": [],
   "source": [
    "loan_funds = grant_data.groupby('State').Funded.sum().reset_index()"
   ]
  },
  {
   "cell_type": "code",
   "execution_count": 472,
   "metadata": {},
   "outputs": [],
   "source": [
    "solar_cap_ann = solar.groupby(['plant_state','operating_year'])[['summer_cap','nameplate_cap', 'winter_cap']].sum().reset_index()"
   ]
  },
  {
   "cell_type": "code",
   "execution_count": 471,
   "metadata": {
    "scrolled": true
   },
   "outputs": [
    {
     "data": {
      "text/html": [
       "<div>\n",
       "<style scoped>\n",
       "    .dataframe tbody tr th:only-of-type {\n",
       "        vertical-align: middle;\n",
       "    }\n",
       "\n",
       "    .dataframe tbody tr th {\n",
       "        vertical-align: top;\n",
       "    }\n",
       "\n",
       "    .dataframe thead th {\n",
       "        text-align: right;\n",
       "    }\n",
       "</style>\n",
       "<table border=\"1\" class=\"dataframe\">\n",
       "  <thead>\n",
       "    <tr style=\"text-align: right;\">\n",
       "      <th></th>\n",
       "      <th>plant_state</th>\n",
       "      <th>operating_year</th>\n",
       "      <th>summer_cap</th>\n",
       "      <th>nameplate_cap</th>\n",
       "      <th>winter_cap</th>\n",
       "    </tr>\n",
       "  </thead>\n",
       "  <tbody>\n",
       "    <tr>\n",
       "      <td>0</td>\n",
       "      <td>AL</td>\n",
       "      <td>2016</td>\n",
       "      <td>75.0</td>\n",
       "      <td>75.0</td>\n",
       "      <td>75.0</td>\n",
       "    </tr>\n",
       "    <tr>\n",
       "      <td>1</td>\n",
       "      <td>AL</td>\n",
       "      <td>2017</td>\n",
       "      <td>104.4</td>\n",
       "      <td>107.2</td>\n",
       "      <td>101.4</td>\n",
       "    </tr>\n",
       "    <tr>\n",
       "      <td>2</td>\n",
       "      <td>AL</td>\n",
       "      <td>2018</td>\n",
       "      <td>14.7</td>\n",
       "      <td>14.7</td>\n",
       "      <td>14.7</td>\n",
       "    </tr>\n",
       "    <tr>\n",
       "      <td>3</td>\n",
       "      <td>AR</td>\n",
       "      <td>2015</td>\n",
       "      <td>12.0</td>\n",
       "      <td>12.0</td>\n",
       "      <td>12.0</td>\n",
       "    </tr>\n",
       "    <tr>\n",
       "      <td>4</td>\n",
       "      <td>AR</td>\n",
       "      <td>2016</td>\n",
       "      <td>1.0</td>\n",
       "      <td>1.0</td>\n",
       "      <td>1.0</td>\n",
       "    </tr>\n",
       "    <tr>\n",
       "      <td>...</td>\n",
       "      <td>...</td>\n",
       "      <td>...</td>\n",
       "      <td>...</td>\n",
       "      <td>...</td>\n",
       "      <td>...</td>\n",
       "    </tr>\n",
       "    <tr>\n",
       "      <td>266</td>\n",
       "      <td>WI</td>\n",
       "      <td>2013</td>\n",
       "      <td>1.0</td>\n",
       "      <td>1.0</td>\n",
       "      <td>1.0</td>\n",
       "    </tr>\n",
       "    <tr>\n",
       "      <td>267</td>\n",
       "      <td>WI</td>\n",
       "      <td>2016</td>\n",
       "      <td>2.1</td>\n",
       "      <td>2.1</td>\n",
       "      <td>2.1</td>\n",
       "    </tr>\n",
       "    <tr>\n",
       "      <td>268</td>\n",
       "      <td>WI</td>\n",
       "      <td>2017</td>\n",
       "      <td>15.3</td>\n",
       "      <td>15.3</td>\n",
       "      <td>15.3</td>\n",
       "    </tr>\n",
       "    <tr>\n",
       "      <td>269</td>\n",
       "      <td>WI</td>\n",
       "      <td>2018</td>\n",
       "      <td>3.7</td>\n",
       "      <td>3.7</td>\n",
       "      <td>3.7</td>\n",
       "    </tr>\n",
       "    <tr>\n",
       "      <td>270</td>\n",
       "      <td>WY</td>\n",
       "      <td>2018</td>\n",
       "      <td>92.0</td>\n",
       "      <td>92.0</td>\n",
       "      <td>92.0</td>\n",
       "    </tr>\n",
       "  </tbody>\n",
       "</table>\n",
       "<p>271 rows × 5 columns</p>\n",
       "</div>"
      ],
      "text/plain": [
       "    plant_state  operating_year  summer_cap  nameplate_cap  winter_cap\n",
       "0            AL            2016        75.0           75.0        75.0\n",
       "1            AL            2017       104.4          107.2       101.4\n",
       "2            AL            2018        14.7           14.7        14.7\n",
       "3            AR            2015        12.0           12.0        12.0\n",
       "4            AR            2016         1.0            1.0         1.0\n",
       "..          ...             ...         ...            ...         ...\n",
       "266          WI            2013         1.0            1.0         1.0\n",
       "267          WI            2016         2.1            2.1         2.1\n",
       "268          WI            2017        15.3           15.3        15.3\n",
       "269          WI            2018         3.7            3.7         3.7\n",
       "270          WY            2018        92.0           92.0        92.0\n",
       "\n",
       "[271 rows x 5 columns]"
      ]
     },
     "execution_count": 471,
     "metadata": {},
     "output_type": "execute_result"
    }
   ],
   "source": [
    "# y = 2016 capacity addition as a percent of stock up until 2016"
   ]
  },
  {
   "cell_type": "code",
   "execution_count": 516,
   "metadata": {},
   "outputs": [],
   "source": []
  },
  {
   "cell_type": "code",
   "execution_count": null,
   "metadata": {},
   "outputs": [],
   "source": []
  }
 ],
 "metadata": {
  "kernelspec": {
   "display_name": "Python 3",
   "language": "python",
   "name": "python3"
  },
  "language_info": {
   "codemirror_mode": {
    "name": "ipython",
    "version": 3
   },
   "file_extension": ".py",
   "mimetype": "text/x-python",
   "name": "python",
   "nbconvert_exporter": "python",
   "pygments_lexer": "ipython3",
   "version": "3.7.4"
  }
 },
 "nbformat": 4,
 "nbformat_minor": 2
}
