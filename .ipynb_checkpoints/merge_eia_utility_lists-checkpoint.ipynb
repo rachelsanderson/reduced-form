{
 "cells": [
  {
   "cell_type": "code",
   "execution_count": 5,
   "metadata": {},
   "outputs": [],
   "source": [
    "import pandas as pd\n",
    "import os"
   ]
  },
  {
   "cell_type": "code",
   "execution_count": 21,
   "metadata": {},
   "outputs": [],
   "source": [
    "## Select all the \"utility files from EIA data\"\n",
    "\n",
    "util_files = []\n",
    "\n",
    "root_dir = \"../Data for Tax Equity Project/eia_data/\"\n",
    "for filename in os.listdir(root_dir):\n",
    "    if \"eia\" in filename:\n",
    "        for f in os.listdir(root_dir+filename):\n",
    "            if \"util\" in f.lower():\n",
    "                util_files.append(root_dir+filename+\"/\"+f)"
   ]
  },
  {
   "cell_type": "code",
   "execution_count": 92,
   "metadata": {},
   "outputs": [
    {
     "name": "stdout",
     "output_type": "stream",
     "text": [
      "2010\n",
      "2017\n",
      "2018\n",
      "2016\n",
      "2011\n",
      "2005\n",
      "2004\n",
      "2014\n",
      "2013\n",
      "2012\n",
      "2015\n",
      "2008\n",
      "2006\n",
      "2007\n",
      "2009\n"
     ]
    }
   ],
   "source": [
    "all_utilities = {}\n",
    "\n",
    "for file in util_files:\n",
    "    year = \"20\" + file.split(\".\")[-2][-2:]\n",
    "    print(year)\n",
    "    temp_df = pd.read_excel(file)\n",
    "    temp_df.columns = map(str.lower,temp_df.columns)\n",
    "    if any(\"unnamed\" in s for s in temp_df.columns):\n",
    "        temp_df = pd.read_excel(file, header=1)\n",
    "        temp_df.columns = map(str.lower,temp_df.columns)\n",
    "    for colName in temp_df.columns:\n",
    "        if \"util\" in colName and \"name\" in colName:\n",
    "            temp_df = temp_df.rename(columns={colName : 'utility_name'})\n",
    "    all_utilities[int(year)] = temp_df['utility_name'].unique()"
   ]
  },
  {
   "cell_type": "code",
   "execution_count": 173,
   "metadata": {},
   "outputs": [
    {
     "name": "stderr",
     "output_type": "stream",
     "text": [
      "/Users/rachelanderson/opt/anaconda3/lib/python3.7/site-packages/ipykernel_launcher.py:4: FutureWarning: set_value is deprecated and will be removed in a future release. Please use .at[] or .iat[] accessors instead\n",
      "  after removing the cwd from sys.path.\n"
     ]
    }
   ],
   "source": [
    "minYear = min(all_utilities.keys())\n",
    "maxYear = max(all_utilities.keys())\n",
    "utility_names = set(val for key in all_utilities for val in all_utilities[key])\n",
    "master_util_list = pd.DataFrame(index=utility_names, columns=range(minYear, maxYear+1))\n",
    "\n",
    "for i in master_util_list.index:\n",
    "    for yr in master_util_list.columns:\n",
    "        if i in all_utilities[yr]:\n",
    "            master_util_list.set_value(i, yr, 1)\n",
    "master_util_list = master_util_list.fillna(0)\n",
    "master_util_list = master_util_list.loc[(master_util_list.sum(axis=1) != 0), (master_util_list.sum(axis=0) != 0)]"
   ]
  },
  {
   "cell_type": "code",
   "execution_count": 197,
   "metadata": {},
   "outputs": [],
   "source": [
    "master_util_list.index = [i.lstrip() for i in master_util_list.index]\n",
    "master_util_list = master_util_list.sort_index()"
   ]
  },
  {
   "cell_type": "code",
   "execution_count": 198,
   "metadata": {},
   "outputs": [],
   "source": [
    "master_util_list.to_csv('../Data for Tax Equity Project/eia_data/eia_master_files/master_util_list.csv')"
   ]
  },
  {
   "cell_type": "code",
   "execution_count": null,
   "metadata": {},
   "outputs": [],
   "source": []
  },
  {
   "cell_type": "code",
   "execution_count": null,
   "metadata": {},
   "outputs": [],
   "source": []
  },
  {
   "cell_type": "code",
   "execution_count": null,
   "metadata": {},
   "outputs": [],
   "source": []
  }
 ],
 "metadata": {
  "kernelspec": {
   "display_name": "Python 3",
   "language": "python",
   "name": "python3"
  },
  "language_info": {
   "codemirror_mode": {
    "name": "ipython",
    "version": 3
   },
   "file_extension": ".py",
   "mimetype": "text/x-python",
   "name": "python",
   "nbconvert_exporter": "python",
   "pygments_lexer": "ipython3",
   "version": "3.7.4"
  }
 },
 "nbformat": 4,
 "nbformat_minor": 2
}
