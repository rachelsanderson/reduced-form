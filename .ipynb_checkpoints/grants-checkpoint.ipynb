{
 "cells": [
  {
   "cell_type": "markdown",
   "metadata": {},
   "source": [
    "### Now I want to identify where the utilities are located, what technologies, other good stuff like that."
   ]
  },
  {
   "cell_type": "code",
   "execution_count": 72,
   "metadata": {},
   "outputs": [],
   "source": [
    "import pandas as pd\n",
    "import matplotlib as plt"
   ]
  },
  {
   "cell_type": "code",
   "execution_count": null,
   "metadata": {},
   "outputs": [],
   "source": []
  },
  {
   "cell_type": "code",
   "execution_count": 54,
   "metadata": {},
   "outputs": [],
   "source": [
    "utils = pd.read_csv('../Data for Tax Equity Project/eia_data/eia_master_files/master_util_list.csv', index_col = 0)\n",
    "util_names = utils.index"
   ]
  },
  {
   "cell_type": "code",
   "execution_count": 55,
   "metadata": {},
   "outputs": [],
   "source": [
    "grant_recips = pd.read_excel('../Data for Tax Equity Project/treasury_data/grant_awards.xlsx',header=1)"
   ]
  },
  {
   "cell_type": "code",
   "execution_count": 57,
   "metadata": {
    "scrolled": false
   },
   "outputs": [],
   "source": [
    "overlap = list(set(grant_recips['Business Name'].tolist()) & set( util_names.tolist()))"
   ]
  },
  {
   "cell_type": "code",
   "execution_count": 58,
   "metadata": {},
   "outputs": [
    {
     "data": {
      "text/plain": [
       "211"
      ]
     },
     "execution_count": 58,
     "metadata": {},
     "output_type": "execute_result"
    }
   ],
   "source": [
    "len(overlap)"
   ]
  },
  {
   "cell_type": "code",
   "execution_count": 67,
   "metadata": {
    "scrolled": false
   },
   "outputs": [
    {
     "data": {
      "text/plain": [
       "10014"
      ]
     },
     "execution_count": 67,
     "metadata": {},
     "output_type": "execute_result"
    }
   ],
   "source": [
    "grant_recips.shape[0]"
   ]
  },
  {
   "cell_type": "code",
   "execution_count": 66,
   "metadata": {},
   "outputs": [
    {
     "data": {
      "text/html": [
       "<div>\n",
       "<style scoped>\n",
       "    .dataframe tbody tr th:only-of-type {\n",
       "        vertical-align: middle;\n",
       "    }\n",
       "\n",
       "    .dataframe tbody tr th {\n",
       "        vertical-align: top;\n",
       "    }\n",
       "\n",
       "    .dataframe thead th {\n",
       "        text-align: right;\n",
       "    }\n",
       "</style>\n",
       "<table border=\"1\" class=\"dataframe\">\n",
       "  <thead>\n",
       "    <tr style=\"text-align: right;\">\n",
       "      <th></th>\n",
       "      <th>Business Name</th>\n",
       "      <th>State</th>\n",
       "      <th>Technology</th>\n",
       "      <th>Funded</th>\n",
       "      <th>Award Date</th>\n",
       "    </tr>\n",
       "  </thead>\n",
       "  <tbody>\n",
       "    <tr>\n",
       "      <td>1630</td>\n",
       "      <td>\"O\" Village Investors</td>\n",
       "      <td>CA</td>\n",
       "      <td>Solar Thermal</td>\n",
       "      <td>26400.0</td>\n",
       "      <td>2010-04-05 00:00:00</td>\n",
       "    </tr>\n",
       "    <tr>\n",
       "      <td>5375</td>\n",
       "      <td>1 Slater Drive LLC</td>\n",
       "      <td>NJ</td>\n",
       "      <td>Solar Electricity</td>\n",
       "      <td>1234271.0</td>\n",
       "      <td>2011-12-14 00:00:00</td>\n",
       "    </tr>\n",
       "    <tr>\n",
       "      <td>3696</td>\n",
       "      <td>100 Discovery Way LLC</td>\n",
       "      <td>MA</td>\n",
       "      <td>Solar Electricity</td>\n",
       "      <td>200124.0</td>\n",
       "      <td>2012-03-24 00:00:00</td>\n",
       "    </tr>\n",
       "    <tr>\n",
       "      <td>5376</td>\n",
       "      <td>100 Dorigo, LLC</td>\n",
       "      <td>NJ</td>\n",
       "      <td>Solar Electricity</td>\n",
       "      <td>1232182.0</td>\n",
       "      <td>2012-03-21 00:00:00</td>\n",
       "    </tr>\n",
       "    <tr>\n",
       "      <td>7152</td>\n",
       "      <td>1000 Park Plaza Co., LLC</td>\n",
       "      <td>NY</td>\n",
       "      <td>Solar Electricity</td>\n",
       "      <td>79395.0</td>\n",
       "      <td>2011-06-29 00:00:00</td>\n",
       "    </tr>\n",
       "    <tr>\n",
       "      <td>...</td>\n",
       "      <td>...</td>\n",
       "      <td>...</td>\n",
       "      <td>...</td>\n",
       "      <td>...</td>\n",
       "      <td>...</td>\n",
       "    </tr>\n",
       "    <tr>\n",
       "      <td>2443</td>\n",
       "      <td>sunONE VI</td>\n",
       "      <td>DE</td>\n",
       "      <td>Solar Electricity</td>\n",
       "      <td>244238.0</td>\n",
       "      <td>2011-04-18 00:00:00</td>\n",
       "    </tr>\n",
       "    <tr>\n",
       "      <td>6714</td>\n",
       "      <td>sunONE VII LLC</td>\n",
       "      <td>NJ</td>\n",
       "      <td>Solar Electricity</td>\n",
       "      <td>67482.0</td>\n",
       "      <td>2011-02-14 00:00:00</td>\n",
       "    </tr>\n",
       "    <tr>\n",
       "      <td>6956</td>\n",
       "      <td>sunTHREE ABQ LLC</td>\n",
       "      <td>NM</td>\n",
       "      <td>Solar Electricity</td>\n",
       "      <td>341070.0</td>\n",
       "      <td>2012-12-12 00:00:00</td>\n",
       "    </tr>\n",
       "    <tr>\n",
       "      <td>4439</td>\n",
       "      <td>sunTHREE II LLC</td>\n",
       "      <td>MD</td>\n",
       "      <td>Solar Electricity</td>\n",
       "      <td>48203.0</td>\n",
       "      <td>2012-03-15 00:00:00</td>\n",
       "    </tr>\n",
       "    <tr>\n",
       "      <td>10012</td>\n",
       "      <td>NaN</td>\n",
       "      <td>NaN</td>\n",
       "      <td>NaN</td>\n",
       "      <td>NaN</td>\n",
       "      <td>NaN</td>\n",
       "    </tr>\n",
       "  </tbody>\n",
       "</table>\n",
       "<p>10014 rows × 5 columns</p>\n",
       "</div>"
      ],
      "text/plain": [
       "                  Business Name State         Technology     Funded  \\\n",
       "1630      \"O\" Village Investors    CA      Solar Thermal    26400.0   \n",
       "5375         1 Slater Drive LLC    NJ  Solar Electricity  1234271.0   \n",
       "3696      100 Discovery Way LLC    MA  Solar Electricity   200124.0   \n",
       "5376            100 Dorigo, LLC    NJ  Solar Electricity  1232182.0   \n",
       "7152   1000 Park Plaza Co., LLC    NY  Solar Electricity    79395.0   \n",
       "...                         ...   ...                ...        ...   \n",
       "2443                  sunONE VI    DE  Solar Electricity   244238.0   \n",
       "6714             sunONE VII LLC    NJ  Solar Electricity    67482.0   \n",
       "6956           sunTHREE ABQ LLC    NM  Solar Electricity   341070.0   \n",
       "4439            sunTHREE II LLC    MD  Solar Electricity    48203.0   \n",
       "10012                       NaN   NaN                NaN        NaN   \n",
       "\n",
       "                Award Date  \n",
       "1630   2010-04-05 00:00:00  \n",
       "5375   2011-12-14 00:00:00  \n",
       "3696   2012-03-24 00:00:00  \n",
       "5376   2012-03-21 00:00:00  \n",
       "7152   2011-06-29 00:00:00  \n",
       "...                    ...  \n",
       "2443   2011-04-18 00:00:00  \n",
       "6714   2011-02-14 00:00:00  \n",
       "6956   2012-12-12 00:00:00  \n",
       "4439   2012-03-15 00:00:00  \n",
       "10012                  NaN  \n",
       "\n",
       "[10014 rows x 5 columns]"
      ]
     },
     "execution_count": 66,
     "metadata": {},
     "output_type": "execute_result"
    }
   ],
   "source": [
    "grant_recips.sort_values(by = ['Business Name'])"
   ]
  },
  {
   "cell_type": "code",
   "execution_count": 65,
   "metadata": {
    "scrolled": true
   },
   "outputs": [
    {
     "data": {
      "text/html": [
       "<div>\n",
       "<style scoped>\n",
       "    .dataframe tbody tr th:only-of-type {\n",
       "        vertical-align: middle;\n",
       "    }\n",
       "\n",
       "    .dataframe tbody tr th {\n",
       "        vertical-align: top;\n",
       "    }\n",
       "\n",
       "    .dataframe thead th {\n",
       "        text-align: right;\n",
       "    }\n",
       "</style>\n",
       "<table border=\"1\" class=\"dataframe\">\n",
       "  <thead>\n",
       "    <tr style=\"text-align: right;\">\n",
       "      <th></th>\n",
       "      <th>Business Name</th>\n",
       "      <th>State</th>\n",
       "      <th>Technology</th>\n",
       "      <th>Funded</th>\n",
       "      <th>Award Date</th>\n",
       "    </tr>\n",
       "  </thead>\n",
       "  <tbody>\n",
       "    <tr>\n",
       "      <td>3809</td>\n",
       "      <td>CES Sterling LLC</td>\n",
       "      <td>MA</td>\n",
       "      <td>Solar Electricity</td>\n",
       "      <td>1526438.0</td>\n",
       "      <td>2013-05-31 00:00:00</td>\n",
       "    </tr>\n",
       "  </tbody>\n",
       "</table>\n",
       "</div>"
      ],
      "text/plain": [
       "         Business Name State         Technology     Funded  \\\n",
       "3809  CES Sterling LLC    MA  Solar Electricity  1526438.0   \n",
       "\n",
       "               Award Date  \n",
       "3809  2013-05-31 00:00:00  "
      ]
     },
     "execution_count": 65,
     "metadata": {},
     "output_type": "execute_result"
    }
   ],
   "source": [
    "grant_recips.loc[grant_recips['Business Name'] == 'CES Sterling LLC']"
   ]
  },
  {
   "cell_type": "markdown",
   "metadata": {},
   "source": [
    "## Do some summary statistics on loan grants awarded "
   ]
  },
  {
   "cell_type": "code",
   "execution_count": 86,
   "metadata": {},
   "outputs": [],
   "source": [
    "grant_recips['Award Date'] = pd.to_datetime(grant_recips['Award Date'], errors='coerce')"
   ]
  },
  {
   "cell_type": "code",
   "execution_count": 94,
   "metadata": {},
   "outputs": [],
   "source": [
    "tab = grant_recips.groupby([grant_recips[\"Award Date\"].dt.year, \"Technology\"]).sum()"
   ]
  },
  {
   "cell_type": "code",
   "execution_count": 95,
   "metadata": {},
   "outputs": [
    {
     "data": {
      "text/html": [
       "<div>\n",
       "<style scoped>\n",
       "    .dataframe tbody tr th:only-of-type {\n",
       "        vertical-align: middle;\n",
       "    }\n",
       "\n",
       "    .dataframe tbody tr th {\n",
       "        vertical-align: top;\n",
       "    }\n",
       "\n",
       "    .dataframe thead th {\n",
       "        text-align: right;\n",
       "    }\n",
       "</style>\n",
       "<table border=\"1\" class=\"dataframe\">\n",
       "  <thead>\n",
       "    <tr style=\"text-align: right;\">\n",
       "      <th></th>\n",
       "      <th></th>\n",
       "      <th>Funded</th>\n",
       "    </tr>\n",
       "    <tr>\n",
       "      <th>Award Date</th>\n",
       "      <th>Technology</th>\n",
       "      <th></th>\n",
       "    </tr>\n",
       "  </thead>\n",
       "  <tbody>\n",
       "    <tr>\n",
       "      <td rowspan=\"5\" valign=\"top\">2009.0</td>\n",
       "      <td>Biomass (open loop, cellulosic)</td>\n",
       "      <td>52421454.0</td>\n",
       "    </tr>\n",
       "    <tr>\n",
       "      <td>Biomass (open loop, livestock)</td>\n",
       "      <td>1647211.0</td>\n",
       "    </tr>\n",
       "    <tr>\n",
       "      <td>Fuel Cell</td>\n",
       "      <td>1870235.0</td>\n",
       "    </tr>\n",
       "    <tr>\n",
       "      <td>Geothermal Electricity</td>\n",
       "      <td>5071.0</td>\n",
       "    </tr>\n",
       "    <tr>\n",
       "      <td>Geothermal Heat Pump</td>\n",
       "      <td>10492.0</td>\n",
       "    </tr>\n",
       "    <tr>\n",
       "      <td>...</td>\n",
       "      <td>...</td>\n",
       "      <td>...</td>\n",
       "    </tr>\n",
       "    <tr>\n",
       "      <td rowspan=\"5\" valign=\"top\">2017.0</td>\n",
       "      <td>Geothermal Heat Pump</td>\n",
       "      <td>818252.0</td>\n",
       "    </tr>\n",
       "    <tr>\n",
       "      <td>Small Wind</td>\n",
       "      <td>286246.0</td>\n",
       "    </tr>\n",
       "    <tr>\n",
       "      <td>Solar Electricity</td>\n",
       "      <td>516314733.0</td>\n",
       "    </tr>\n",
       "    <tr>\n",
       "      <td>Solar Thermal</td>\n",
       "      <td>417289.0</td>\n",
       "    </tr>\n",
       "    <tr>\n",
       "      <td>Wind</td>\n",
       "      <td>24255.0</td>\n",
       "    </tr>\n",
       "  </tbody>\n",
       "</table>\n",
       "<p>110 rows × 1 columns</p>\n",
       "</div>"
      ],
      "text/plain": [
       "                                                 Funded\n",
       "Award Date Technology                                  \n",
       "2009.0     Biomass (open loop, cellulosic)   52421454.0\n",
       "           Biomass (open loop, livestock)     1647211.0\n",
       "           Fuel Cell                          1870235.0\n",
       "           Geothermal Electricity                5071.0\n",
       "           Geothermal Heat Pump                 10492.0\n",
       "...                                                 ...\n",
       "2017.0     Geothermal Heat Pump                818252.0\n",
       "           Small Wind                          286246.0\n",
       "           Solar Electricity                516314733.0\n",
       "           Solar Thermal                       417289.0\n",
       "           Wind                                 24255.0\n",
       "\n",
       "[110 rows x 1 columns]"
      ]
     },
     "execution_count": 95,
     "metadata": {},
     "output_type": "execute_result"
    }
   ],
   "source": [
    "tab"
   ]
  },
  {
   "cell_type": "code",
   "execution_count": null,
   "metadata": {},
   "outputs": [],
   "source": []
  },
  {
   "cell_type": "code",
   "execution_count": null,
   "metadata": {},
   "outputs": [],
   "source": [
    "fig, ax = plt.subplots(figsize=(10,7))  \n",
    "\n",
    "tech = df['Technology'].drop_duplicates()\n",
    "margin_bottom = np.zeros(len(df['Award Date'].drop_duplicates()))\n",
    "# colors = [\"#006D2C\", \"#31A354\",\"#74C476\"]\n",
    "\n",
    "for num, tec in enumerate(tech):\n",
    "    values = list(df[df['Technology'] == tec].loc[:, 'Funded'])\n",
    "\n",
    "    df[df['Technology'] == tec].plot.bar(x='Award Date',y='Funded', ax=ax, stacked=True, \n",
    "                                    bottom = margin_bottom, label=tec)\n",
    "    margin_bottom += values\n",
    "\n",
    "plt.show()"
   ]
  },
  {
   "cell_type": "code",
   "execution_count": 84,
   "metadata": {},
   "outputs": [
    {
     "data": {
      "text/plain": [
       "<matplotlib.axes._subplots.AxesSubplot at 0x1233a8f90>"
      ]
     },
     "execution_count": 84,
     "metadata": {},
     "output_type": "execute_result"
    },
    {
     "data": {
      "image/png": "[encoded data removed]",
      "text/plain": [
       "<Figure size 432x288 with 1 Axes>"
      ]
     },
     "metadata": {
      "needs_background": "light"
     },
     "output_type": "display_data"
    }
   ],
   "source": [
    "grant_recips.groupby(grant_recips[\"Award Date\"].dt.year).count().plot(kind=\"bar\")"
   ]
  },
  {
   "cell_type": "code",
   "execution_count": null,
   "metadata": {},
   "outputs": [],
   "source": []
  },
  {
   "cell_type": "code",
   "execution_count": null,
   "metadata": {},
   "outputs": [],
   "source": []
  },
  {
   "cell_type": "code",
   "execution_count": null,
   "metadata": {},
   "outputs": [],
   "source": []
  },
  {
   "cell_type": "code",
   "execution_count": null,
   "metadata": {},
   "outputs": [],
   "source": []
  },
  {
   "cell_type": "code",
   "execution_count": null,
   "metadata": {},
   "outputs": [],
   "source": []
  },
  {
   "cell_type": "code",
   "execution_count": null,
   "metadata": {},
   "outputs": [],
   "source": []
  },
  {
   "cell_type": "code",
   "execution_count": null,
   "metadata": {},
   "outputs": [],
   "source": []
  }
 ],
 "metadata": {
  "kernelspec": {
   "display_name": "Python 3",
   "language": "python",
   "name": "python3"
  },
  "language_info": {
   "codemirror_mode": {
    "name": "ipython",
    "version": 3
   },
   "file_extension": ".py",
   "mimetype": "text/x-python",
   "name": "python",
   "nbconvert_exporter": "python",
   "pygments_lexer": "ipython3",
   "version": "3.7.4"
  }
 },
 "nbformat": 4,
 "nbformat_minor": 2
}
