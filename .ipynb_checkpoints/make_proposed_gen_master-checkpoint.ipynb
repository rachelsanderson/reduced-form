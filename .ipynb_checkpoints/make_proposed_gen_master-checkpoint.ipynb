{
 "cells": [
  {
   "cell_type": "markdown",
   "metadata": {},
   "source": [
    "# make_proposed_gen_master.py\n",
    "## Creates a master file of all entries in proposed generator for EIA 860, 2004-2018"
   ]
  },
  {
   "cell_type": "code",
   "execution_count": 644,
   "metadata": {},
   "outputs": [],
   "source": [
    "import pandas as pd\n",
    "import json\n",
    "import numpy as np"
   ]
  },
  {
   "cell_type": "code",
   "execution_count": 645,
   "metadata": {
    "scrolled": true
   },
   "outputs": [],
   "source": [
    "## Create dictionary of pandas dfs from csv file with proposed generators in annual EIA 860 Forms\n",
    "\n",
    "proposed_gen_dfs = {}\n",
    "for year in range(2004,2019):\n",
    "    proposed_df = pd.read_csv(\"../Data for Tax Equity Project/eia_data/eia860\" + str(year) + \n",
    "                                  \"/proposed_gen_\" + str(year) + \".csv\")\n",
    "    proposed_df.columns = map(str.lower, proposed_df.columns)\n",
    "    proposed_gen_dfs[year] = proposed_df\n",
    "    \n",
    "    ## Print out number of entries by year\n",
    "    #print(str(year) + \": \" + str(proposed_df.shape[0]))"
   ]
  },
  {
   "cell_type": "markdown",
   "metadata": {},
   "source": [
    "# Merge DataFrames \n",
    "### This step consists of standardizing column names, because variable names change year to year, then merging\n",
    "### 1. Standardize"
   ]
  },
  {
   "cell_type": "code",
   "execution_count": 646,
   "metadata": {
    "scrolled": true
   },
   "outputs": [],
   "source": [
    "## Create dictionary of column names in the list of dataframes (proposed_gen_dfs)\n",
    "## Key = year\n",
    "## Value = list of column names\n",
    "all_cols = {}\n",
    "for x in proposed_gen_dfs:\n",
    "    all_cols[x] = (proposed_gen_dfs[x].columns)\n",
    "unique_cols = [y for x in all_cols.values() for y in x]\n",
    "# print(np.unique(unique_cols))\n"
   ]
  },
  {
   "cell_type": "code",
   "execution_count": 647,
   "metadata": {
    "scrolled": true
   },
   "outputs": [],
   "source": [
    "## Function to check whether col names in df_dict are in the newColDict\n",
    "def check_cols_in_colDict(key, df_dict, newColDict):\n",
    "    newColValues =  [y for x in newColDict.values() for y in x]\n",
    "    tempList = [x in newColValues for x in df_dict[key]]\n",
    "    return(np.array(df_dict[key])[[not x for x in tempList]])"
   ]
  },
  {
   "cell_type": "code",
   "execution_count": 648,
   "metadata": {},
   "outputs": [],
   "source": [
    "## Code for reading in a dictionary and check whether all columns in df are in the dictionary\n",
    "dict_file = '../Tax Equity Code/Clean Data/eia_proposed_gen_col_dict.json'\n",
    "\n",
    "with open(dict_file) as json_file:\n",
    "    col_dict = json.load(json_file)\n",
    "    \n",
    "missing_cols = []\n",
    "for x in all_cols:\n",
    "    missing_cols.append([x for x in check_cols_in_colDict(x,all_cols,col_dict)])\n",
    "missing_cols = [y for x in missing_cols for y in x]\n",
    "\n",
    "## only energy source/startup source not yet coded\n",
    "# print(np.unique(missing_cols))"
   ]
  },
  {
   "cell_type": "markdown",
   "metadata": {},
   "source": [
    "### 2. Merge"
   ]
  },
  {
   "cell_type": "code",
   "execution_count": 649,
   "metadata": {},
   "outputs": [],
   "source": [
    "# start by recoding existing columns\n",
    "# Below is function that takes care of this\n",
    "\n",
    "def standardize_df_colnames(year, old_df, new_col_dict):\n",
    "    \n",
    "    # make a map from old col names to the new ones \n",
    "    \n",
    "    new_name_dict = {}\n",
    "    for x in new_col_dict.keys():\n",
    "        for y in new_col_dict[x]:\n",
    "            if y in old_df.columns:\n",
    "                new_name_dict[y] = x\n",
    "\n",
    "    # apply the mapping\n",
    "    standard_df = old_df.rename(columns = new_name_dict)\n",
    "    \n",
    "    # add NaN values for variables in standard but not old df\n",
    "    for x in new_col_dict.keys():\n",
    "        if x not in standard_df.columns:\n",
    "            standard_df[x] = np.nan\n",
    "    \n",
    "    # remove unnamed and other weird columns not in the new name dict \n",
    "    # need to flatten the energy sources columns into a single column containing a list of the sources\n",
    "    \n",
    "    energy_colnames = []\n",
    "    startup_colnames = []\n",
    "    transport_colnames = []\n",
    "    for c in standard_df.columns:\n",
    "        if c not in new_col_dict.keys():\n",
    "            if \"energy\" in c:\n",
    "                energy_colnames.append(c)\n",
    "                standard_df = standard_df.drop(columns=c)\n",
    "            elif \"transportation\" in c:\n",
    "                transport_colnames.append(c)\n",
    "                standard_df = standard_df.drop(columns=c)\n",
    "            elif \"startup\" in c:\n",
    "                startup_colnames.append(c) \n",
    "                standard_df = standard_df.drop(columns=c)\n",
    "            else:\n",
    "                standard_df = standard_df.drop(columns=c)\n",
    "    \n",
    "    standard_df['energy_source'] = old_df.apply(lambda x: list(x[energy_colnames]),axis=1)   \n",
    "    standard_df['transportation'] = old_df.apply(lambda x: list(x[transport_colnames]),axis=1)   \n",
    "    standard_df['startup_source'] = old_df.apply(lambda x: list(x[startup_colnames]),axis=1)   \n",
    "    \n",
    "    # add a variable called \"year\" \n",
    "    standard_df.insert(0, \"year\", year) \n",
    "    \n",
    "    standard_df = standard_df.sort_index(axis=1)        \n",
    "     \n",
    "    standard_df = standard_df.loc[:,~standard_df.columns.duplicated()]    \n",
    "    return(standard_df)\n",
    "       "
   ]
  },
  {
   "cell_type": "code",
   "execution_count": 650,
   "metadata": {},
   "outputs": [],
   "source": [
    "standard_dfs = [standardize_df_colnames(yr, proposed_gen_dfs[yr], col_dict) for yr in proposed_gen_dfs]"
   ]
  },
  {
   "cell_type": "code",
   "execution_count": 651,
   "metadata": {},
   "outputs": [],
   "source": [
    "merged = pd.concat(standard_dfs)\n",
    "merged.to_csv('../Tax Equity Code/Clean Data/proposed_gen_master_list.csv')"
   ]
  },
  {
   "cell_type": "code",
   "execution_count": null,
   "metadata": {},
   "outputs": [],
   "source": []
  }
 ],
 "metadata": {
  "kernelspec": {
   "display_name": "Python 3",
   "language": "python",
   "name": "python3"
  },
  "language_info": {
   "codemirror_mode": {
    "name": "ipython",
    "version": 3
   },
   "file_extension": ".py",
   "mimetype": "text/x-python",
   "name": "python",
   "nbconvert_exporter": "python",
   "pygments_lexer": "ipython3",
   "version": "3.7.4"
  }
 },
 "nbformat": 4,
 "nbformat_minor": 2
}
