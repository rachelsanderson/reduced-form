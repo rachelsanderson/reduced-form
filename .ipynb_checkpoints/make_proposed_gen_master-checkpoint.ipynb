{
 "cells": [
  {
   "cell_type": "markdown",
   "metadata": {},
   "source": [
    "## Code to create a DataFrame of the proposed generators in each EIA annual form"
   ]
  },
  {
   "cell_type": "code",
   "execution_count": 244,
   "metadata": {},
   "outputs": [],
   "source": [
    "import pandas as pd\n",
    "import json\n",
    "import numpy as np\n",
    "import matplotlib.pyplot as plt\n",
    "%matplotlib inline "
   ]
  },
  {
   "cell_type": "code",
   "execution_count": 55,
   "metadata": {},
   "outputs": [],
   "source": [
    "### makeGenOfTypeDF -- Function that takes year, csv name, returns df of generators w/specific technology (tech_code)\n",
    "### or energy source (energy_code)\n",
    "### \n",
    "### Relevant tech_codes are: ST (Steam Turbine, including nuclear, geothermal and solar steam), \n",
    "###                          PV (Photovoltaic)\n",
    "###                          WT (Wind Turbine) ## changes to WS for offshore in 2018\n",
    "### \n",
    "### Relevant energy_codes are:  SUN (Solar -- Photovoltaic, Thermal)\n",
    "###                             WAT (Water -- Conventional, Pumped Storage)\n",
    "###                             WND (Wind)\n",
    "### TO DO:      Make more general for any CSV of this format(feed in file name)\n",
    "\n",
    "def makeGenOfTypeDF(year, tech_code=\"PV\", energy_code = \"SUN\"):\n",
    "    proposed_gen_df = pd.read_csv(\"../Data for Tax Equity Project/eia_data/eia860\" + str(year) + \n",
    "                                  \"/proposed_gen_\" + str(year) + \".csv\")\n",
    "    proposed_gen_df.columns = map(str.lower, proposed_gen_df.columns)\n",
    "    pmList = ['prime_mover', 'prime mover', 'primemover']\n",
    "    enList = ['energy_source_1', 'energy source 1']\n",
    "    for pm in pmList:\n",
    "        if pm in proposed_gen_df.columns:\n",
    "            tech_df = proposed_gen_df[proposed_gen_df[pm]==tech_code]\n",
    "    for en in enList:\n",
    "        if en in proposed_gen_df.columns:\n",
    "            en_df = proposed_gen_df[proposed_gen_df[en]==energy_code]\n",
    "            tech_df = tech_df.combine_first(en_df)\n",
    "    return(tech_df)"
   ]
  },
  {
   "cell_type": "code",
   "execution_count": 59,
   "metadata": {
    "scrolled": true
   },
   "outputs": [
    {
     "name": "stdout",
     "output_type": "stream",
     "text": [
      "2008: 48\n",
      "2009: 188\n",
      "2010: 357\n",
      "2011: 325\n",
      "2012: 345\n",
      "2013: 601\n",
      "2014: 627\n",
      "2015: 565\n",
      "2016: 743\n",
      "2017: 570\n",
      "2018: 713\n"
     ]
    }
   ],
   "source": [
    "proposed_gen_dfs = {}\n",
    "for x in range(2008,2019):\n",
    "    proposed_df = makeGenOfTypeDF(x)\n",
    "    proposed_gen_dfs[x] = proposed_df\n",
    "    print(str(x) + \": \" + str(proposed_df.shape[0]))"
   ]
  },
  {
   "cell_type": "markdown",
   "metadata": {},
   "source": [
    "### Standardize columns and merge"
   ]
  },
  {
   "cell_type": "code",
   "execution_count": 284,
   "metadata": {},
   "outputs": [
    {
     "name": "stdout",
     "output_type": "stream",
     "text": [
      "{2008: Index(['utilname', 'plntname', 'utilcode', 'plntcode', 'state', 'gencode',\n",
      "       'ownership', 'status', 'primemover', 'duct_burners', 'nameplate',\n",
      "       'summer_capability', 'winter_capability', 'energy_source_1',\n",
      "       'energy_source_2', 'energy_source_3', 'energy_source_4',\n",
      "       'energy_source_5', 'energy_source_6', 'unit_code', 'cogenerator',\n",
      "       'sfg_system', 'effective_month', 'effective_year', 'current_month',\n",
      "       'current_year', 'turbines', 'summer_estimated_capability',\n",
      "       'winter_estimated_capability'],\n",
      "      dtype='object'), 2009: Index(['utility_id', 'utility_name', 'plant_code', 'plant_name', 'state',\n",
      "       'county', 'generator_id', 'prime_mover', 'status', 'nameplate',\n",
      "       'summer_capability', 'winter_capability', 'summer_estimated_capability',\n",
      "       'winter_estimated_capability', 'unit_code', 'effective_month',\n",
      "       'effective_year', 'current_month', 'current_year', 'energy_source_1',\n",
      "       'energy_source_2', 'energy_source_3', 'energy_source_4',\n",
      "       'energy_source_5', 'energy_source_6', 'multiple_fuels', 'ownership',\n",
      "       'turbines', 'cogenerator', 'sfg_system', 'pulverized_coal',\n",
      "       'fluidized_bed', 'subcritical', 'supercritical', 'ultrasupercritical',\n",
      "       'carboncapture', 'startup_source_1', 'startup_source_2',\n",
      "       'startup_source_3', 'startup_source_4'],\n",
      "      dtype='object'), 2010: Index(['utility_id', 'utility_name', 'plant_code', 'plant_name', 'state',\n",
      "       'county', 'generator_id', 'prime_mover', 'status', 'nameplate',\n",
      "       'summer_capability', 'winter_capability', 'unit_code',\n",
      "       'effective_month', 'effective_year', 'current_month', 'current_year',\n",
      "       'energy_source_1', 'energy_source_2', 'energy_source_3',\n",
      "       'energy_source_4', 'energy_source_5', 'energy_source_6',\n",
      "       'multiple_fuels', 'operating_switch', 'ownership', 'turbines',\n",
      "       'cogenerator', 'sector_name', 'sector_number', 'sfg_system',\n",
      "       'pulverized_coal', 'fluidized_bed', 'subcritical', 'supercritical',\n",
      "       'ultrasupercritical', 'carboncapture', 'startup_source_1',\n",
      "       'startup_source_2', 'startup_source_3', 'startup_source_4'],\n",
      "      dtype='object'), 2011: Index(['unnamed: 0', 'utility_id', 'utility_name', 'plant_code', 'plant_name',\n",
      "       'state', 'county', 'generator_id', 'prime_mover', 'status', 'nameplate',\n",
      "       'summer_capability', 'winter_capability', 'unit_code',\n",
      "       'effective_month', 'effective_year', 'current_month', 'current_year',\n",
      "       'energy_source_1', 'energy_source_2', 'energy_source_3',\n",
      "       'energy_source_4', 'energy_source_5', 'energy_source_6',\n",
      "       'multiple_fuels', 'ownership', 'turbines', 'cogenerator', 'sector_name',\n",
      "       'sector', 'duct_burners', 'sfg_system', 'pulverized_coal',\n",
      "       'fluidized_bed', 'subcritical', 'supercritical', 'ultrasupercritical',\n",
      "       'carboncapture', 'startup_source_1', 'startup_source_2',\n",
      "       'startup_source_3', 'startup_source_4'],\n",
      "      dtype='object'), 2012: Index(['unnamed: 0', 'utility id', 'utility name', 'plant code', 'plant name',\n",
      "       'state', 'county', 'generator id', 'prime mover', 'status',\n",
      "       'nameplate capacity (mw)', 'summer capacity (mw)',\n",
      "       'winter capacity (mw)', 'unit code', 'effective month',\n",
      "       'effective year', 'current month', 'current year', 'energy source 1',\n",
      "       'energy source 2', 'energy source 3', 'energy source 4',\n",
      "       'energy source 5', 'energy source 6', 'multiple fuels', 'ownership',\n",
      "       'turbines', 'cogenerator', 'sector name', 'sector',\n",
      "       'solid fuel gasification system', 'pulverized coal technology',\n",
      "       'fluidized bed technology', 'subcritical technology',\n",
      "       'supercritical technology', 'ultrasupercritical technology',\n",
      "       'carbon capture technology', 'startup source 1', 'startup source 2',\n",
      "       'startup source 3', 'startup source 4'],\n",
      "      dtype='object'), 2013: Index(['unnamed: 0', 'utility id', 'utility name', 'plant code', 'plant name',\n",
      "       'state', 'county', 'generator id', 'prime mover', 'unit code',\n",
      "       'ownership', 'duct burners',\n",
      "       'can bypass heat recovery steam generator?',\n",
      "       'rto/iso lmp node designation',\n",
      "       'rto/iso location designation for reporting wholesale sales data to ferc',\n",
      "       'nameplate capacity (mw)', 'nameplate power factor',\n",
      "       'summer capacity (mw)', 'winter capacity (mw)', 'status',\n",
      "       'effective month', 'effective year', 'current month', 'current year',\n",
      "       'associated with combined heat and power system', 'sector name',\n",
      "       'sector', 'previously canceled', 'energy source 1', 'energy source 2',\n",
      "       'energy source 3', 'energy source 4', 'energy source 5',\n",
      "       'energy source 6', 'turbines, inverters, or hydrokinetic buoys',\n",
      "       'fluidized bed technology?', 'pulverized coal technology?',\n",
      "       'stoker technology?', 'other combustion technology?',\n",
      "       'subcritical technology?', 'supercritical technology?',\n",
      "       'ultrasupercritical technology?', 'solid fuel gasification system?',\n",
      "       'carbon capture technology?', 'switch between oil and natural gas?',\n",
      "       'cofire fuels?'],\n",
      "      dtype='object'), 2014: Index(['unnamed: 0', 'utility id', 'utility name', 'plant code', 'plant name',\n",
      "       'state', 'county', 'generator id', 'technology', 'prime mover',\n",
      "       'unit code', 'ownership', 'duct burners',\n",
      "       'can bypass heat recovery steam generator?',\n",
      "       'rto/iso lmp node designation',\n",
      "       'rto/iso location designation for reporting wholesale sales data to ferc',\n",
      "       'nameplate capacity (mw)', 'nameplate power factor',\n",
      "       'summer capacity (mw)', 'winter capacity (mw)', 'status',\n",
      "       'effective month', 'effective year', 'current month', 'current year',\n",
      "       'associated with combined heat and power system', 'sector name',\n",
      "       'sector', 'previously canceled', 'energy source 1', 'energy source 2',\n",
      "       'energy source 3', 'energy source 4', 'energy source 5',\n",
      "       'energy source 6', 'turbines, inverters, or hydrokinetic buoys',\n",
      "       'fluidized bed technology?', 'pulverized coal technology?',\n",
      "       'stoker technology?', 'other combustion technology?',\n",
      "       'subcritical technology?', 'supercritical technology?',\n",
      "       'ultrasupercritical technology?', 'solid fuel gasification system?',\n",
      "       'carbon capture technology?', 'switch between oil and natural gas?',\n",
      "       'cofire fuels?'],\n",
      "      dtype='object'), 2015: Index(['unnamed: 0', 'utility id', 'utility name', 'plant code', 'plant name',\n",
      "       'state', 'county', 'generator id', 'technology', 'prime mover',\n",
      "       'unit code', 'ownership', 'duct burners',\n",
      "       'can bypass heat recovery steam generator?',\n",
      "       'rto/iso lmp node designation',\n",
      "       'rto/iso location designation for reporting wholesale sales data to ferc',\n",
      "       'nameplate capacity (mw)', 'nameplate power factor',\n",
      "       'summer capacity (mw)', 'winter capacity (mw)', 'status',\n",
      "       'effective month', 'effective year', 'current month', 'current year',\n",
      "       'associated with combined heat and power system', 'sector name',\n",
      "       'sector', 'previously canceled', 'energy source 1', 'energy source 2',\n",
      "       'energy source 3', 'energy source 4', 'energy source 5',\n",
      "       'energy source 6', 'turbines, inverters, or hydrokinetic buoys',\n",
      "       'fluidized bed technology?', 'pulverized coal technology?',\n",
      "       'stoker technology?', 'other combustion technology?',\n",
      "       'subcritical technology?', 'supercritical technology?',\n",
      "       'ultrasupercritical technology?', 'solid fuel gasification system?',\n",
      "       'carbon capture technology?', 'switch between oil and natural gas?',\n",
      "       'cofire fuels?'],\n",
      "      dtype='object'), 2016: Index(['unnamed: 0', 'utility id', 'utility name', 'plant code', 'plant name',\n",
      "       'state', 'county', 'generator id', 'technology', 'prime mover',\n",
      "       'unit code', 'ownership', 'duct burners',\n",
      "       'can bypass heat recovery steam generator?',\n",
      "       'rto/iso lmp node designation',\n",
      "       'rto/iso location designation for reporting wholesale sales data to ferc',\n",
      "       'nameplate capacity (mw)', 'nameplate power factor',\n",
      "       'summer capacity (mw)', 'winter capacity (mw)', 'status',\n",
      "       'effective month', 'effective year', 'current month', 'current year',\n",
      "       'associated with combined heat and power system', 'sector name',\n",
      "       'sector', 'previously canceled', 'energy source 1', 'energy source 2',\n",
      "       'energy source 3', 'energy source 4', 'energy source 5',\n",
      "       'energy source 6', 'turbines or hydrokinetic buoys',\n",
      "       'fluidized bed technology?', 'pulverized coal technology?',\n",
      "       'stoker technology?', 'other combustion technology?',\n",
      "       'subcritical technology?', 'supercritical technology?',\n",
      "       'ultrasupercritical technology?', 'solid fuel gasification system?',\n",
      "       'carbon capture technology?', 'multiple fuels?',\n",
      "       'switch between oil and natural gas?', 'cofire fuels?'],\n",
      "      dtype='object'), 2017: Index(['unnamed: 0', 'utility id', 'utility name', 'plant code', 'plant name',\n",
      "       'state', 'county', 'generator id', 'technology', 'prime mover',\n",
      "       'unit code', 'ownership', 'duct burners',\n",
      "       'can bypass heat recovery steam generator?',\n",
      "       'rto/iso lmp node designation',\n",
      "       'rto/iso location designation for reporting wholesale sales data to ferc',\n",
      "       'nameplate capacity (mw)', 'nameplate power factor',\n",
      "       'summer capacity (mw)', 'winter capacity (mw)', 'status',\n",
      "       'effective month', 'effective year', 'current month', 'current year',\n",
      "       'associated with combined heat and power system', 'sector name',\n",
      "       'sector', 'previously canceled', 'energy source 1', 'energy source 2',\n",
      "       'energy source 3', 'energy source 4', 'energy source 5',\n",
      "       'energy source 6', 'turbines or hydrokinetic buoys',\n",
      "       'fluidized bed technology?', 'pulverized coal technology?',\n",
      "       'stoker technology?', 'other combustion technology?',\n",
      "       'subcritical technology?', 'supercritical technology?',\n",
      "       'ultrasupercritical technology?', 'solid fuel gasification system?',\n",
      "       'carbon capture technology?', 'multiple fuels?',\n",
      "       'switch between oil and natural gas?', 'cofire fuels?'],\n",
      "      dtype='object'), 2018: Index(['unnamed: 0', 'utility id', 'utility name', 'plant code', 'plant name',\n",
      "       'state', 'county', 'generator id', 'technology', 'prime mover',\n",
      "       'unit code', 'ownership', 'duct burners',\n",
      "       'can bypass heat recovery steam generator?',\n",
      "       'rto/iso lmp node designation',\n",
      "       'rto/iso location designation for reporting wholesale sales data to ferc',\n",
      "       'nameplate capacity (mw)', 'nameplate power factor',\n",
      "       'summer capacity (mw)', 'winter capacity (mw)', 'status',\n",
      "       'effective month', 'effective year', 'current month', 'current year',\n",
      "       'associated with combined heat and power system', 'sector name',\n",
      "       'sector', 'previously canceled', 'energy source 1', 'energy source 2',\n",
      "       'energy source 3', 'energy source 4', 'energy source 5',\n",
      "       'energy source 6', 'turbines or hydrokinetic buoys',\n",
      "       'fluidized bed technology?', 'pulverized coal technology?',\n",
      "       'stoker technology?', 'other combustion technology?',\n",
      "       'subcritical technology?', 'supercritical technology?',\n",
      "       'ultrasupercritical technology?', 'solid fuel gasification system?',\n",
      "       'carbon capture technology?', 'multiple fuels?',\n",
      "       'switch between oil and natural gas?', 'cofire fuels?'],\n",
      "      dtype='object')}\n"
     ]
    }
   ],
   "source": [
    "## Create dictionary of column names in the list of dataframes (proposed_gen_dfs)\n",
    "## Key = year\n",
    "## Value = list of column names\n",
    "all_cols = {}\n",
    "for x in proposed_gen_dfs:\n",
    "    all_cols[x] = (proposed_gen_dfs[x].columns)\n",
    "unique_cols = [y for x in all_cols.values() for y in x]\n",
    "# print(np.unique(unique_cols))\n",
    "\n",
    "print(all_cols)"
   ]
  },
  {
   "cell_type": "code",
   "execution_count": 281,
   "metadata": {
    "scrolled": true
   },
   "outputs": [],
   "source": [
    "## Function to check whether col names in df_dict are in the newColDict\n",
    "def check_cols_in_colDict(key, df_dict, newColDict):\n",
    "    newColValues =  [y for x in newColDict.values() for y in x]\n",
    "    tempList = [x in newColValues for x in df_dict[key]]\n",
    "    return(np.array(df_dict[key])[[not x for x in tempList]])"
   ]
  },
  {
   "cell_type": "code",
   "execution_count": 286,
   "metadata": {},
   "outputs": [
    {
     "name": "stdout",
     "output_type": "stream",
     "text": [
      "['energy source 1' 'energy source 2' 'energy source 3' 'energy source 4'\n",
      " 'energy source 5' 'energy source 6' 'energy_source_1' 'energy_source_2'\n",
      " 'energy_source_3' 'energy_source_4' 'energy_source_5' 'energy_source_6'\n",
      " 'startup source 1' 'startup source 2' 'startup source 3'\n",
      " 'startup source 4' 'startup_source_1' 'startup_source_2'\n",
      " 'startup_source_3' 'startup_source_4' 'unnamed: 0']\n"
     ]
    }
   ],
   "source": [
    "## Code for reading in a dictionary and check whether all columns in df are in the dictionary\n",
    "dict_file = '../Data for Tax Equity Project/eia_data/eia_master_files/proposed_gen_columns_dict.json'\n",
    "\n",
    "with open(dict_file) as json_file:\n",
    "    col_dict = json.load(json_file)\n",
    "    \n",
    "missing_cols = []\n",
    "for x in all_cols:\n",
    "    missing_cols.append([x for x in check_cols_in_colDict(x,all_cols,col_dict)])\n",
    "missing_cols = [y for x in missing_cols for y in x]\n",
    "\n",
    "## only energy source/startup source not yet coded\n",
    "## print(np.unique(missing_cols))\n"
   ]
  },
  {
   "cell_type": "code",
   "execution_count": null,
   "metadata": {},
   "outputs": [],
   "source": [
    "status_codes = {}\n",
    "#IP: Planned new generator cancelled, indefinitely postponed, or no longer in resource plan\n",
    "status_codes['cancelled'] = 'IP'\n",
    "#TS: Construction complete, but not yet in commercial operation\n",
    "status_codes['complete_not_operating'] = 'TS'\n",
    "#P: Planned for installation but regulatory approvals not initiated; not under construction\n",
    "status_codes['planned_not_started'] = 'P'\n",
    "#L: Regulatory approvals pending; not under construction but site preparation could be underway\n",
    "status_codes['reg_approval_pending'] = 'L'\n",
    "#T: Regulatory approvals received; but not under construction but site preparation could be underway\n",
    "status_codes['reg_approval_received'] = 'T'\n",
    "#U: Under construction, less than or equal to 50 percent complete (based on construction time to date of operation)\n",
    "status_codes['under_construction'] = 'U' \n",
    "#V: Under construction, more than 50 percent complete (based on construction time to date of operation)\n",
    "status_codes['almost_done'] = 'V'\n",
    "# Other (described in Comments)\n",
    "status_codes['other'] = 'OT'\n"
   ]
  },
  {
   "cell_type": "code",
   "execution_count": null,
   "metadata": {},
   "outputs": [],
   "source": [
    "prime_mover_codes = {}\n",
    "# ST\tSteam Turbine, including nuclear, geothermal and solar steam  (does not include combined cycle) \n",
    "# GT\tCombustion (Gas) Turbine (includes jet engine design)\n",
    "# IC\tInternal Combustion Engine (diesel, piston)  \n",
    "# CA\tCombined Cycle Steam Part \n",
    "# CT\tCombined Cycle Combustion Turbine Part \n",
    "# CS\tCombined Cycle Single Shaft (combustion turbine and steam turbine share a single generator)\n",
    "# CC\tCombined Cycle - Total Unit\n",
    "# HY\tHydraulic Turbine (includes turbines associated with delivery of water by pipeline)\n",
    "# PS\tHydraulic Turbine – Reversible (pumped storage)\n",
    "# BT\tTurbines used in a binary cycle such as geothermal\n",
    "# PV\tPhotovoltaic\n",
    "# WT\tWind Turbine\n",
    "# CE\tCompressed Air Energy Storage\n",
    "# FC\tFuel Cell \n",
    "# OT\tOther\n",
    "# NA\tUnknown at this time (use only for plants/generators in planning stage)"
   ]
  },
  {
   "cell_type": "markdown",
   "metadata": {},
   "source": [
    "### Table to make: is average capacity addition by year"
   ]
  },
  {
   "cell_type": "code",
   "execution_count": 63,
   "metadata": {},
   "outputs": [],
   "source": [
    "def makeCapacitySeries(df):\n",
    "    capVar = [i for i in df.columns if \"nameplate\" in i][0]\n",
    "    capList = pd.to_numeric(df[capVar])\n",
    "    return(capList)"
   ]
  },
  {
   "cell_type": "code",
   "execution_count": 64,
   "metadata": {
    "scrolled": false
   },
   "outputs": [
    {
     "data": {
      "text/plain": [
       "<matplotlib.axes._subplots.AxesSubplot at 0x123d986d0>"
      ]
     },
     "execution_count": 64,
     "metadata": {},
     "output_type": "execute_result"
    },
    {
     "data": {
      "image/png": "[encoded data removed]",
      "text/plain": [
       "<Figure size 432x288 with 1 Axes>"
      ]
     },
     "metadata": {
      "needs_background": "light"
     },
     "output_type": "display_data"
    }
   ],
   "source": [
    "makeCapacitySeries(makeGenOfTypeDF(2012)).plot.hist()"
   ]
  },
  {
   "cell_type": "code",
   "execution_count": null,
   "metadata": {},
   "outputs": [],
   "source": [
    "for x in proposed_gen_dfs:\n",
    "    print(str(x) + \" : \" + str(calc_mean_capacity(proposed_gen_dfs[x]).describe()))"
   ]
  },
  {
   "cell_type": "code",
   "execution_count": 118,
   "metadata": {},
   "outputs": [],
   "source": [
    "grant_recipients = pd.read_excel(\"../Data for Tax Equity Project/treasury_data/grant_awards.xlsx\", header=1)\n",
    "solar_grants = grant_recipients[[(\"Solar\" in str(i)) for i in grant_recipients['Technology']]]"
   ]
  },
  {
   "cell_type": "code",
   "execution_count": 124,
   "metadata": {},
   "outputs": [
    {
     "data": {
      "text/html": [
       "<div>\n",
       "<style scoped>\n",
       "    .dataframe tbody tr th:only-of-type {\n",
       "        vertical-align: middle;\n",
       "    }\n",
       "\n",
       "    .dataframe tbody tr th {\n",
       "        vertical-align: top;\n",
       "    }\n",
       "\n",
       "    .dataframe thead th {\n",
       "        text-align: right;\n",
       "    }\n",
       "</style>\n",
       "<table border=\"1\" class=\"dataframe\">\n",
       "  <thead>\n",
       "    <tr style=\"text-align: right;\">\n",
       "      <th></th>\n",
       "      <th>Business Name</th>\n",
       "      <th>State</th>\n",
       "      <th>Technology</th>\n",
       "      <th>Funded</th>\n",
       "      <th>Award Date</th>\n",
       "    </tr>\n",
       "  </thead>\n",
       "  <tbody>\n",
       "    <tr>\n",
       "      <td>3</td>\n",
       "      <td>Alaska Airlines Inc.</td>\n",
       "      <td>AK</td>\n",
       "      <td>Solar Electricity</td>\n",
       "      <td>19238.0</td>\n",
       "      <td>2012-07-10 00:00:00</td>\n",
       "    </tr>\n",
       "    <tr>\n",
       "      <td>4</td>\n",
       "      <td>Ron Levy Photography</td>\n",
       "      <td>AK</td>\n",
       "      <td>Solar Electricity</td>\n",
       "      <td>4010.0</td>\n",
       "      <td>2012-04-11 00:00:00</td>\n",
       "    </tr>\n",
       "    <tr>\n",
       "      <td>10</td>\n",
       "      <td>Atlantic Windshield Repair Inc</td>\n",
       "      <td>AL</td>\n",
       "      <td>Solar Electricity</td>\n",
       "      <td>8270.0</td>\n",
       "      <td>2012-12-17 00:00:00</td>\n",
       "    </tr>\n",
       "    <tr>\n",
       "      <td>11</td>\n",
       "      <td>BBVA Compass</td>\n",
       "      <td>AL</td>\n",
       "      <td>Solar Electricity</td>\n",
       "      <td>24000.0</td>\n",
       "      <td>2011-10-12 00:00:00</td>\n",
       "    </tr>\n",
       "    <tr>\n",
       "      <td>12</td>\n",
       "      <td>Classic Car</td>\n",
       "      <td>AL</td>\n",
       "      <td>Solar Electricity</td>\n",
       "      <td>45058.0</td>\n",
       "      <td>2012-12-17 00:00:00</td>\n",
       "    </tr>\n",
       "    <tr>\n",
       "      <td>...</td>\n",
       "      <td>...</td>\n",
       "      <td>...</td>\n",
       "      <td>...</td>\n",
       "      <td>...</td>\n",
       "      <td>...</td>\n",
       "    </tr>\n",
       "    <tr>\n",
       "      <td>9991</td>\n",
       "      <td>Silverthorn Properties LLC</td>\n",
       "      <td>WI</td>\n",
       "      <td>Solar Thermal</td>\n",
       "      <td>4065.0</td>\n",
       "      <td>2010-10-22 00:00:00</td>\n",
       "    </tr>\n",
       "    <tr>\n",
       "      <td>9992</td>\n",
       "      <td>Traveling Hunter Investments LLC</td>\n",
       "      <td>WI</td>\n",
       "      <td>Solar Thermal</td>\n",
       "      <td>8294.0</td>\n",
       "      <td>2010-08-25 00:00:00</td>\n",
       "    </tr>\n",
       "    <tr>\n",
       "      <td>10004</td>\n",
       "      <td>Sentry Security Systems, LLC</td>\n",
       "      <td>WV</td>\n",
       "      <td>Solar Electricity</td>\n",
       "      <td>480.0</td>\n",
       "      <td>2012-03-23 00:00:00</td>\n",
       "    </tr>\n",
       "    <tr>\n",
       "      <td>10005</td>\n",
       "      <td>B. Taylor Triea, LLC</td>\n",
       "      <td>WV</td>\n",
       "      <td>Solar Thermal</td>\n",
       "      <td>4977.0</td>\n",
       "      <td>2012-05-16 00:00:00</td>\n",
       "    </tr>\n",
       "    <tr>\n",
       "      <td>10010</td>\n",
       "      <td>Union Wireless</td>\n",
       "      <td>WY</td>\n",
       "      <td>Solar Electricity</td>\n",
       "      <td>64070.0</td>\n",
       "      <td>2013-03-14 00:00:00</td>\n",
       "    </tr>\n",
       "  </tbody>\n",
       "</table>\n",
       "<p>8534 rows × 5 columns</p>\n",
       "</div>"
      ],
      "text/plain": [
       "                          Business Name State         Technology   Funded  \\\n",
       "3                  Alaska Airlines Inc.    AK  Solar Electricity  19238.0   \n",
       "4                  Ron Levy Photography    AK  Solar Electricity   4010.0   \n",
       "10       Atlantic Windshield Repair Inc    AL  Solar Electricity   8270.0   \n",
       "11                         BBVA Compass    AL  Solar Electricity  24000.0   \n",
       "12                          Classic Car    AL  Solar Electricity  45058.0   \n",
       "...                                 ...   ...                ...      ...   \n",
       "9991         Silverthorn Properties LLC    WI      Solar Thermal   4065.0   \n",
       "9992   Traveling Hunter Investments LLC    WI      Solar Thermal   8294.0   \n",
       "10004      Sentry Security Systems, LLC    WV  Solar Electricity    480.0   \n",
       "10005              B. Taylor Triea, LLC    WV      Solar Thermal   4977.0   \n",
       "10010                    Union Wireless    WY  Solar Electricity  64070.0   \n",
       "\n",
       "                Award Date  \n",
       "3      2012-07-10 00:00:00  \n",
       "4      2012-04-11 00:00:00  \n",
       "10     2012-12-17 00:00:00  \n",
       "11     2011-10-12 00:00:00  \n",
       "12     2012-12-17 00:00:00  \n",
       "...                    ...  \n",
       "9991   2010-10-22 00:00:00  \n",
       "9992   2010-08-25 00:00:00  \n",
       "10004  2012-03-23 00:00:00  \n",
       "10005  2012-05-16 00:00:00  \n",
       "10010  2013-03-14 00:00:00  \n",
       "\n",
       "[8534 rows x 5 columns]"
      ]
     },
     "execution_count": 124,
     "metadata": {},
     "output_type": "execute_result"
    }
   ],
   "source": [
    "solar_grants"
   ]
  },
  {
   "cell_type": "code",
   "execution_count": null,
   "metadata": {},
   "outputs": [],
   "source": []
  },
  {
   "cell_type": "code",
   "execution_count": null,
   "metadata": {},
   "outputs": [],
   "source": []
  },
  {
   "cell_type": "code",
   "execution_count": 1,
   "metadata": {},
   "outputs": [],
   "source": [
    "## make data frame for all generators planned before 2008 and after"
   ]
  },
  {
   "cell_type": "code",
   "execution_count": null,
   "metadata": {},
   "outputs": [],
   "source": []
  },
  {
   "cell_type": "code",
   "execution_count": null,
   "metadata": {},
   "outputs": [],
   "source": []
  },
  {
   "cell_type": "code",
   "execution_count": null,
   "metadata": {},
   "outputs": [],
   "source": []
  }
 ],
 "metadata": {
  "kernelspec": {
   "display_name": "Python 3",
   "language": "python",
   "name": "python3"
  },
  "language_info": {
   "codemirror_mode": {
    "name": "ipython",
    "version": 3
   },
   "file_extension": ".py",
   "mimetype": "text/x-python",
   "name": "python",
   "nbconvert_exporter": "python",
   "pygments_lexer": "ipython3",
   "version": "3.7.4"
  }
 },
 "nbformat": 4,
 "nbformat_minor": 2
}
