{
 "cells": [
  {
   "cell_type": "code",
   "execution_count": 95,
   "metadata": {},
   "outputs": [],
   "source": [
    "import pandas as pd\n",
    "import matplotlib.pyplot as plt\n",
    "%matplotlib inline "
   ]
  },
  {
   "cell_type": "raw",
   "metadata": {},
   "source": [
    "## Questions:  Are there renewables in fuel-switching generator files for 2007 and 2008? If so, are these eligible for tax credits? "
   ]
  },
  {
   "cell_type": "code",
   "execution_count": 96,
   "metadata": {},
   "outputs": [],
   "source": [
    "### makeGenOfTypeDF -- Function that takes year, csv name, returns df of generators w/specific technology (tech_code)\n",
    "### or energy source (energy_code)\n",
    "### \n",
    "### Relevant tech_codes are: ST (Steam Turbine, including nuclear, geothermal and solar steam), \n",
    "###                          PV (Photovoltaic)\n",
    "###                          WT (Wind Turbine) ## changes to WS for offshore in 2018\n",
    "### \n",
    "### Relevant energy_codes are:  SUN (Solar -- Photovoltaic, Thermal)\n",
    "###                             WAT (Water -- Conventional, Pumped Storage)\n",
    "###                             WND (Wind)\n",
    "### TO DO:      Make more general for any CSV of this format(feed in file name)\n",
    "\n",
    "def makeGenOfTypeDF(year, tech_code=\"PV\", energy_code = \"SUN\"):\n",
    "    proposed_gen_df = pd.read_csv(\"../Data for Tax Equity Project/eia_data/eia860\" + str(year) + \n",
    "                                  \"/proposed_gen_\" + str(year) + \".csv\")\n",
    "    proposed_gen_df.columns = map(str.lower, proposed_gen_df.columns)\n",
    "    pmList = ['prime_mover', 'prime mover', 'primemover']\n",
    "    enList = ['energy_source_1']\n",
    "    for pm in pmList:\n",
    "        if pm in proposed_gen_df.columns:\n",
    "            tech_df = proposed_gen_df[proposed_gen_df[pm]==tech_code]\n",
    "    for en in enList:\n",
    "        if en in proposed_gen_df.columns:\n",
    "            en_df = proposed_gen_df[proposed_gen_df[en]==energy_code]\n",
    "            tech_df = tech_df.combine_first(en_df)\n",
    "    return(tech_df)"
   ]
  },
  {
   "cell_type": "code",
   "execution_count": 97,
   "metadata": {
    "scrolled": true
   },
   "outputs": [
    {
     "name": "stdout",
     "output_type": "stream",
     "text": [
      "2008: 48\n",
      "2009: 188\n",
      "2010: 357\n",
      "2011: 325\n",
      "2012: 328\n",
      "2013: 590\n"
     ]
    }
   ],
   "source": [
    "for x in range(2008,2014):\n",
    "    print(str(x) + \": \" + str(makeGenOfTypeDF(x).shape[0]))"
   ]
  },
  {
   "cell_type": "markdown",
   "metadata": {},
   "source": [
    "### Table to make: is average capacity addition by year"
   ]
  },
  {
   "cell_type": "code",
   "execution_count": 98,
   "metadata": {},
   "outputs": [
    {
     "data": {
      "text/html": [
       "<div>\n",
       "<style scoped>\n",
       "    .dataframe tbody tr th:only-of-type {\n",
       "        vertical-align: middle;\n",
       "    }\n",
       "\n",
       "    .dataframe tbody tr th {\n",
       "        vertical-align: top;\n",
       "    }\n",
       "\n",
       "    .dataframe thead th {\n",
       "        text-align: right;\n",
       "    }\n",
       "</style>\n",
       "<table border=\"1\" class=\"dataframe\">\n",
       "  <thead>\n",
       "    <tr style=\"text-align: right;\">\n",
       "      <th></th>\n",
       "      <th>utility id</th>\n",
       "      <th>utility name</th>\n",
       "      <th>plant code</th>\n",
       "      <th>plant name</th>\n",
       "    </tr>\n",
       "  </thead>\n",
       "  <tbody>\n",
       "    <tr>\n",
       "      <td>8</td>\n",
       "      <td>803</td>\n",
       "      <td>Arizona Public Service Co</td>\n",
       "      <td>57997</td>\n",
       "      <td>Foothills Solar Plant</td>\n",
       "    </tr>\n",
       "    <tr>\n",
       "      <td>9</td>\n",
       "      <td>803</td>\n",
       "      <td>Arizona Public Service Co</td>\n",
       "      <td>57997</td>\n",
       "      <td>Foothills Solar Plant</td>\n",
       "    </tr>\n",
       "    <tr>\n",
       "      <td>10</td>\n",
       "      <td>803</td>\n",
       "      <td>Arizona Public Service Co</td>\n",
       "      <td>58383</td>\n",
       "      <td>Hyder II</td>\n",
       "    </tr>\n",
       "    <tr>\n",
       "      <td>50</td>\n",
       "      <td>5070</td>\n",
       "      <td>Delaware Electric Cooperative</td>\n",
       "      <td>58473</td>\n",
       "      <td>Bruce A Henry Solar Farm</td>\n",
       "    </tr>\n",
       "    <tr>\n",
       "      <td>118</td>\n",
       "      <td>11208</td>\n",
       "      <td>Los Angeles Department of Water &amp; Power</td>\n",
       "      <td>57304</td>\n",
       "      <td>Southern Owens Valley Solar Ranch</td>\n",
       "    </tr>\n",
       "    <tr>\n",
       "      <td>...</td>\n",
       "      <td>...</td>\n",
       "      <td>...</td>\n",
       "      <td>...</td>\n",
       "      <td>...</td>\n",
       "    </tr>\n",
       "    <tr>\n",
       "      <td>886</td>\n",
       "      <td>58504</td>\n",
       "      <td>North Carolina Solar II, LLC</td>\n",
       "      <td>58531</td>\n",
       "      <td>North Carolina Solar Bethea I</td>\n",
       "    </tr>\n",
       "    <tr>\n",
       "      <td>887</td>\n",
       "      <td>58504</td>\n",
       "      <td>North Carolina Solar II, LLC</td>\n",
       "      <td>58532</td>\n",
       "      <td>North Carolina Solar Bethea II</td>\n",
       "    </tr>\n",
       "    <tr>\n",
       "      <td>888</td>\n",
       "      <td>58504</td>\n",
       "      <td>North Carolina Solar II, LLC</td>\n",
       "      <td>58532</td>\n",
       "      <td>North Carolina Solar Bethea II</td>\n",
       "    </tr>\n",
       "    <tr>\n",
       "      <td>889</td>\n",
       "      <td>58509</td>\n",
       "      <td>Affordable Solar Silver City, LLC</td>\n",
       "      <td>58540</td>\n",
       "      <td>Silver City WWTP PV Project</td>\n",
       "    </tr>\n",
       "    <tr>\n",
       "      <td>890</td>\n",
       "      <td>58515</td>\n",
       "      <td>NextEra Energy Mountain View Solar</td>\n",
       "      <td>58544</td>\n",
       "      <td>Mountain View Solar</td>\n",
       "    </tr>\n",
       "  </tbody>\n",
       "</table>\n",
       "<p>328 rows × 4 columns</p>\n",
       "</div>"
      ],
      "text/plain": [
       "     utility id                             utility name  plant code  \\\n",
       "8           803                Arizona Public Service Co       57997   \n",
       "9           803                Arizona Public Service Co       57997   \n",
       "10          803                Arizona Public Service Co       58383   \n",
       "50         5070            Delaware Electric Cooperative       58473   \n",
       "118       11208  Los Angeles Department of Water & Power       57304   \n",
       "..          ...                                      ...         ...   \n",
       "886       58504             North Carolina Solar II, LLC       58531   \n",
       "887       58504             North Carolina Solar II, LLC       58532   \n",
       "888       58504             North Carolina Solar II, LLC       58532   \n",
       "889       58509        Affordable Solar Silver City, LLC       58540   \n",
       "890       58515       NextEra Energy Mountain View Solar       58544   \n",
       "\n",
       "                            plant name  \n",
       "8                Foothills Solar Plant  \n",
       "9                Foothills Solar Plant  \n",
       "10                            Hyder II  \n",
       "50            Bruce A Henry Solar Farm  \n",
       "118  Southern Owens Valley Solar Ranch  \n",
       "..                                 ...  \n",
       "886      North Carolina Solar Bethea I  \n",
       "887     North Carolina Solar Bethea II  \n",
       "888     North Carolina Solar Bethea II  \n",
       "889        Silver City WWTP PV Project  \n",
       "890                Mountain View Solar  \n",
       "\n",
       "[328 rows x 4 columns]"
      ]
     },
     "execution_count": 98,
     "metadata": {},
     "output_type": "execute_result"
    }
   ],
   "source": [
    "makeGenOfTypeDF(2012).iloc[:,1:5]"
   ]
  },
  {
   "cell_type": "code",
   "execution_count": 99,
   "metadata": {
    "scrolled": true
   },
   "outputs": [
    {
     "name": "stdout",
     "output_type": "stream",
     "text": [
      "2008 : count      8.000000\n",
      "mean     110.854353\n",
      "std      193.199930\n",
      "min        0.500000\n",
      "25%        0.950000\n",
      "50%       54.100000\n",
      "75%       82.294122\n",
      "max      575.000000\n",
      "Name: nameplate, dtype: float64\n",
      "2009 : count      8.000000\n",
      "mean     110.864450\n",
      "std      198.821504\n",
      "min        0.500000\n",
      "25%        0.500000\n",
      "50%       16.106383\n",
      "75%      114.652126\n",
      "max      575.000000\n",
      "Name: nameplate, dtype: float64\n",
      "2010 : count      8.000000\n",
      "mean     128.990596\n",
      "std      212.874393\n",
      "min        0.500000\n",
      "25%        0.500000\n",
      "50%       19.831513\n",
      "75%      142.321305\n",
      "max      563.000000\n",
      "Name: nameplate, dtype: float64\n",
      "2011 : count      8.000000\n",
      "mean     113.286048\n",
      "std      174.286100\n",
      "min        0.400000\n",
      "25%        1.025000\n",
      "50%       27.225846\n",
      "75%      137.302517\n",
      "max      450.000000\n",
      "Name: nameplate, dtype: float64\n",
      "2012 : count      8.000000\n",
      "mean     104.256347\n",
      "std      162.609928\n",
      "min        0.500000\n",
      "25%        1.887500\n",
      "50%       21.735976\n",
      "75%      126.421617\n",
      "max      400.000000\n",
      "Name: nameplate capacity (mw), dtype: float64\n",
      "2013 : count      8.000000\n",
      "mean     132.944508\n",
      "std      229.518414\n",
      "min        0.300000\n",
      "25%        3.250000\n",
      "50%       13.926102\n",
      "75%      130.302898\n",
      "max      590.000000\n",
      "Name: nameplate capacity (mw), dtype: float64\n"
     ]
    }
   ],
   "source": [
    "for x in range(2008,2014):\n",
    "    print(str(x) + \" : \" + str(calc_mean_capacity(makeGenOfTypeDF(x)).describe()))"
   ]
  },
  {
   "cell_type": "code",
   "execution_count": 60,
   "metadata": {},
   "outputs": [],
   "source": [
    "def makeCapacitySeries(df):\n",
    "    capVar = [i for i in df.columns if \"nameplate\" in i][0]\n",
    "    capList = pd.to_numeric(df[capVar])\n",
    "    return(capList)"
   ]
  },
  {
   "cell_type": "code",
   "execution_count": 94,
   "metadata": {
    "scrolled": true
   },
   "outputs": [
    {
     "data": {
      "text/plain": [
       "<matplotlib.axes._subplots.AxesSubplot at 0x126c37fd0>"
      ]
     },
     "execution_count": 94,
     "metadata": {},
     "output_type": "execute_result"
    },
    {
     "data": {
      "image/png": "[encoded data removed]",
      "text/plain": [
       "<Figure size 432x288 with 1 Axes>"
      ]
     },
     "metadata": {
      "needs_background": "light"
     },
     "output_type": "display_data"
    }
   ],
   "source": [
    "makeCapacitySeries(makeGenOfTypeDF(2012)).plot.hist()"
   ]
  },
  {
   "cell_type": "code",
   "execution_count": 118,
   "metadata": {},
   "outputs": [],
   "source": [
    "grant_recipients = pd.read_excel(\"../Data for Tax Equity Project/treasury_data/grant_awards.xlsx\", header=1)\n",
    "solar_grants = grant_recipients[[(\"Solar\" in str(i)) for i in grant_recipients['Technology']]]"
   ]
  },
  {
   "cell_type": "code",
   "execution_count": 124,
   "metadata": {},
   "outputs": [
    {
     "data": {
      "text/html": [
       "<div>\n",
       "<style scoped>\n",
       "    .dataframe tbody tr th:only-of-type {\n",
       "        vertical-align: middle;\n",
       "    }\n",
       "\n",
       "    .dataframe tbody tr th {\n",
       "        vertical-align: top;\n",
       "    }\n",
       "\n",
       "    .dataframe thead th {\n",
       "        text-align: right;\n",
       "    }\n",
       "</style>\n",
       "<table border=\"1\" class=\"dataframe\">\n",
       "  <thead>\n",
       "    <tr style=\"text-align: right;\">\n",
       "      <th></th>\n",
       "      <th>Business Name</th>\n",
       "      <th>State</th>\n",
       "      <th>Technology</th>\n",
       "      <th>Funded</th>\n",
       "      <th>Award Date</th>\n",
       "    </tr>\n",
       "  </thead>\n",
       "  <tbody>\n",
       "    <tr>\n",
       "      <td>3</td>\n",
       "      <td>Alaska Airlines Inc.</td>\n",
       "      <td>AK</td>\n",
       "      <td>Solar Electricity</td>\n",
       "      <td>19238.0</td>\n",
       "      <td>2012-07-10 00:00:00</td>\n",
       "    </tr>\n",
       "    <tr>\n",
       "      <td>4</td>\n",
       "      <td>Ron Levy Photography</td>\n",
       "      <td>AK</td>\n",
       "      <td>Solar Electricity</td>\n",
       "      <td>4010.0</td>\n",
       "      <td>2012-04-11 00:00:00</td>\n",
       "    </tr>\n",
       "    <tr>\n",
       "      <td>10</td>\n",
       "      <td>Atlantic Windshield Repair Inc</td>\n",
       "      <td>AL</td>\n",
       "      <td>Solar Electricity</td>\n",
       "      <td>8270.0</td>\n",
       "      <td>2012-12-17 00:00:00</td>\n",
       "    </tr>\n",
       "    <tr>\n",
       "      <td>11</td>\n",
       "      <td>BBVA Compass</td>\n",
       "      <td>AL</td>\n",
       "      <td>Solar Electricity</td>\n",
       "      <td>24000.0</td>\n",
       "      <td>2011-10-12 00:00:00</td>\n",
       "    </tr>\n",
       "    <tr>\n",
       "      <td>12</td>\n",
       "      <td>Classic Car</td>\n",
       "      <td>AL</td>\n",
       "      <td>Solar Electricity</td>\n",
       "      <td>45058.0</td>\n",
       "      <td>2012-12-17 00:00:00</td>\n",
       "    </tr>\n",
       "    <tr>\n",
       "      <td>...</td>\n",
       "      <td>...</td>\n",
       "      <td>...</td>\n",
       "      <td>...</td>\n",
       "      <td>...</td>\n",
       "      <td>...</td>\n",
       "    </tr>\n",
       "    <tr>\n",
       "      <td>9991</td>\n",
       "      <td>Silverthorn Properties LLC</td>\n",
       "      <td>WI</td>\n",
       "      <td>Solar Thermal</td>\n",
       "      <td>4065.0</td>\n",
       "      <td>2010-10-22 00:00:00</td>\n",
       "    </tr>\n",
       "    <tr>\n",
       "      <td>9992</td>\n",
       "      <td>Traveling Hunter Investments LLC</td>\n",
       "      <td>WI</td>\n",
       "      <td>Solar Thermal</td>\n",
       "      <td>8294.0</td>\n",
       "      <td>2010-08-25 00:00:00</td>\n",
       "    </tr>\n",
       "    <tr>\n",
       "      <td>10004</td>\n",
       "      <td>Sentry Security Systems, LLC</td>\n",
       "      <td>WV</td>\n",
       "      <td>Solar Electricity</td>\n",
       "      <td>480.0</td>\n",
       "      <td>2012-03-23 00:00:00</td>\n",
       "    </tr>\n",
       "    <tr>\n",
       "      <td>10005</td>\n",
       "      <td>B. Taylor Triea, LLC</td>\n",
       "      <td>WV</td>\n",
       "      <td>Solar Thermal</td>\n",
       "      <td>4977.0</td>\n",
       "      <td>2012-05-16 00:00:00</td>\n",
       "    </tr>\n",
       "    <tr>\n",
       "      <td>10010</td>\n",
       "      <td>Union Wireless</td>\n",
       "      <td>WY</td>\n",
       "      <td>Solar Electricity</td>\n",
       "      <td>64070.0</td>\n",
       "      <td>2013-03-14 00:00:00</td>\n",
       "    </tr>\n",
       "  </tbody>\n",
       "</table>\n",
       "<p>8534 rows × 5 columns</p>\n",
       "</div>"
      ],
      "text/plain": [
       "                          Business Name State         Technology   Funded  \\\n",
       "3                  Alaska Airlines Inc.    AK  Solar Electricity  19238.0   \n",
       "4                  Ron Levy Photography    AK  Solar Electricity   4010.0   \n",
       "10       Atlantic Windshield Repair Inc    AL  Solar Electricity   8270.0   \n",
       "11                         BBVA Compass    AL  Solar Electricity  24000.0   \n",
       "12                          Classic Car    AL  Solar Electricity  45058.0   \n",
       "...                                 ...   ...                ...      ...   \n",
       "9991         Silverthorn Properties LLC    WI      Solar Thermal   4065.0   \n",
       "9992   Traveling Hunter Investments LLC    WI      Solar Thermal   8294.0   \n",
       "10004      Sentry Security Systems, LLC    WV  Solar Electricity    480.0   \n",
       "10005              B. Taylor Triea, LLC    WV      Solar Thermal   4977.0   \n",
       "10010                    Union Wireless    WY  Solar Electricity  64070.0   \n",
       "\n",
       "                Award Date  \n",
       "3      2012-07-10 00:00:00  \n",
       "4      2012-04-11 00:00:00  \n",
       "10     2012-12-17 00:00:00  \n",
       "11     2011-10-12 00:00:00  \n",
       "12     2012-12-17 00:00:00  \n",
       "...                    ...  \n",
       "9991   2010-10-22 00:00:00  \n",
       "9992   2010-08-25 00:00:00  \n",
       "10004  2012-03-23 00:00:00  \n",
       "10005  2012-05-16 00:00:00  \n",
       "10010  2013-03-14 00:00:00  \n",
       "\n",
       "[8534 rows x 5 columns]"
      ]
     },
     "execution_count": 124,
     "metadata": {},
     "output_type": "execute_result"
    }
   ],
   "source": [
    "solar_grants"
   ]
  },
  {
   "cell_type": "code",
   "execution_count": null,
   "metadata": {},
   "outputs": [],
   "source": []
  },
  {
   "cell_type": "code",
   "execution_count": null,
   "metadata": {},
   "outputs": [],
   "source": []
  },
  {
   "cell_type": "code",
   "execution_count": null,
   "metadata": {},
   "outputs": [],
   "source": []
  },
  {
   "cell_type": "code",
   "execution_count": null,
   "metadata": {},
   "outputs": [],
   "source": []
  },
  {
   "cell_type": "code",
   "execution_count": null,
   "metadata": {},
   "outputs": [],
   "source": []
  },
  {
   "cell_type": "code",
   "execution_count": null,
   "metadata": {},
   "outputs": [],
   "source": []
  }
 ],
 "metadata": {
  "kernelspec": {
   "display_name": "Python 3",
   "language": "python",
   "name": "python3"
  },
  "language_info": {
   "codemirror_mode": {
    "name": "ipython",
    "version": 3
   },
   "file_extension": ".py",
   "mimetype": "text/x-python",
   "name": "python",
   "nbconvert_exporter": "python",
   "pygments_lexer": "ipython3",
   "version": "3.7.4"
  }
 },
 "nbformat": 4,
 "nbformat_minor": 2
}
