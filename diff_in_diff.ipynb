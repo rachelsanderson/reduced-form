{
 "cells": [
  {
   "cell_type": "raw",
   "metadata": {},
   "source": [
    "import pandas as pd\n",
    "\n",
    "## Questions:  How are multifuel counted? Are they eligible for tax credits? Are there renewables in multifuel files for 2007 and 2008"
   ]
  },
  {
   "cell_type": "code",
   "execution_count": 223,
   "metadata": {},
   "outputs": [],
   "source": [
    "### makeGenOfTypeDF -- Function that takes year, csv name, returns df of generators w/specific technology (tech_code)\n",
    "### or energy source (energy_code)\n",
    "### \n",
    "### Relevant tech_codes are: ST (Steam Turbine, including nuclear, geothermal and solar steam), \n",
    "###                          PV (Photovoltaic)\n",
    "###                          WT (Wind Turbine) ## changes to WS for offshore in 2018\n",
    "### \n",
    "### Relevant energy_codes are:  SUN (Solar -- Photovoltaic, Thermal)\n",
    "###                             WAT (Water -- Conventional, Pumped Storage)\n",
    "###                             WND (Wind)\n",
    "### TO DO:      Make more general for any CSV of this format(feed in file name)\n",
    "\n",
    "def makeGenOfTypeDF(year, tech_code=\"PV\", energy_code = \"SUN\"):\n",
    "    proposed_gen_df = pd.read_csv(\"../Data for Tax Equity Project/eia_data/eia860\" + str(year) + \"/proposed_gen_\" + str(year) + \".csv\")\n",
    "    proposed_gen_df.columns = map(str.lower, proposed_gen_df.columns)\n",
    "    pmList = ['prime_mover', 'prime mover', 'primemover']\n",
    "    enList = ['energy_source_1']\n",
    "    for pm in pmList:\n",
    "        if pm in proposed_gen_df.columns:\n",
    "            tech_df = proposed_gen_df[proposed_gen_df[pm]==tech_code]\n",
    "    for en in enList:\n",
    "        if en in proposed_gen_df.columns:\n",
    "            en_df = proposed_gen_df[proposed_gen_df[en]==energy_code]\n",
    "            tech_df = tech_df.combine_first(en_df)\n",
    "    return(tech_df)"
   ]
  },
  {
   "cell_type": "code",
   "execution_count": 225,
   "metadata": {},
   "outputs": [
    {
     "name": "stdout",
     "output_type": "stream",
     "text": [
      "2008: 48\n",
      "2009: 188\n",
      "2010: 357\n",
      "2011: 325\n",
      "2012: 328\n",
      "2013: 590\n"
     ]
    }
   ],
   "source": [
    "for x in range(2008,2014):\n",
    "    print(str(x) + \": \" + str(makeGenOfTypeDF(x).shape[0]))"
   ]
  },
  {
   "cell_type": "code",
   "execution_count": null,
   "metadata": {},
   "outputs": [],
   "source": []
  }
 ],
 "metadata": {
  "kernelspec": {
   "display_name": "Python 3",
   "language": "python",
   "name": "python3"
  },
  "language_info": {
   "codemirror_mode": {
    "name": "ipython",
    "version": 3
   },
   "file_extension": ".py",
   "mimetype": "text/x-python",
   "name": "python",
   "nbconvert_exporter": "python",
   "pygments_lexer": "ipython3",
   "version": "3.7.4"
  }
 },
 "nbformat": 4,
 "nbformat_minor": 2
}
