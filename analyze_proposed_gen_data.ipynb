{
 "cells": [
  {
   "cell_type": "code",
   "execution_count": 3,
   "metadata": {},
   "outputs": [],
   "source": [
    "import pandas as pd"
   ]
  },
  {
   "cell_type": "code",
   "execution_count": 19,
   "metadata": {},
   "outputs": [
    {
     "name": "stderr",
     "output_type": "stream",
     "text": [
      "/Users/rachelanderson/opt/anaconda3/lib/python3.7/site-packages/IPython/core/interactiveshell.py:3058: DtypeWarning: Columns (5,8,33,47) have mixed types. Specify dtype option on import or set low_memory=False.\n",
      "  interactivity=interactivity, compiler=compiler, result=result)\n"
     ]
    }
   ],
   "source": [
    "proposed_generators = pd.read_csv('../Tax Equity Code/Clean Data/proposed_gen_master_list.csv')\n",
    "proposed_generators = proposed_generators.drop(columns='Unnamed: 0')"
   ]
  },
  {
   "cell_type": "code",
   "execution_count": 23,
   "metadata": {},
   "outputs": [
    {
     "data": {
      "text/plain": [
       "Index(['bypass_heat_recovery', 'carbon_capture', 'chp', 'cofire_fuels',\n",
       "       'cogen', 'curr_sceheduled_month', 'curr_scheduled_year',\n",
       "       'distributed_gen', 'duct_burners', 'energy_source', 'energy_sources',\n",
       "       'fluidized_bed', 'generator_id', 'lmp_node', 'lmp_node_ferc',\n",
       "       'multiple_fuels', 'nameplate_cap', 'nameplate_power',\n",
       "       'num_turbines_inverters_buoys', 'num_wind_turbines',\n",
       "       'other_combustion_tech', 'ownership', 'plant_code', 'plant_county',\n",
       "       'plant_name', 'plant_state', 'previously_canceled', 'prime_mover',\n",
       "       'pulverized_coal', 'scheduled_start_month', 'scheduled_start_year',\n",
       "       'sector_name', 'sector_val', 'sfg_system', 'startup_source', 'status',\n",
       "       'stoker_tech', 'subcritical', 'summer_cap_eia', 'summer_cap_resp',\n",
       "       'supercritical', 'switch_oil_ng', 'technology', 'transportation',\n",
       "       'ultrasupercritical', 'unit_code', 'utility_id', 'utility_name',\n",
       "       'winter_cap_eia', 'winter_cap_resp', 'year'],\n",
       "      dtype='object')"
      ]
     },
     "execution_count": 23,
     "metadata": {},
     "output_type": "execute_result"
    }
   ],
   "source": [
    "proposed_generators.columns"
   ]
  },
  {
   "cell_type": "code",
   "execution_count": null,
   "metadata": {},
   "outputs": [],
   "source": [
    "good_cols = ['year', 'state',\n",
    "             'utility_id', 'utility_name',\n",
    "             'plant_name', 'plant_code', 'plant_county', 'generator_id', \n",
    "             'ownership', 'sector_name', 'sector_val',\n",
    "             'previously_canceled', \n",
    "             'scheduled_start_month', 'scheduled_start_year',\n",
    "             'curr_scheduled_month', 'curr_scheduled_year', \n",
    "             'energy_source',\n",
    "             'nameplate_cap',\n",
    "             \n",
    "        \n",
    "            ]"
   ]
  }
 ],
 "metadata": {
  "kernelspec": {
   "display_name": "Python 3",
   "language": "python",
   "name": "python3"
  },
  "language_info": {
   "codemirror_mode": {
    "name": "ipython",
    "version": 3
   },
   "file_extension": ".py",
   "mimetype": "text/x-python",
   "name": "python",
   "nbconvert_exporter": "python",
   "pygments_lexer": "ipython3",
   "version": "3.7.4"
  }
 },
 "nbformat": 4,
 "nbformat_minor": 2
}
